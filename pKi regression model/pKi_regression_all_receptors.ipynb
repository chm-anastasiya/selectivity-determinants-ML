{
 "cells": [
  {
   "cell_type": "code",
   "execution_count": null,
   "id": "2cca09e0-36f7-4d6e-9dc9-4ddb372c35fe",
   "metadata": {},
   "outputs": [
    {
     "data": {
      "application/vnd.jupyter.widget-view+json": {
       "model_id": "8f0bcffcc79b447bb89b02dcce904b66",
       "version_major": 2,
       "version_minor": 0
      },
      "text/plain": [
       "Batch:   0%|          | 0/6 [00:00<?, ?it/s]"
      ]
     },
     "metadata": {},
     "output_type": "display_data"
    },
    {
     "name": "stderr",
     "output_type": "stream",
     "text": [
      "[I 2025-06-14 21:13:05,082] A new study created in memory with name: no-name-2d9c1aa1-4923-4cf3-8c59-754658fe51dd\n"
     ]
    },
    {
     "name": "stdout",
     "output_type": "stream",
     "text": [
      "Training until validation scores don't improve for 100 rounds\n",
      "Early stopping, best iteration is:\n",
      "[198]\tvalid_0's l2: 0.403977\n",
      "Training until validation scores don't improve for 100 rounds\n",
      "Early stopping, best iteration is:\n",
      "[199]\tvalid_0's l2: 0.429481\n",
      "Training until validation scores don't improve for 100 rounds\n",
      "Early stopping, best iteration is:\n",
      "[415]\tvalid_0's l2: 0.47227\n",
      "Training until validation scores don't improve for 100 rounds\n",
      "Early stopping, best iteration is:\n",
      "[358]\tvalid_0's l2: 0.430849\n",
      "Training until validation scores don't improve for 100 rounds\n",
      "Early stopping, best iteration is:\n",
      "[301]\tvalid_0's l2: 0.414722\n"
     ]
    },
    {
     "name": "stderr",
     "output_type": "stream",
     "text": [
      "[I 2025-06-14 21:15:46,312] Trial 0 finished with value: 0.6599059164129638 and parameters: {'lr': 0.03574712922600244, 'leaves': 255, 'ff': 0.892797576724562, 'bf': 0.8394633936788146}. Best is trial 0 with value: 0.6599059164129638.\n"
     ]
    },
    {
     "name": "stdout",
     "output_type": "stream",
     "text": [
      "Training until validation scores don't improve for 100 rounds\n",
      "Early stopping, best iteration is:\n",
      "[968]\tvalid_0's l2: 0.404348\n",
      "Training until validation scores don't improve for 100 rounds\n",
      "Early stopping, best iteration is:\n",
      "[809]\tvalid_0's l2: 0.428076\n",
      "Training until validation scores don't improve for 100 rounds\n",
      "Early stopping, best iteration is:\n",
      "[1141]\tvalid_0's l2: 0.457975\n",
      "Training until validation scores don't improve for 100 rounds\n",
      "Early stopping, best iteration is:\n",
      "[922]\tvalid_0's l2: 0.417922\n",
      "Training until validation scores don't improve for 100 rounds\n",
      "Early stopping, best iteration is:\n",
      "[882]\tvalid_0's l2: 0.413036\n"
     ]
    },
    {
     "name": "stderr",
     "output_type": "stream",
     "text": [
      "[I 2025-06-14 21:17:39,460] Trial 1 finished with value: 0.66449828546907 and parameters: {'lr': 0.01700037298921102, 'leaves': 63, 'ff': 0.6232334448672797, 'bf': 0.9464704583099741}. Best is trial 1 with value: 0.66449828546907.\n"
     ]
    },
    {
     "name": "stdout",
     "output_type": "stream",
     "text": [
      "Training until validation scores don't improve for 100 rounds\n",
      "Early stopping, best iteration is:\n",
      "[104]\tvalid_0's l2: 0.415729\n",
      "Training until validation scores don't improve for 100 rounds\n",
      "Early stopping, best iteration is:\n",
      "[101]\tvalid_0's l2: 0.437358\n",
      "Training until validation scores don't improve for 100 rounds\n",
      "Early stopping, best iteration is:\n",
      "[241]\tvalid_0's l2: 0.471756\n",
      "Training until validation scores don't improve for 100 rounds\n",
      "Early stopping, best iteration is:\n",
      "[136]\tvalid_0's l2: 0.432178\n",
      "Training until validation scores don't improve for 100 rounds\n"
     ]
    },
    {
     "name": "stderr",
     "output_type": "stream",
     "text": [
      "[I 2025-06-14 21:18:05,434] Trial 2 finished with value: 0.6532792224419468 and parameters: {'lr': 0.07725378389307355, 'leaves': 191, 'ff': 0.608233797718321, 'bf': 0.9879639408647978}. Best is trial 1 with value: 0.66449828546907.\n"
     ]
    },
    {
     "name": "stdout",
     "output_type": "stream",
     "text": [
      "Early stopping, best iteration is:\n",
      "[166]\tvalid_0's l2: 0.435414\n",
      "Training until validation scores don't improve for 100 rounds\n",
      "Early stopping, best iteration is:\n",
      "[56]\tvalid_0's l2: 0.418229\n",
      "Training until validation scores don't improve for 100 rounds\n",
      "Early stopping, best iteration is:\n",
      "[61]\tvalid_0's l2: 0.481833\n",
      "Training until validation scores don't improve for 100 rounds\n",
      "Early stopping, best iteration is:\n",
      "[94]\tvalid_0's l2: 0.495779\n",
      "Training until validation scores don't improve for 100 rounds\n",
      "Early stopping, best iteration is:\n",
      "[129]\tvalid_0's l2: 0.457266\n",
      "Training until validation scores don't improve for 100 rounds\n"
     ]
    },
    {
     "name": "stderr",
     "output_type": "stream",
     "text": [
      "[I 2025-06-14 21:18:19,515] Trial 3 finished with value: 0.6355233166559235 and parameters: {'lr': 0.16967533607196555, 'leaves': 79, 'ff': 0.6727299868828402, 'bf': 0.6733618039413735}. Best is trial 1 with value: 0.66449828546907.\n"
     ]
    },
    {
     "name": "stdout",
     "output_type": "stream",
     "text": [
      "Early stopping, best iteration is:\n",
      "[65]\tvalid_0's l2: 0.453465\n",
      "Training until validation scores don't improve for 100 rounds\n",
      "Early stopping, best iteration is:\n",
      "[348]\tvalid_0's l2: 0.399504\n",
      "Training until validation scores don't improve for 100 rounds\n",
      "Early stopping, best iteration is:\n",
      "[356]\tvalid_0's l2: 0.434367\n",
      "Training until validation scores don't improve for 100 rounds\n",
      "Early stopping, best iteration is:\n",
      "[598]\tvalid_0's l2: 0.464983\n",
      "Training until validation scores don't improve for 100 rounds\n",
      "Early stopping, best iteration is:\n",
      "[399]\tvalid_0's l2: 0.43354\n",
      "Training until validation scores don't improve for 100 rounds\n",
      "Early stopping, best iteration is:\n",
      "[480]\tvalid_0's l2: 0.414487\n"
     ]
    },
    {
     "name": "stderr",
     "output_type": "stream",
     "text": [
      "[I 2025-06-14 21:19:15,560] Trial 4 finished with value: 0.6605591723989519 and parameters: {'lr': 0.028145092716060652, 'leaves': 143, 'ff': 0.7727780074568463, 'bf': 0.7164916560792167}. Best is trial 1 with value: 0.66449828546907.\n"
     ]
    },
    {
     "name": "stdout",
     "output_type": "stream",
     "text": [
      "Training until validation scores don't improve for 100 rounds\n",
      "Early stopping, best iteration is:\n",
      "[173]\tvalid_0's l2: 0.417722\n",
      "Training until validation scores don't improve for 100 rounds\n",
      "Early stopping, best iteration is:\n",
      "[163]\tvalid_0's l2: 0.433072\n",
      "Training until validation scores don't improve for 100 rounds\n",
      "Early stopping, best iteration is:\n",
      "[277]\tvalid_0's l2: 0.477261\n",
      "Training until validation scores don't improve for 100 rounds\n",
      "Early stopping, best iteration is:\n",
      "[175]\tvalid_0's l2: 0.429911\n",
      "Training until validation scores don't improve for 100 rounds\n"
     ]
    },
    {
     "name": "stderr",
     "output_type": "stream",
     "text": [
      "[I 2025-06-14 21:19:33,777] Trial 5 finished with value: 0.6539755126562085 and parameters: {'lr': 0.08012737503998542, 'leaves': 63, 'ff': 0.7168578594140873, 'bf': 0.7465447373174767}. Best is trial 1 with value: 0.66449828546907.\n"
     ]
    },
    {
     "name": "stdout",
     "output_type": "stream",
     "text": [
      "Early stopping, best iteration is:\n",
      "[128]\tvalid_0's l2: 0.430327\n",
      "Training until validation scores don't improve for 100 rounds\n",
      "Early stopping, best iteration is:\n",
      "[259]\tvalid_0's l2: 0.415723\n",
      "Training until validation scores don't improve for 100 rounds\n",
      "Early stopping, best iteration is:\n",
      "[196]\tvalid_0's l2: 0.439212\n",
      "Training until validation scores don't improve for 100 rounds\n",
      "Early stopping, best iteration is:\n",
      "[264]\tvalid_0's l2: 0.4683\n",
      "Training until validation scores don't improve for 100 rounds\n",
      "Early stopping, best iteration is:\n",
      "[275]\tvalid_0's l2: 0.441382\n",
      "Training until validation scores don't improve for 100 rounds\n"
     ]
    },
    {
     "name": "stderr",
     "output_type": "stream",
     "text": [
      "[I 2025-06-14 21:20:04,129] Trial 6 finished with value: 0.6536065862798488 and parameters: {'lr': 0.04717052037625178, 'leaves': 207, 'ff': 0.6798695128633439, 'bf': 0.8056937753654446}. Best is trial 1 with value: 0.66449828546907.\n"
     ]
    },
    {
     "name": "stdout",
     "output_type": "stream",
     "text": [
      "Early stopping, best iteration is:\n",
      "[277]\tvalid_0's l2: 0.424925\n",
      "Training until validation scores don't improve for 100 rounds\n",
      "Early stopping, best iteration is:\n",
      "[319]\tvalid_0's l2: 0.40693\n",
      "Training until validation scores don't improve for 100 rounds\n",
      "Early stopping, best iteration is:\n",
      "[417]\tvalid_0's l2: 0.449011\n",
      "Training until validation scores don't improve for 100 rounds\n",
      "Early stopping, best iteration is:\n",
      "[521]\tvalid_0's l2: 0.465915\n",
      "Training until validation scores don't improve for 100 rounds\n",
      "Early stopping, best iteration is:\n",
      "[411]\tvalid_0's l2: 0.419912\n",
      "Training until validation scores don't improve for 100 rounds\n"
     ]
    },
    {
     "name": "stderr",
     "output_type": "stream",
     "text": [
      "[I 2025-06-14 21:20:55,594] Trial 7 finished with value: 0.6567653665824331 and parameters: {'lr': 0.07500118950416987, 'leaves': 31, 'ff': 0.8430179407605753, 'bf': 0.6682096494749166}. Best is trial 1 with value: 0.66449828546907.\n"
     ]
    },
    {
     "name": "stdout",
     "output_type": "stream",
     "text": [
      "Early stopping, best iteration is:\n",
      "[445]\tvalid_0's l2: 0.429426\n",
      "Training until validation scores don't improve for 100 rounds\n",
      "Early stopping, best iteration is:\n",
      "[784]\tvalid_0's l2: 0.403768\n",
      "Training until validation scores don't improve for 100 rounds\n",
      "Early stopping, best iteration is:\n",
      "[537]\tvalid_0's l2: 0.429396\n",
      "Training until validation scores don't improve for 100 rounds\n",
      "Early stopping, best iteration is:\n",
      "[1009]\tvalid_0's l2: 0.475482\n",
      "Training until validation scores don't improve for 100 rounds\n",
      "Early stopping, best iteration is:\n",
      "[893]\tvalid_0's l2: 0.437199\n",
      "Training until validation scores don't improve for 100 rounds\n",
      "Early stopping, best iteration is:\n",
      "[770]\tvalid_0's l2: 0.424429\n"
     ]
    },
    {
     "name": "stderr",
     "output_type": "stream",
     "text": [
      "[I 2025-06-14 21:23:53,826] Trial 8 finished with value: 0.656943519766278 and parameters: {'lr': 0.012476394272569451, 'leaves': 255, 'ff': 0.9862528132298237, 'bf': 0.9233589392465844}. Best is trial 1 with value: 0.66449828546907.\n"
     ]
    },
    {
     "name": "stdout",
     "output_type": "stream",
     "text": [
      "Training until validation scores don't improve for 100 rounds\n",
      "Early stopping, best iteration is:\n",
      "[585]\tvalid_0's l2: 0.408304\n",
      "Training until validation scores don't improve for 100 rounds\n",
      "Early stopping, best iteration is:\n",
      "[547]\tvalid_0's l2: 0.432476\n",
      "Training until validation scores don't improve for 100 rounds\n",
      "Early stopping, best iteration is:\n",
      "[1034]\tvalid_0's l2: 0.455789\n",
      "Training until validation scores don't improve for 100 rounds\n",
      "Early stopping, best iteration is:\n",
      "[734]\tvalid_0's l2: 0.426511\n",
      "Training until validation scores don't improve for 100 rounds\n",
      "Early stopping, best iteration is:\n",
      "[589]\tvalid_0's l2: 0.409962\n"
     ]
    },
    {
     "name": "stderr",
     "output_type": "stream",
     "text": [
      "[I 2025-06-14 21:25:00,885] Trial 9 finished with value: 0.6625074637482418 and parameters: {'lr': 0.028180680291847244, 'leaves': 47, 'ff': 0.8736932106048627, 'bf': 0.7760609974958406}. Best is trial 1 with value: 0.66449828546907.\n"
     ]
    },
    {
     "name": "stdout",
     "output_type": "stream",
     "text": [
      "Training until validation scores don't improve for 100 rounds\n",
      "Early stopping, best iteration is:\n",
      "[1020]\tvalid_0's l2: 0.398628\n",
      "Training until validation scores don't improve for 100 rounds\n",
      "Early stopping, best iteration is:\n",
      "[810]\tvalid_0's l2: 0.425305\n",
      "Training until validation scores don't improve for 100 rounds\n",
      "Early stopping, best iteration is:\n",
      "[1420]\tvalid_0's l2: 0.464874\n",
      "Training until validation scores don't improve for 100 rounds\n",
      "Early stopping, best iteration is:\n",
      "[1053]\tvalid_0's l2: 0.427336\n",
      "Training until validation scores don't improve for 100 rounds\n",
      "Early stopping, best iteration is:\n",
      "[933]\tvalid_0's l2: 0.417305\n"
     ]
    },
    {
     "name": "stderr",
     "output_type": "stream",
     "text": [
      "[I 2025-06-14 21:26:57,300] Trial 10 finished with value: 0.6627227593427649 and parameters: {'lr': 0.010764168942978037, 'leaves': 111, 'ff': 0.6030189277265172, 'bf': 0.8878899049498932}. Best is trial 1 with value: 0.66449828546907.\n"
     ]
    },
    {
     "name": "stdout",
     "output_type": "stream",
     "text": [
      "Training until validation scores don't improve for 100 rounds\n",
      "Early stopping, best iteration is:\n",
      "[976]\tvalid_0's l2: 0.40672\n",
      "Training until validation scores don't improve for 100 rounds\n",
      "Early stopping, best iteration is:\n",
      "[841]\tvalid_0's l2: 0.426164\n",
      "Training until validation scores don't improve for 100 rounds\n",
      "Early stopping, best iteration is:\n",
      "[1368]\tvalid_0's l2: 0.462533\n",
      "Training until validation scores don't improve for 100 rounds\n",
      "Early stopping, best iteration is:\n",
      "[1334]\tvalid_0's l2: 0.426984\n",
      "Training until validation scores don't improve for 100 rounds\n",
      "Early stopping, best iteration is:\n",
      "[949]\tvalid_0's l2: 0.417981\n"
     ]
    },
    {
     "name": "stderr",
     "output_type": "stream",
     "text": [
      "[I 2025-06-14 21:28:14,334] Trial 11 finished with value: 0.6614756387396693 and parameters: {'lr': 0.010536588309951599, 'leaves': 111, 'ff': 0.6059048780650395, 'bf': 0.9116956572038488}. Best is trial 1 with value: 0.66449828546907.\n"
     ]
    },
    {
     "name": "stdout",
     "output_type": "stream",
     "text": [
      "Training until validation scores don't improve for 100 rounds\n",
      "Early stopping, best iteration is:\n",
      "[213]\tvalid_0's l2: 0.425534\n",
      "Training until validation scores don't improve for 100 rounds\n",
      "Early stopping, best iteration is:\n",
      "[147]\tvalid_0's l2: 0.447959\n",
      "Training until validation scores don't improve for 100 rounds\n",
      "Early stopping, best iteration is:\n",
      "[381]\tvalid_0's l2: 0.477238\n",
      "Training until validation scores don't improve for 100 rounds\n",
      "Early stopping, best iteration is:\n",
      "[300]\tvalid_0's l2: 0.430386\n",
      "Training until validation scores don't improve for 100 rounds\n",
      "Early stopping, best iteration is:\n",
      "[256]\tvalid_0's l2: 0.422214\n"
     ]
    },
    {
     "name": "stderr",
     "output_type": "stream",
     "text": [
      "[I 2025-06-14 21:28:42,358] A new study created in memory with name: no-name-26d6d498-273e-4f58-996e-e1571a0068a0\n"
     ]
    },
    {
     "name": "stdout",
     "output_type": "stream",
     "text": [
      "Training until validation scores don't improve for 100 rounds\n",
      "Early stopping, best iteration is:\n",
      "[269]\tvalid_0's l2: 0.44554\n",
      "Training until validation scores don't improve for 100 rounds\n",
      "Early stopping, best iteration is:\n",
      "[393]\tvalid_0's l2: 0.414535\n",
      "Training until validation scores don't improve for 100 rounds\n",
      "Early stopping, best iteration is:\n",
      "[295]\tvalid_0's l2: 0.407222\n",
      "Training until validation scores don't improve for 100 rounds\n",
      "Early stopping, best iteration is:\n",
      "[660]\tvalid_0's l2: 0.398427\n",
      "Training until validation scores don't improve for 100 rounds\n"
     ]
    },
    {
     "name": "stderr",
     "output_type": "stream",
     "text": [
      "[I 2025-06-14 21:29:15,296] Trial 0 finished with value: 0.7016365405379499 and parameters: {'lr': 0.03574712922600244, 'leaves': 255, 'ff': 0.892797576724562, 'bf': 0.8394633936788146}. Best is trial 0 with value: 0.7016365405379499.\n"
     ]
    },
    {
     "name": "stdout",
     "output_type": "stream",
     "text": [
      "Early stopping, best iteration is:\n",
      "[359]\tvalid_0's l2: 0.415865\n",
      "Training until validation scores don't improve for 100 rounds\n",
      "Early stopping, best iteration is:\n",
      "[791]\tvalid_0's l2: 0.43346\n",
      "Training until validation scores don't improve for 100 rounds\n",
      "Early stopping, best iteration is:\n",
      "[1141]\tvalid_0's l2: 0.412288\n",
      "Training until validation scores don't improve for 100 rounds\n",
      "Early stopping, best iteration is:\n",
      "[641]\tvalid_0's l2: 0.39743\n",
      "Training until validation scores don't improve for 100 rounds\n",
      "Early stopping, best iteration is:\n",
      "[1597]\tvalid_0's l2: 0.388774\n",
      "Training until validation scores don't improve for 100 rounds\n",
      "Early stopping, best iteration is:\n",
      "[740]\tvalid_0's l2: 0.409295\n"
     ]
    },
    {
     "name": "stderr",
     "output_type": "stream",
     "text": [
      "[I 2025-06-14 21:30:06,382] Trial 1 finished with value: 0.7073637175780259 and parameters: {'lr': 0.01700037298921102, 'leaves': 63, 'ff': 0.6232334448672797, 'bf': 0.9464704583099741}. Best is trial 1 with value: 0.7073637175780259.\n"
     ]
    },
    {
     "name": "stdout",
     "output_type": "stream",
     "text": [
      "Training until validation scores don't improve for 100 rounds\n",
      "Early stopping, best iteration is:\n",
      "[106]\tvalid_0's l2: 0.459917\n",
      "Training until validation scores don't improve for 100 rounds\n",
      "Early stopping, best iteration is:\n",
      "[176]\tvalid_0's l2: 0.412936\n",
      "Training until validation scores don't improve for 100 rounds\n",
      "Early stopping, best iteration is:\n",
      "[110]\tvalid_0's l2: 0.408497\n",
      "Training until validation scores don't improve for 100 rounds\n",
      "Early stopping, best iteration is:\n",
      "[299]\tvalid_0's l2: 0.410687\n",
      "Training until validation scores don't improve for 100 rounds\n"
     ]
    },
    {
     "name": "stderr",
     "output_type": "stream",
     "text": [
      "[I 2025-06-14 21:30:28,291] Trial 2 finished with value: 0.6959402228576785 and parameters: {'lr': 0.07725378389307355, 'leaves': 191, 'ff': 0.608233797718321, 'bf': 0.9879639408647978}. Best is trial 1 with value: 0.7073637175780259.\n"
     ]
    },
    {
     "name": "stdout",
     "output_type": "stream",
     "text": [
      "Early stopping, best iteration is:\n",
      "[153]\tvalid_0's l2: 0.4289\n",
      "Training until validation scores don't improve for 100 rounds\n",
      "Early stopping, best iteration is:\n",
      "[83]\tvalid_0's l2: 0.461145\n",
      "Training until validation scores don't improve for 100 rounds\n",
      "Early stopping, best iteration is:\n",
      "[104]\tvalid_0's l2: 0.447989\n",
      "Training until validation scores don't improve for 100 rounds\n",
      "Early stopping, best iteration is:\n",
      "[67]\tvalid_0's l2: 0.447475\n",
      "Training until validation scores don't improve for 100 rounds\n",
      "Early stopping, best iteration is:\n",
      "[166]\tvalid_0's l2: 0.442063\n",
      "Training until validation scores don't improve for 100 rounds\n"
     ]
    },
    {
     "name": "stderr",
     "output_type": "stream",
     "text": [
      "[I 2025-06-14 21:30:37,611] Trial 3 finished with value: 0.6776408491885395 and parameters: {'lr': 0.16967533607196555, 'leaves': 79, 'ff': 0.6727299868828402, 'bf': 0.6733618039413735}. Best is trial 1 with value: 0.7073637175780259.\n"
     ]
    },
    {
     "name": "stdout",
     "output_type": "stream",
     "text": [
      "Early stopping, best iteration is:\n",
      "[90]\tvalid_0's l2: 0.451334\n",
      "Training until validation scores don't improve for 100 rounds\n",
      "Early stopping, best iteration is:\n",
      "[422]\tvalid_0's l2: 0.427386\n",
      "Training until validation scores don't improve for 100 rounds\n",
      "Early stopping, best iteration is:\n",
      "[457]\tvalid_0's l2: 0.41055\n",
      "Training until validation scores don't improve for 100 rounds\n",
      "Early stopping, best iteration is:\n",
      "[500]\tvalid_0's l2: 0.402896\n",
      "Training until validation scores don't improve for 100 rounds\n",
      "Early stopping, best iteration is:\n",
      "[754]\tvalid_0's l2: 0.393056\n",
      "Training until validation scores don't improve for 100 rounds\n",
      "Early stopping, best iteration is:\n",
      "[772]\tvalid_0's l2: 0.419542\n"
     ]
    },
    {
     "name": "stderr",
     "output_type": "stream",
     "text": [
      "[I 2025-06-14 21:31:15,456] Trial 4 finished with value: 0.705648012601322 and parameters: {'lr': 0.028145092716060652, 'leaves': 143, 'ff': 0.7727780074568463, 'bf': 0.7164916560792167}. Best is trial 1 with value: 0.7073637175780259.\n"
     ]
    },
    {
     "name": "stdout",
     "output_type": "stream",
     "text": [
      "Training until validation scores don't improve for 100 rounds\n",
      "Early stopping, best iteration is:\n",
      "[157]\tvalid_0's l2: 0.445068\n",
      "Training until validation scores don't improve for 100 rounds\n",
      "Early stopping, best iteration is:\n",
      "[165]\tvalid_0's l2: 0.434292\n",
      "Training until validation scores don't improve for 100 rounds\n",
      "Early stopping, best iteration is:\n",
      "[222]\tvalid_0's l2: 0.416645\n",
      "Training until validation scores don't improve for 100 rounds\n",
      "Early stopping, best iteration is:\n",
      "[265]\tvalid_0's l2: 0.392515\n",
      "Training until validation scores don't improve for 100 rounds\n"
     ]
    },
    {
     "name": "stderr",
     "output_type": "stream",
     "text": [
      "[I 2025-06-14 21:31:31,274] Trial 5 finished with value: 0.6969906452280397 and parameters: {'lr': 0.08012737503998542, 'leaves': 63, 'ff': 0.7168578594140873, 'bf': 0.7465447373174767}. Best is trial 1 with value: 0.7073637175780259.\n"
     ]
    },
    {
     "name": "stdout",
     "output_type": "stream",
     "text": [
      "Early stopping, best iteration is:\n",
      "[329]\tvalid_0's l2: 0.425045\n",
      "Training until validation scores don't improve for 100 rounds\n",
      "Early stopping, best iteration is:\n",
      "[220]\tvalid_0's l2: 0.440165\n",
      "Training until validation scores don't improve for 100 rounds\n",
      "Early stopping, best iteration is:\n",
      "[282]\tvalid_0's l2: 0.412612\n",
      "Training until validation scores don't improve for 100 rounds\n",
      "Early stopping, best iteration is:\n",
      "[258]\tvalid_0's l2: 0.414216\n",
      "Training until validation scores don't improve for 100 rounds\n",
      "Early stopping, best iteration is:\n",
      "[616]\tvalid_0's l2: 0.396213\n",
      "Training until validation scores don't improve for 100 rounds\n"
     ]
    },
    {
     "name": "stderr",
     "output_type": "stream",
     "text": [
      "[I 2025-06-14 21:31:56,870] Trial 6 finished with value: 0.7023800341113949 and parameters: {'lr': 0.04717052037625178, 'leaves': 207, 'ff': 0.6798695128633439, 'bf': 0.8056937753654446}. Best is trial 1 with value: 0.7073637175780259.\n"
     ]
    },
    {
     "name": "stdout",
     "output_type": "stream",
     "text": [
      "Early stopping, best iteration is:\n",
      "[363]\tvalid_0's l2: 0.413917\n",
      "Training until validation scores don't improve for 100 rounds\n",
      "Early stopping, best iteration is:\n",
      "[299]\tvalid_0's l2: 0.446509\n",
      "Training until validation scores don't improve for 100 rounds\n",
      "Early stopping, best iteration is:\n",
      "[383]\tvalid_0's l2: 0.414535\n",
      "Training until validation scores don't improve for 100 rounds\n",
      "Early stopping, best iteration is:\n",
      "[197]\tvalid_0's l2: 0.411001\n",
      "Training until validation scores don't improve for 100 rounds\n",
      "Early stopping, best iteration is:\n",
      "[381]\tvalid_0's l2: 0.413222\n",
      "Training until validation scores don't improve for 100 rounds\n"
     ]
    },
    {
     "name": "stderr",
     "output_type": "stream",
     "text": [
      "[I 2025-06-14 21:32:10,608] Trial 7 finished with value: 0.6990106356574752 and parameters: {'lr': 0.07500118950416987, 'leaves': 31, 'ff': 0.8430179407605753, 'bf': 0.6682096494749166}. Best is trial 1 with value: 0.7073637175780259.\n"
     ]
    },
    {
     "name": "stdout",
     "output_type": "stream",
     "text": [
      "Early stopping, best iteration is:\n",
      "[685]\tvalid_0's l2: 0.415217\n",
      "Training until validation scores don't improve for 100 rounds\n",
      "Early stopping, best iteration is:\n",
      "[764]\tvalid_0's l2: 0.432668\n",
      "Training until validation scores don't improve for 100 rounds\n",
      "Early stopping, best iteration is:\n",
      "[911]\tvalid_0's l2: 0.411937\n",
      "Training until validation scores don't improve for 100 rounds\n",
      "Early stopping, best iteration is:\n",
      "[824]\tvalid_0's l2: 0.400935\n",
      "Training until validation scores don't improve for 100 rounds\n",
      "Early stopping, best iteration is:\n",
      "[1628]\tvalid_0's l2: 0.396985\n",
      "Training until validation scores don't improve for 100 rounds\n",
      "Early stopping, best iteration is:\n",
      "[987]\tvalid_0's l2: 0.420326\n"
     ]
    },
    {
     "name": "stderr",
     "output_type": "stream",
     "text": [
      "[I 2025-06-14 21:35:02,724] Trial 8 finished with value: 0.704263588764227 and parameters: {'lr': 0.012476394272569451, 'leaves': 255, 'ff': 0.9862528132298237, 'bf': 0.9233589392465844}. Best is trial 1 with value: 0.7073637175780259.\n"
     ]
    },
    {
     "name": "stdout",
     "output_type": "stream",
     "text": [
      "Training until validation scores don't improve for 100 rounds\n",
      "Early stopping, best iteration is:\n",
      "[598]\tvalid_0's l2: 0.429732\n",
      "Training until validation scores don't improve for 100 rounds\n",
      "Early stopping, best iteration is:\n",
      "[632]\tvalid_0's l2: 0.417169\n",
      "Training until validation scores don't improve for 100 rounds\n",
      "Early stopping, best iteration is:\n",
      "[588]\tvalid_0's l2: 0.398902\n",
      "Training until validation scores don't improve for 100 rounds\n",
      "Early stopping, best iteration is:\n",
      "[1255]\tvalid_0's l2: 0.400537\n",
      "Training until validation scores don't improve for 100 rounds\n"
     ]
    },
    {
     "name": "stderr",
     "output_type": "stream",
     "text": [
      "[I 2025-06-14 21:37:02,117] Trial 9 finished with value: 0.704064228901655 and parameters: {'lr': 0.028180680291847244, 'leaves': 47, 'ff': 0.8736932106048627, 'bf': 0.7760609974958406}. Best is trial 1 with value: 0.7073637175780259.\n"
     ]
    },
    {
     "name": "stdout",
     "output_type": "stream",
     "text": [
      "Early stopping, best iteration is:\n",
      "[648]\tvalid_0's l2: 0.417789\n",
      "Training until validation scores don't improve for 100 rounds\n",
      "Early stopping, best iteration is:\n",
      "[1049]\tvalid_0's l2: 0.431714\n",
      "Training until validation scores don't improve for 100 rounds\n",
      "Early stopping, best iteration is:\n",
      "[1131]\tvalid_0's l2: 0.406548\n",
      "Training until validation scores don't improve for 100 rounds\n",
      "Early stopping, best iteration is:\n",
      "[1029]\tvalid_0's l2: 0.401425\n",
      "Training until validation scores don't improve for 100 rounds\n",
      "Did not meet early stopping. Best iteration is:\n",
      "[1909]\tvalid_0's l2: 0.388025\n",
      "Training until validation scores don't improve for 100 rounds\n",
      "Early stopping, best iteration is:\n",
      "[1410]\tvalid_0's l2: 0.405679\n"
     ]
    },
    {
     "name": "stderr",
     "output_type": "stream",
     "text": [
      "[I 2025-06-14 21:43:02,730] Trial 10 finished with value: 0.7085848733628788 and parameters: {'lr': 0.010764168942978037, 'leaves': 111, 'ff': 0.6030189277265172, 'bf': 0.8878899049498932}. Best is trial 10 with value: 0.7085848733628788.\n"
     ]
    },
    {
     "name": "stdout",
     "output_type": "stream",
     "text": [
      "Training until validation scores don't improve for 100 rounds\n",
      "Early stopping, best iteration is:\n",
      "[953]\tvalid_0's l2: 0.431419\n",
      "Training until validation scores don't improve for 100 rounds\n",
      "Early stopping, best iteration is:\n",
      "[1100]\tvalid_0's l2: 0.407923\n",
      "Training until validation scores don't improve for 100 rounds\n",
      "Early stopping, best iteration is:\n",
      "[1048]\tvalid_0's l2: 0.400601\n",
      "Training until validation scores don't improve for 100 rounds\n",
      "Did not meet early stopping. Best iteration is:\n",
      "[1982]\tvalid_0's l2: 0.383762\n",
      "Training until validation scores don't improve for 100 rounds\n",
      "Early stopping, best iteration is:\n",
      "[1360]\tvalid_0's l2: 0.408775\n"
     ]
    },
    {
     "name": "stderr",
     "output_type": "stream",
     "text": [
      "[I 2025-06-14 21:46:12,972] Trial 11 finished with value: 0.708670394071144 and parameters: {'lr': 0.010536588309951599, 'leaves': 111, 'ff': 0.6059048780650395, 'bf': 0.9116956572038488}. Best is trial 11 with value: 0.708670394071144.\n"
     ]
    },
    {
     "name": "stdout",
     "output_type": "stream",
     "text": [
      "Training until validation scores don't improve for 100 rounds\n",
      "Early stopping, best iteration is:\n",
      "[208]\tvalid_0's l2: 0.458533\n",
      "Training until validation scores don't improve for 100 rounds\n",
      "Early stopping, best iteration is:\n",
      "[324]\tvalid_0's l2: 0.439816\n",
      "Training until validation scores don't improve for 100 rounds\n",
      "Early stopping, best iteration is:\n",
      "[231]\tvalid_0's l2: 0.409187\n",
      "Training until validation scores don't improve for 100 rounds\n",
      "Early stopping, best iteration is:\n",
      "[513]\tvalid_0's l2: 0.418459\n",
      "Training until validation scores don't improve for 100 rounds\n",
      "Early stopping, best iteration is:\n",
      "[413]\tvalid_0's l2: 0.426964\n"
     ]
    },
    {
     "name": "stderr",
     "output_type": "stream",
     "text": [
      "[I 2025-06-14 21:46:36,019] A new study created in memory with name: no-name-6116033b-d438-455d-bc6e-6427b48555a5\n"
     ]
    },
    {
     "name": "stdout",
     "output_type": "stream",
     "text": [
      "Training until validation scores don't improve for 100 rounds\n",
      "Early stopping, best iteration is:\n",
      "[341]\tvalid_0's l2: 0.432271\n",
      "Training until validation scores don't improve for 100 rounds\n",
      "Early stopping, best iteration is:\n",
      "[275]\tvalid_0's l2: 0.457619\n",
      "Training until validation scores don't improve for 100 rounds\n",
      "Early stopping, best iteration is:\n",
      "[355]\tvalid_0's l2: 0.364249\n",
      "Training until validation scores don't improve for 100 rounds\n",
      "Early stopping, best iteration is:\n",
      "[272]\tvalid_0's l2: 0.442611\n",
      "Training until validation scores don't improve for 100 rounds\n"
     ]
    },
    {
     "name": "stderr",
     "output_type": "stream",
     "text": [
      "[I 2025-06-14 21:46:50,540] Trial 0 finished with value: 0.517022077004966 and parameters: {'lr': 0.03574712922600244, 'leaves': 255, 'ff': 0.892797576724562, 'bf': 0.8394633936788146}. Best is trial 0 with value: 0.517022077004966.\n"
     ]
    },
    {
     "name": "stdout",
     "output_type": "stream",
     "text": [
      "Early stopping, best iteration is:\n",
      "[528]\tvalid_0's l2: 0.479354\n",
      "Training until validation scores don't improve for 100 rounds\n",
      "Early stopping, best iteration is:\n",
      "[765]\tvalid_0's l2: 0.433816\n",
      "Training until validation scores don't improve for 100 rounds\n",
      "Early stopping, best iteration is:\n",
      "[646]\tvalid_0's l2: 0.467267\n",
      "Training until validation scores don't improve for 100 rounds\n",
      "Early stopping, best iteration is:\n",
      "[557]\tvalid_0's l2: 0.363768\n",
      "Training until validation scores don't improve for 100 rounds\n",
      "Early stopping, best iteration is:\n",
      "[542]\tvalid_0's l2: 0.437051\n",
      "Training until validation scores don't improve for 100 rounds\n"
     ]
    },
    {
     "name": "stderr",
     "output_type": "stream",
     "text": [
      "[I 2025-06-14 21:47:08,032] Trial 1 finished with value: 0.519259000752373 and parameters: {'lr': 0.01700037298921102, 'leaves': 63, 'ff': 0.6232334448672797, 'bf': 0.9464704583099741}. Best is trial 1 with value: 0.519259000752373.\n"
     ]
    },
    {
     "name": "stdout",
     "output_type": "stream",
     "text": [
      "Early stopping, best iteration is:\n",
      "[744]\tvalid_0's l2: 0.463326\n",
      "Training until validation scores don't improve for 100 rounds\n",
      "Early stopping, best iteration is:\n",
      "[143]\tvalid_0's l2: 0.458081\n",
      "Training until validation scores don't improve for 100 rounds\n",
      "Early stopping, best iteration is:\n",
      "[159]\tvalid_0's l2: 0.451732\n",
      "Training until validation scores don't improve for 100 rounds\n",
      "Early stopping, best iteration is:\n",
      "[132]\tvalid_0's l2: 0.367025\n",
      "Training until validation scores don't improve for 100 rounds\n",
      "Early stopping, best iteration is:\n",
      "[117]\tvalid_0's l2: 0.435259\n",
      "Training until validation scores don't improve for 100 rounds\n"
     ]
    },
    {
     "name": "stderr",
     "output_type": "stream",
     "text": [
      "[I 2025-06-14 21:47:15,092] Trial 2 finished with value: 0.5125373890644576 and parameters: {'lr': 0.07725378389307355, 'leaves': 191, 'ff': 0.608233797718321, 'bf': 0.9879639408647978}. Best is trial 1 with value: 0.519259000752373.\n"
     ]
    },
    {
     "name": "stdout",
     "output_type": "stream",
     "text": [
      "Early stopping, best iteration is:\n",
      "[163]\tvalid_0's l2: 0.481671\n",
      "Training until validation scores don't improve for 100 rounds\n",
      "Early stopping, best iteration is:\n",
      "[100]\tvalid_0's l2: 0.47799\n",
      "Training until validation scores don't improve for 100 rounds\n",
      "Early stopping, best iteration is:\n",
      "[56]\tvalid_0's l2: 0.4984\n",
      "Training until validation scores don't improve for 100 rounds\n",
      "Early stopping, best iteration is:\n",
      "[95]\tvalid_0's l2: 0.383204\n",
      "Training until validation scores don't improve for 100 rounds\n",
      "Early stopping, best iteration is:\n",
      "[50]\tvalid_0's l2: 0.453871\n",
      "Training until validation scores don't improve for 100 rounds\n"
     ]
    },
    {
     "name": "stderr",
     "output_type": "stream",
     "text": [
      "[I 2025-06-14 21:47:21,577] Trial 3 finished with value: 0.4837599162516427 and parameters: {'lr': 0.16967533607196555, 'leaves': 79, 'ff': 0.6727299868828402, 'bf': 0.6733618039413735}. Best is trial 1 with value: 0.519259000752373.\n"
     ]
    },
    {
     "name": "stdout",
     "output_type": "stream",
     "text": [
      "Early stopping, best iteration is:\n",
      "[200]\tvalid_0's l2: 0.510183\n",
      "Training until validation scores don't improve for 100 rounds\n",
      "Early stopping, best iteration is:\n",
      "[491]\tvalid_0's l2: 0.420456\n",
      "Training until validation scores don't improve for 100 rounds\n",
      "Early stopping, best iteration is:\n",
      "[543]\tvalid_0's l2: 0.472445\n",
      "Training until validation scores don't improve for 100 rounds\n",
      "Early stopping, best iteration is:\n",
      "[341]\tvalid_0's l2: 0.352859\n",
      "Training until validation scores don't improve for 100 rounds\n",
      "Early stopping, best iteration is:\n",
      "[414]\tvalid_0's l2: 0.446548\n",
      "Training until validation scores don't improve for 100 rounds\n"
     ]
    },
    {
     "name": "stderr",
     "output_type": "stream",
     "text": [
      "[I 2025-06-14 21:47:31,744] Trial 4 finished with value: 0.5181180214390703 and parameters: {'lr': 0.028145092716060652, 'leaves': 143, 'ff': 0.7727780074568463, 'bf': 0.7164916560792167}. Best is trial 1 with value: 0.519259000752373.\n"
     ]
    },
    {
     "name": "stdout",
     "output_type": "stream",
     "text": [
      "Early stopping, best iteration is:\n",
      "[401]\tvalid_0's l2: 0.47998\n",
      "Training until validation scores don't improve for 100 rounds\n",
      "Early stopping, best iteration is:\n",
      "[180]\tvalid_0's l2: 0.458342\n",
      "Training until validation scores don't improve for 100 rounds\n",
      "Early stopping, best iteration is:\n",
      "[183]\tvalid_0's l2: 0.462118\n",
      "Training until validation scores don't improve for 100 rounds\n",
      "Early stopping, best iteration is:\n",
      "[159]\tvalid_0's l2: 0.375972\n",
      "Training until validation scores don't improve for 100 rounds\n",
      "Early stopping, best iteration is:\n",
      "[173]\tvalid_0's l2: 0.472967\n",
      "Training until validation scores don't improve for 100 rounds\n"
     ]
    },
    {
     "name": "stderr",
     "output_type": "stream",
     "text": [
      "[I 2025-06-14 21:47:37,456] Trial 5 finished with value: 0.5009050031947814 and parameters: {'lr': 0.08012737503998542, 'leaves': 63, 'ff': 0.7168578594140873, 'bf': 0.7465447373174767}. Best is trial 1 with value: 0.519259000752373.\n"
     ]
    },
    {
     "name": "stdout",
     "output_type": "stream",
     "text": [
      "Early stopping, best iteration is:\n",
      "[325]\tvalid_0's l2: 0.478314\n",
      "Training until validation scores don't improve for 100 rounds\n",
      "Early stopping, best iteration is:\n",
      "[411]\tvalid_0's l2: 0.42252\n",
      "Training until validation scores don't improve for 100 rounds\n",
      "Early stopping, best iteration is:\n",
      "[290]\tvalid_0's l2: 0.45905\n",
      "Training until validation scores don't improve for 100 rounds\n",
      "Early stopping, best iteration is:\n",
      "[208]\tvalid_0's l2: 0.373143\n",
      "Training until validation scores don't improve for 100 rounds\n",
      "Early stopping, best iteration is:\n",
      "[245]\tvalid_0's l2: 0.43185\n",
      "Training until validation scores don't improve for 100 rounds\n"
     ]
    },
    {
     "name": "stderr",
     "output_type": "stream",
     "text": [
      "[I 2025-06-14 21:47:45,911] Trial 6 finished with value: 0.5231063612733836 and parameters: {'lr': 0.04717052037625178, 'leaves': 207, 'ff': 0.6798695128633439, 'bf': 0.8056937753654446}. Best is trial 6 with value: 0.5231063612733836.\n"
     ]
    },
    {
     "name": "stdout",
     "output_type": "stream",
     "text": [
      "Early stopping, best iteration is:\n",
      "[382]\tvalid_0's l2: 0.46224\n",
      "Training until validation scores don't improve for 100 rounds\n",
      "Early stopping, best iteration is:\n",
      "[190]\tvalid_0's l2: 0.439608\n",
      "Training until validation scores don't improve for 100 rounds\n",
      "Early stopping, best iteration is:\n",
      "[122]\tvalid_0's l2: 0.482154\n",
      "Training until validation scores don't improve for 100 rounds\n",
      "Early stopping, best iteration is:\n",
      "[139]\tvalid_0's l2: 0.372003\n",
      "Training until validation scores don't improve for 100 rounds\n",
      "Early stopping, best iteration is:\n",
      "[166]\tvalid_0's l2: 0.456496\n",
      "Training until validation scores don't improve for 100 rounds\n"
     ]
    },
    {
     "name": "stderr",
     "output_type": "stream",
     "text": [
      "[I 2025-06-14 21:48:03,565] Trial 7 finished with value: 0.504613037879383 and parameters: {'lr': 0.07500118950416987, 'leaves': 31, 'ff': 0.8430179407605753, 'bf': 0.6682096494749166}. Best is trial 6 with value: 0.5231063612733836.\n"
     ]
    },
    {
     "name": "stdout",
     "output_type": "stream",
     "text": [
      "Early stopping, best iteration is:\n",
      "[322]\tvalid_0's l2: 0.481933\n",
      "Training until validation scores don't improve for 100 rounds\n",
      "Early stopping, best iteration is:\n",
      "[939]\tvalid_0's l2: 0.429229\n",
      "Training until validation scores don't improve for 100 rounds\n",
      "Early stopping, best iteration is:\n",
      "[767]\tvalid_0's l2: 0.464349\n",
      "Training until validation scores don't improve for 100 rounds\n",
      "Early stopping, best iteration is:\n",
      "[886]\tvalid_0's l2: 0.363042\n",
      "Training until validation scores don't improve for 100 rounds\n",
      "Early stopping, best iteration is:\n",
      "[753]\tvalid_0's l2: 0.435114\n",
      "Training until validation scores don't improve for 100 rounds\n"
     ]
    },
    {
     "name": "stderr",
     "output_type": "stream",
     "text": [
      "[I 2025-06-14 21:48:32,776] Trial 8 finished with value: 0.5199122435536987 and parameters: {'lr': 0.012476394272569451, 'leaves': 255, 'ff': 0.9862528132298237, 'bf': 0.9233589392465844}. Best is trial 6 with value: 0.5231063612733836.\n"
     ]
    },
    {
     "name": "stdout",
     "output_type": "stream",
     "text": [
      "Early stopping, best iteration is:\n",
      "[1031]\tvalid_0's l2: 0.471099\n",
      "Training until validation scores don't improve for 100 rounds\n",
      "Early stopping, best iteration is:\n",
      "[450]\tvalid_0's l2: 0.417257\n",
      "Training until validation scores don't improve for 100 rounds\n",
      "Early stopping, best iteration is:\n",
      "[465]\tvalid_0's l2: 0.461457\n",
      "Training until validation scores don't improve for 100 rounds\n",
      "Early stopping, best iteration is:\n",
      "[341]\tvalid_0's l2: 0.360758\n",
      "Training until validation scores don't improve for 100 rounds\n",
      "Early stopping, best iteration is:\n",
      "[427]\tvalid_0's l2: 0.445451\n",
      "Training until validation scores don't improve for 100 rounds\n"
     ]
    },
    {
     "name": "stderr",
     "output_type": "stream",
     "text": [
      "[I 2025-06-14 21:48:44,891] Trial 9 finished with value: 0.5212811100858479 and parameters: {'lr': 0.028180680291847244, 'leaves': 47, 'ff': 0.8736932106048627, 'bf': 0.7760609974958406}. Best is trial 6 with value: 0.5231063612733836.\n"
     ]
    },
    {
     "name": "stdout",
     "output_type": "stream",
     "text": [
      "Early stopping, best iteration is:\n",
      "[772]\tvalid_0's l2: 0.473244\n",
      "Training until validation scores don't improve for 100 rounds\n",
      "Early stopping, best iteration is:\n",
      "[30]\tvalid_0's l2: 0.486275\n",
      "Training until validation scores don't improve for 100 rounds\n",
      "Early stopping, best iteration is:\n",
      "[43]\tvalid_0's l2: 0.522646\n",
      "Training until validation scores don't improve for 100 rounds\n",
      "Early stopping, best iteration is:\n",
      "[53]\tvalid_0's l2: 0.410927\n",
      "Training until validation scores don't improve for 100 rounds\n",
      "Early stopping, best iteration is:\n",
      "[18]\tvalid_0's l2: 0.477606\n",
      "Training until validation scores don't improve for 100 rounds\n"
     ]
    },
    {
     "name": "stderr",
     "output_type": "stream",
     "text": [
      "[I 2025-06-14 21:48:49,365] Trial 10 finished with value: 0.47002221311201264 and parameters: {'lr': 0.24893231508461813, 'leaves': 191, 'ff': 0.747491509088439, 'bf': 0.8559192772506939}. Best is trial 6 with value: 0.5231063612733836.\n"
     ]
    },
    {
     "name": "stdout",
     "output_type": "stream",
     "text": [
      "Early stopping, best iteration is:\n",
      "[53]\tvalid_0's l2: 0.488169\n",
      "Training until validation scores don't improve for 100 rounds\n",
      "Early stopping, best iteration is:\n",
      "[450]\tvalid_0's l2: 0.429913\n",
      "Training until validation scores don't improve for 100 rounds\n",
      "Early stopping, best iteration is:\n",
      "[295]\tvalid_0's l2: 0.468332\n",
      "Training until validation scores don't improve for 100 rounds\n",
      "Early stopping, best iteration is:\n",
      "[333]\tvalid_0's l2: 0.35567\n",
      "Training until validation scores don't improve for 100 rounds\n",
      "Early stopping, best iteration is:\n",
      "[342]\tvalid_0's l2: 0.436942\n",
      "Training until validation scores don't improve for 100 rounds\n"
     ]
    },
    {
     "name": "stderr",
     "output_type": "stream",
     "text": [
      "[I 2025-06-14 21:49:00,764] Trial 11 finished with value: 0.5164335817079273 and parameters: {'lr': 0.03552214781048044, 'leaves': 127, 'ff': 0.897236664120028, 'bf': 0.7694651439524048}. Best is trial 6 with value: 0.5231063612733836.\n"
     ]
    },
    {
     "name": "stdout",
     "output_type": "stream",
     "text": [
      "Early stopping, best iteration is:\n",
      "[335]\tvalid_0's l2: 0.488054\n",
      "Training until validation scores don't improve for 100 rounds\n",
      "Early stopping, best iteration is:\n",
      "[163]\tvalid_0's l2: 0.438665\n",
      "Training until validation scores don't improve for 100 rounds\n",
      "Early stopping, best iteration is:\n",
      "[102]\tvalid_0's l2: 0.475683\n",
      "Training until validation scores don't improve for 100 rounds\n",
      "Early stopping, best iteration is:\n",
      "[126]\tvalid_0's l2: 0.381444\n",
      "Training until validation scores don't improve for 100 rounds\n",
      "Early stopping, best iteration is:\n",
      "[80]\tvalid_0's l2: 0.434632\n",
      "Training until validation scores don't improve for 100 rounds\n",
      "Early stopping, best iteration is:\n",
      "[224]\tvalid_0's l2: 0.495718\n"
     ]
    },
    {
     "name": "stderr",
     "output_type": "stream",
     "text": [
      "[I 2025-06-14 21:49:08,629] A new study created in memory with name: no-name-2e56cb48-b4c9-4d08-b281-0a9cac4f3349\n"
     ]
    },
    {
     "name": "stdout",
     "output_type": "stream",
     "text": [
      "Training until validation scores don't improve for 100 rounds\n",
      "Early stopping, best iteration is:\n",
      "[272]\tvalid_0's l2: 0.513579\n",
      "Training until validation scores don't improve for 100 rounds\n",
      "Early stopping, best iteration is:\n",
      "[1330]\tvalid_0's l2: 0.433722\n",
      "Training until validation scores don't improve for 100 rounds\n",
      "Early stopping, best iteration is:\n",
      "[140]\tvalid_0's l2: 0.570835\n",
      "Training until validation scores don't improve for 100 rounds\n",
      "Early stopping, best iteration is:\n",
      "[150]\tvalid_0's l2: 0.496104\n",
      "Training until validation scores don't improve for 100 rounds\n"
     ]
    },
    {
     "name": "stderr",
     "output_type": "stream",
     "text": [
      "[I 2025-06-14 21:49:11,528] Trial 0 finished with value: 0.6424931268204026 and parameters: {'lr': 0.03574712922600244, 'leaves': 255, 'ff': 0.892797576724562, 'bf': 0.8394633936788146}. Best is trial 0 with value: 0.6424931268204026.\n"
     ]
    },
    {
     "name": "stdout",
     "output_type": "stream",
     "text": [
      "Early stopping, best iteration is:\n",
      "[255]\tvalid_0's l2: 0.27299\n",
      "Training until validation scores don't improve for 100 rounds\n",
      "Early stopping, best iteration is:\n",
      "[169]\tvalid_0's l2: 0.528576\n",
      "Training until validation scores don't improve for 100 rounds\n",
      "Early stopping, best iteration is:\n",
      "[816]\tvalid_0's l2: 0.466899\n",
      "Training until validation scores don't improve for 100 rounds\n",
      "Early stopping, best iteration is:\n",
      "[303]\tvalid_0's l2: 0.566455\n",
      "Training until validation scores don't improve for 100 rounds\n",
      "Early stopping, best iteration is:\n",
      "[422]\tvalid_0's l2: 0.494505\n",
      "Training until validation scores don't improve for 100 rounds\n"
     ]
    },
    {
     "name": "stderr",
     "output_type": "stream",
     "text": [
      "[I 2025-06-14 21:49:13,673] Trial 1 finished with value: 0.6335798900819718 and parameters: {'lr': 0.01700037298921102, 'leaves': 63, 'ff': 0.6232334448672797, 'bf': 0.9464704583099741}. Best is trial 0 with value: 0.6424931268204026.\n"
     ]
    },
    {
     "name": "stdout",
     "output_type": "stream",
     "text": [
      "Early stopping, best iteration is:\n",
      "[454]\tvalid_0's l2: 0.283146\n",
      "Training until validation scores don't improve for 100 rounds\n",
      "Early stopping, best iteration is:\n",
      "[43]\tvalid_0's l2: 0.501524\n",
      "Training until validation scores don't improve for 100 rounds\n",
      "Early stopping, best iteration is:\n",
      "[635]\tvalid_0's l2: 0.453565\n",
      "Training until validation scores don't improve for 100 rounds\n",
      "Early stopping, best iteration is:\n",
      "[90]\tvalid_0's l2: 0.563932\n",
      "Training until validation scores don't improve for 100 rounds\n",
      "Early stopping, best iteration is:\n",
      "[91]\tvalid_0's l2: 0.478655\n",
      "Training until validation scores don't improve for 100 rounds\n"
     ]
    },
    {
     "name": "stderr",
     "output_type": "stream",
     "text": [
      "[I 2025-06-14 21:49:15,090] Trial 2 finished with value: 0.6431302864553825 and parameters: {'lr': 0.07725378389307355, 'leaves': 191, 'ff': 0.608233797718321, 'bf': 0.9879639408647978}. Best is trial 2 with value: 0.6431302864553825.\n"
     ]
    },
    {
     "name": "stdout",
     "output_type": "stream",
     "text": [
      "Early stopping, best iteration is:\n",
      "[129]\tvalid_0's l2: 0.280534\n",
      "Training until validation scores don't improve for 100 rounds\n",
      "Early stopping, best iteration is:\n",
      "[122]\tvalid_0's l2: 0.547754\n",
      "Training until validation scores don't improve for 100 rounds\n",
      "Early stopping, best iteration is:\n",
      "[293]\tvalid_0's l2: 0.428168\n",
      "Training until validation scores don't improve for 100 rounds\n",
      "Early stopping, best iteration is:\n",
      "[31]\tvalid_0's l2: 0.635238\n",
      "Training until validation scores don't improve for 100 rounds\n"
     ]
    },
    {
     "name": "stderr",
     "output_type": "stream",
     "text": [
      "[I 2025-06-14 21:49:16,262] Trial 3 finished with value: 0.6411940526924822 and parameters: {'lr': 0.16967533607196555, 'leaves': 79, 'ff': 0.6727299868828402, 'bf': 0.6733618039413735}. Best is trial 2 with value: 0.6431302864553825.\n"
     ]
    },
    {
     "name": "stdout",
     "output_type": "stream",
     "text": [
      "Early stopping, best iteration is:\n",
      "[65]\tvalid_0's l2: 0.459689\n",
      "Training until validation scores don't improve for 100 rounds\n",
      "Early stopping, best iteration is:\n",
      "[146]\tvalid_0's l2: 0.239305\n",
      "Training until validation scores don't improve for 100 rounds\n",
      "Early stopping, best iteration is:\n",
      "[190]\tvalid_0's l2: 0.501636\n",
      "Training until validation scores don't improve for 100 rounds\n",
      "Early stopping, best iteration is:\n",
      "[1023]\tvalid_0's l2: 0.456765\n",
      "Training until validation scores don't improve for 100 rounds\n",
      "Early stopping, best iteration is:\n",
      "[235]\tvalid_0's l2: 0.572091\n",
      "Training until validation scores don't improve for 100 rounds\n",
      "Early stopping, best iteration is:\n",
      "[126]\tvalid_0's l2: 0.49474\n",
      "Training until validation scores don't improve for 100 rounds\n"
     ]
    },
    {
     "name": "stderr",
     "output_type": "stream",
     "text": [
      "[I 2025-06-14 21:49:17,653] Trial 4 finished with value: 0.6459929499579683 and parameters: {'lr': 0.028145092716060652, 'leaves': 143, 'ff': 0.7727780074568463, 'bf': 0.7164916560792167}. Best is trial 4 with value: 0.6459929499579683.\n"
     ]
    },
    {
     "name": "stdout",
     "output_type": "stream",
     "text": [
      "Early stopping, best iteration is:\n",
      "[249]\tvalid_0's l2: 0.23796\n",
      "Training until validation scores don't improve for 100 rounds\n",
      "Early stopping, best iteration is:\n",
      "[95]\tvalid_0's l2: 0.488142\n",
      "Training until validation scores don't improve for 100 rounds\n",
      "Early stopping, best iteration is:\n",
      "[361]\tvalid_0's l2: 0.46411\n",
      "Training until validation scores don't improve for 100 rounds\n",
      "Early stopping, best iteration is:\n",
      "[75]\tvalid_0's l2: 0.570426\n",
      "Training until validation scores don't improve for 100 rounds\n",
      "Early stopping, best iteration is:\n",
      "[55]\tvalid_0's l2: 0.492321\n",
      "Training until validation scores don't improve for 100 rounds\n"
     ]
    },
    {
     "name": "stderr",
     "output_type": "stream",
     "text": [
      "[I 2025-06-14 21:49:21,602] Trial 5 finished with value: 0.6444042047547984 and parameters: {'lr': 0.08012737503998542, 'leaves': 63, 'ff': 0.7168578594140873, 'bf': 0.7465447373174767}. Best is trial 4 with value: 0.6459929499579683.\n"
     ]
    },
    {
     "name": "stdout",
     "output_type": "stream",
     "text": [
      "Early stopping, best iteration is:\n",
      "[87]\tvalid_0's l2: 0.254354\n",
      "Training until validation scores don't improve for 100 rounds\n",
      "Early stopping, best iteration is:\n",
      "[67]\tvalid_0's l2: 0.489631\n",
      "Training until validation scores don't improve for 100 rounds\n",
      "Early stopping, best iteration is:\n",
      "[1111]\tvalid_0's l2: 0.444585\n",
      "Training until validation scores don't improve for 100 rounds\n",
      "Early stopping, best iteration is:\n",
      "[127]\tvalid_0's l2: 0.605796\n",
      "Training until validation scores don't improve for 100 rounds\n"
     ]
    },
    {
     "name": "stderr",
     "output_type": "stream",
     "text": [
      "[I 2025-06-14 21:49:23,473] Trial 6 finished with value: 0.6404389441150284 and parameters: {'lr': 0.04717052037625178, 'leaves': 207, 'ff': 0.6798695128633439, 'bf': 0.8056937753654446}. Best is trial 4 with value: 0.6459929499579683.\n"
     ]
    },
    {
     "name": "stdout",
     "output_type": "stream",
     "text": [
      "Early stopping, best iteration is:\n",
      "[183]\tvalid_0's l2: 0.491284\n",
      "Training until validation scores don't improve for 100 rounds\n",
      "Early stopping, best iteration is:\n",
      "[125]\tvalid_0's l2: 0.26866\n",
      "Training until validation scores don't improve for 100 rounds\n",
      "Early stopping, best iteration is:\n",
      "[53]\tvalid_0's l2: 0.490089\n",
      "Training until validation scores don't improve for 100 rounds\n",
      "Early stopping, best iteration is:\n",
      "[293]\tvalid_0's l2: 0.483881\n",
      "Training until validation scores don't improve for 100 rounds\n",
      "Early stopping, best iteration is:\n",
      "[128]\tvalid_0's l2: 0.604915\n",
      "Training until validation scores don't improve for 100 rounds\n"
     ]
    },
    {
     "name": "stderr",
     "output_type": "stream",
     "text": [
      "[I 2025-06-14 21:49:24,270] Trial 7 finished with value: 0.6369547997364521 and parameters: {'lr': 0.07500118950416987, 'leaves': 31, 'ff': 0.8430179407605753, 'bf': 0.6682096494749166}. Best is trial 4 with value: 0.6459929499579683.\n"
     ]
    },
    {
     "name": "stdout",
     "output_type": "stream",
     "text": [
      "Early stopping, best iteration is:\n",
      "[56]\tvalid_0's l2: 0.512189\n",
      "Training until validation scores don't improve for 100 rounds\n",
      "Early stopping, best iteration is:\n",
      "[86]\tvalid_0's l2: 0.227842\n",
      "Training until validation scores don't improve for 100 rounds\n",
      "Early stopping, best iteration is:\n",
      "[656]\tvalid_0's l2: 0.525331\n",
      "Training until validation scores don't improve for 100 rounds\n",
      "Early stopping, best iteration is:\n",
      "[1408]\tvalid_0's l2: 0.477678\n",
      "Training until validation scores don't improve for 100 rounds\n",
      "Early stopping, best iteration is:\n",
      "[459]\tvalid_0's l2: 0.563722\n",
      "Training until validation scores don't improve for 100 rounds\n",
      "Early stopping, best iteration is:\n",
      "[524]\tvalid_0's l2: 0.512316\n",
      "Training until validation scores don't improve for 100 rounds\n"
     ]
    },
    {
     "name": "stderr",
     "output_type": "stream",
     "text": [
      "[I 2025-06-14 21:49:28,022] Trial 8 finished with value: 0.6257408150949864 and parameters: {'lr': 0.012476394272569451, 'leaves': 255, 'ff': 0.9862528132298237, 'bf': 0.9233589392465844}. Best is trial 4 with value: 0.6459929499579683.\n"
     ]
    },
    {
     "name": "stdout",
     "output_type": "stream",
     "text": [
      "Early stopping, best iteration is:\n",
      "[635]\tvalid_0's l2: 0.305874\n",
      "Training until validation scores don't improve for 100 rounds\n",
      "Early stopping, best iteration is:\n",
      "[236]\tvalid_0's l2: 0.507865\n",
      "Training until validation scores don't improve for 100 rounds\n",
      "Early stopping, best iteration is:\n",
      "[747]\tvalid_0's l2: 0.463504\n",
      "Training until validation scores don't improve for 100 rounds\n",
      "Early stopping, best iteration is:\n",
      "[206]\tvalid_0's l2: 0.564517\n",
      "Training until validation scores don't improve for 100 rounds\n",
      "Early stopping, best iteration is:\n",
      "[186]\tvalid_0's l2: 0.490444\n"
     ]
    },
    {
     "name": "stderr",
     "output_type": "stream",
     "text": [
      "[I 2025-06-14 21:49:29,403] Trial 9 finished with value: 0.6425539496528889 and parameters: {'lr': 0.028180680291847244, 'leaves': 47, 'ff': 0.8736932106048627, 'bf': 0.7760609974958406}. Best is trial 4 with value: 0.6459929499579683.\n"
     ]
    },
    {
     "name": "stdout",
     "output_type": "stream",
     "text": [
      "Training until validation scores don't improve for 100 rounds\n",
      "Early stopping, best iteration is:\n",
      "[286]\tvalid_0's l2: 0.256392\n",
      "Training until validation scores don't improve for 100 rounds\n",
      "Early stopping, best iteration is:\n",
      "[33]\tvalid_0's l2: 0.607876\n",
      "Training until validation scores don't improve for 100 rounds\n",
      "Early stopping, best iteration is:\n",
      "[326]\tvalid_0's l2: 0.477869\n",
      "Training until validation scores don't improve for 100 rounds\n",
      "Early stopping, best iteration is:\n",
      "[22]\tvalid_0's l2: 0.65195\n",
      "Training until validation scores don't improve for 100 rounds\n",
      "Early stopping, best iteration is:\n",
      "[16]\tvalid_0's l2: 0.502803\n",
      "Training until validation scores don't improve for 100 rounds\n"
     ]
    },
    {
     "name": "stderr",
     "output_type": "stream",
     "text": [
      "[I 2025-06-14 21:49:30,429] Trial 10 finished with value: 0.6130055137338243 and parameters: {'lr': 0.24893231508461813, 'leaves': 143, 'ff': 0.7719908794019466, 'bf': 0.6071847502459278}. Best is trial 4 with value: 0.6459929499579683.\n"
     ]
    },
    {
     "name": "stdout",
     "output_type": "stream",
     "text": [
      "Early stopping, best iteration is:\n",
      "[35]\tvalid_0's l2: 0.248034\n",
      "Training until validation scores don't improve for 100 rounds\n",
      "Early stopping, best iteration is:\n",
      "[39]\tvalid_0's l2: 0.504738\n",
      "Training until validation scores don't improve for 100 rounds\n",
      "Early stopping, best iteration is:\n",
      "[617]\tvalid_0's l2: 0.405141\n",
      "Training until validation scores don't improve for 100 rounds\n",
      "Early stopping, best iteration is:\n",
      "[77]\tvalid_0's l2: 0.548002\n",
      "Training until validation scores don't improve for 100 rounds\n",
      "Early stopping, best iteration is:\n",
      "[87]\tvalid_0's l2: 0.511328\n",
      "Training until validation scores don't improve for 100 rounds\n"
     ]
    },
    {
     "name": "stderr",
     "output_type": "stream",
     "text": [
      "[I 2025-06-14 21:49:31,681] Trial 11 finished with value: 0.6579362562187157 and parameters: {'lr': 0.11386552028513477, 'leaves': 111, 'ff': 0.7573946525251203, 'bf': 0.7301439991885139}. Best is trial 11 with value: 0.6579362562187157.\n"
     ]
    },
    {
     "name": "stdout",
     "output_type": "stream",
     "text": [
      "Early stopping, best iteration is:\n",
      "[73]\tvalid_0's l2: 0.224108\n",
      "Training until validation scores don't improve for 100 rounds\n",
      "Early stopping, best iteration is:\n",
      "[147]\tvalid_0's l2: 0.503712\n",
      "Training until validation scores don't improve for 100 rounds\n",
      "Early stopping, best iteration is:\n",
      "[224]\tvalid_0's l2: 0.430717\n",
      "Training until validation scores don't improve for 100 rounds\n",
      "Early stopping, best iteration is:\n",
      "[52]\tvalid_0's l2: 0.56771\n",
      "Training until validation scores don't improve for 100 rounds\n",
      "Early stopping, best iteration is:\n",
      "[46]\tvalid_0's l2: 0.516375\n",
      "Training until validation scores don't improve for 100 rounds\n",
      "Early stopping, best iteration is:\n",
      "[79]\tvalid_0's l2: 0.335067\n"
     ]
    },
    {
     "name": "stderr",
     "output_type": "stream",
     "text": [
      "[I 2025-06-14 21:49:46,596] A new study created in memory with name: no-name-6cb23b25-16e9-480b-8e70-abf4a33f9754\n"
     ]
    },
    {
     "name": "stdout",
     "output_type": "stream",
     "text": [
      "Training until validation scores don't improve for 100 rounds\n",
      "Early stopping, best iteration is:\n",
      "[380]\tvalid_0's l2: 0.40573\n",
      "Training until validation scores don't improve for 100 rounds\n",
      "Early stopping, best iteration is:\n",
      "[590]\tvalid_0's l2: 0.350567\n",
      "Training until validation scores don't improve for 100 rounds\n",
      "Early stopping, best iteration is:\n",
      "[413]\tvalid_0's l2: 0.386566\n",
      "Training until validation scores don't improve for 100 rounds\n",
      "Early stopping, best iteration is:\n",
      "[324]\tvalid_0's l2: 0.36008\n",
      "Training until validation scores don't improve for 100 rounds\n",
      "Early stopping, best iteration is:\n",
      "[415]\tvalid_0's l2: 0.386653\n"
     ]
    },
    {
     "name": "stderr",
     "output_type": "stream",
     "text": [
      "[I 2025-06-14 21:50:23,670] Trial 0 finished with value: 0.7181726485981369 and parameters: {'lr': 0.03574712922600244, 'leaves': 255, 'ff': 0.892797576724562, 'bf': 0.8394633936788146}. Best is trial 0 with value: 0.7181726485981369.\n"
     ]
    },
    {
     "name": "stdout",
     "output_type": "stream",
     "text": [
      "Training until validation scores don't improve for 100 rounds\n",
      "Early stopping, best iteration is:\n",
      "[985]\tvalid_0's l2: 0.397667\n",
      "Training until validation scores don't improve for 100 rounds\n",
      "Early stopping, best iteration is:\n",
      "[1131]\tvalid_0's l2: 0.339009\n",
      "Training until validation scores don't improve for 100 rounds\n",
      "Early stopping, best iteration is:\n",
      "[1108]\tvalid_0's l2: 0.384919\n",
      "Training until validation scores don't improve for 100 rounds\n",
      "Early stopping, best iteration is:\n",
      "[759]\tvalid_0's l2: 0.361282\n",
      "Training until validation scores don't improve for 100 rounds\n",
      "Early stopping, best iteration is:\n",
      "[901]\tvalid_0's l2: 0.377369\n"
     ]
    },
    {
     "name": "stderr",
     "output_type": "stream",
     "text": [
      "[I 2025-06-14 21:51:15,661] Trial 1 finished with value: 0.7224132819049907 and parameters: {'lr': 0.01700037298921102, 'leaves': 63, 'ff': 0.6232334448672797, 'bf': 0.9464704583099741}. Best is trial 1 with value: 0.7224132819049907.\n"
     ]
    },
    {
     "name": "stdout",
     "output_type": "stream",
     "text": [
      "Training until validation scores don't improve for 100 rounds\n",
      "Early stopping, best iteration is:\n",
      "[137]\tvalid_0's l2: 0.424427\n",
      "Training until validation scores don't improve for 100 rounds\n",
      "Early stopping, best iteration is:\n",
      "[325]\tvalid_0's l2: 0.35963\n",
      "Training until validation scores don't improve for 100 rounds\n",
      "Early stopping, best iteration is:\n",
      "[170]\tvalid_0's l2: 0.396743\n",
      "Training until validation scores don't improve for 100 rounds\n",
      "Early stopping, best iteration is:\n",
      "[177]\tvalid_0's l2: 0.367347\n",
      "Training until validation scores don't improve for 100 rounds\n"
     ]
    },
    {
     "name": "stderr",
     "output_type": "stream",
     "text": [
      "[I 2025-06-14 21:51:37,103] Trial 2 finished with value: 0.7105752054383586 and parameters: {'lr': 0.07725378389307355, 'leaves': 191, 'ff': 0.608233797718321, 'bf': 0.9879639408647978}. Best is trial 1 with value: 0.7224132819049907.\n"
     ]
    },
    {
     "name": "stdout",
     "output_type": "stream",
     "text": [
      "Early stopping, best iteration is:\n",
      "[181]\tvalid_0's l2: 0.392489\n",
      "Training until validation scores don't improve for 100 rounds\n",
      "Early stopping, best iteration is:\n",
      "[63]\tvalid_0's l2: 0.445746\n",
      "Training until validation scores don't improve for 100 rounds\n",
      "Early stopping, best iteration is:\n",
      "[164]\tvalid_0's l2: 0.376101\n",
      "Training until validation scores don't improve for 100 rounds\n",
      "Early stopping, best iteration is:\n",
      "[113]\tvalid_0's l2: 0.409213\n",
      "Training until validation scores don't improve for 100 rounds\n",
      "Early stopping, best iteration is:\n",
      "[93]\tvalid_0's l2: 0.400234\n",
      "Training until validation scores don't improve for 100 rounds\n"
     ]
    },
    {
     "name": "stderr",
     "output_type": "stream",
     "text": [
      "[I 2025-06-14 21:51:46,915] Trial 3 finished with value: 0.693634776422983 and parameters: {'lr': 0.16967533607196555, 'leaves': 79, 'ff': 0.6727299868828402, 'bf': 0.6733618039413735}. Best is trial 1 with value: 0.7224132819049907.\n"
     ]
    },
    {
     "name": "stdout",
     "output_type": "stream",
     "text": [
      "Early stopping, best iteration is:\n",
      "[87]\tvalid_0's l2: 0.421717\n",
      "Training until validation scores don't improve for 100 rounds\n",
      "Early stopping, best iteration is:\n",
      "[514]\tvalid_0's l2: 0.401989\n",
      "Training until validation scores don't improve for 100 rounds\n",
      "Early stopping, best iteration is:\n",
      "[463]\tvalid_0's l2: 0.341307\n",
      "Training until validation scores don't improve for 100 rounds\n",
      "Early stopping, best iteration is:\n",
      "[664]\tvalid_0's l2: 0.384861\n",
      "Training until validation scores don't improve for 100 rounds\n",
      "Early stopping, best iteration is:\n",
      "[506]\tvalid_0's l2: 0.361188\n",
      "Training until validation scores don't improve for 100 rounds\n",
      "Early stopping, best iteration is:\n",
      "[667]\tvalid_0's l2: 0.38606\n"
     ]
    },
    {
     "name": "stderr",
     "output_type": "stream",
     "text": [
      "[I 2025-06-14 21:52:25,988] Trial 4 finished with value: 0.7201762069579576 and parameters: {'lr': 0.028145092716060652, 'leaves': 143, 'ff': 0.7727780074568463, 'bf': 0.7164916560792167}. Best is trial 1 with value: 0.7224132819049907.\n"
     ]
    },
    {
     "name": "stdout",
     "output_type": "stream",
     "text": [
      "Training until validation scores don't improve for 100 rounds\n",
      "Early stopping, best iteration is:\n",
      "[155]\tvalid_0's l2: 0.409437\n",
      "Training until validation scores don't improve for 100 rounds\n",
      "Early stopping, best iteration is:\n",
      "[458]\tvalid_0's l2: 0.346948\n",
      "Training until validation scores don't improve for 100 rounds\n",
      "Early stopping, best iteration is:\n",
      "[173]\tvalid_0's l2: 0.391871\n",
      "Training until validation scores don't improve for 100 rounds\n",
      "Early stopping, best iteration is:\n",
      "[168]\tvalid_0's l2: 0.376145\n",
      "Training until validation scores don't improve for 100 rounds\n"
     ]
    },
    {
     "name": "stderr",
     "output_type": "stream",
     "text": [
      "[I 2025-06-14 21:52:40,000] Trial 5 finished with value: 0.7162448061768055 and parameters: {'lr': 0.08012737503998542, 'leaves': 63, 'ff': 0.7168578594140873, 'bf': 0.7465447373174767}. Best is trial 1 with value: 0.7224132819049907.\n"
     ]
    },
    {
     "name": "stdout",
     "output_type": "stream",
     "text": [
      "Early stopping, best iteration is:\n",
      "[292]\tvalid_0's l2: 0.376677\n",
      "Training until validation scores don't improve for 100 rounds\n",
      "Early stopping, best iteration is:\n",
      "[249]\tvalid_0's l2: 0.405501\n",
      "Training until validation scores don't improve for 100 rounds\n",
      "Early stopping, best iteration is:\n",
      "[304]\tvalid_0's l2: 0.346856\n",
      "Training until validation scores don't improve for 100 rounds\n",
      "Early stopping, best iteration is:\n",
      "[396]\tvalid_0's l2: 0.388381\n",
      "Training until validation scores don't improve for 100 rounds\n",
      "Early stopping, best iteration is:\n",
      "[318]\tvalid_0's l2: 0.36891\n",
      "Training until validation scores don't improve for 100 rounds\n"
     ]
    },
    {
     "name": "stderr",
     "output_type": "stream",
     "text": [
      "[I 2025-06-14 21:53:05,254] Trial 6 finished with value: 0.7168326001831617 and parameters: {'lr': 0.04717052037625178, 'leaves': 207, 'ff': 0.6798695128633439, 'bf': 0.8056937753654446}. Best is trial 1 with value: 0.7224132819049907.\n"
     ]
    },
    {
     "name": "stdout",
     "output_type": "stream",
     "text": [
      "Early stopping, best iteration is:\n",
      "[302]\tvalid_0's l2: 0.388023\n",
      "Training until validation scores don't improve for 100 rounds\n",
      "Early stopping, best iteration is:\n",
      "[263]\tvalid_0's l2: 0.417313\n",
      "Training until validation scores don't improve for 100 rounds\n",
      "Early stopping, best iteration is:\n",
      "[375]\tvalid_0's l2: 0.34681\n",
      "Training until validation scores don't improve for 100 rounds\n",
      "Early stopping, best iteration is:\n",
      "[480]\tvalid_0's l2: 0.373149\n",
      "Training until validation scores don't improve for 100 rounds\n",
      "Early stopping, best iteration is:\n",
      "[201]\tvalid_0's l2: 0.380086\n",
      "Training until validation scores don't improve for 100 rounds\n"
     ]
    },
    {
     "name": "stderr",
     "output_type": "stream",
     "text": [
      "[I 2025-06-14 21:53:16,356] Trial 7 finished with value: 0.7151430755277002 and parameters: {'lr': 0.07500118950416987, 'leaves': 31, 'ff': 0.8430179407605753, 'bf': 0.6682096494749166}. Best is trial 1 with value: 0.7224132819049907.\n"
     ]
    },
    {
     "name": "stdout",
     "output_type": "stream",
     "text": [
      "Early stopping, best iteration is:\n",
      "[375]\tvalid_0's l2: 0.390662\n",
      "Training until validation scores don't improve for 100 rounds\n",
      "Early stopping, best iteration is:\n",
      "[855]\tvalid_0's l2: 0.410579\n",
      "Training until validation scores don't improve for 100 rounds\n",
      "Early stopping, best iteration is:\n",
      "[1013]\tvalid_0's l2: 0.350779\n",
      "Training until validation scores don't improve for 100 rounds\n",
      "Early stopping, best iteration is:\n",
      "[1135]\tvalid_0's l2: 0.393224\n",
      "Training until validation scores don't improve for 100 rounds\n",
      "Early stopping, best iteration is:\n",
      "[788]\tvalid_0's l2: 0.362284\n",
      "Training until validation scores don't improve for 100 rounds\n",
      "Early stopping, best iteration is:\n",
      "[1046]\tvalid_0's l2: 0.394789\n"
     ]
    },
    {
     "name": "stderr",
     "output_type": "stream",
     "text": [
      "[I 2025-06-14 21:54:35,342] Trial 8 finished with value: 0.714863926135094 and parameters: {'lr': 0.012476394272569451, 'leaves': 255, 'ff': 0.9862528132298237, 'bf': 0.9233589392465844}. Best is trial 1 with value: 0.7224132819049907.\n"
     ]
    },
    {
     "name": "stdout",
     "output_type": "stream",
     "text": [
      "Training until validation scores don't improve for 100 rounds\n",
      "Early stopping, best iteration is:\n",
      "[835]\tvalid_0's l2: 0.396836\n",
      "Training until validation scores don't improve for 100 rounds\n",
      "Early stopping, best iteration is:\n",
      "[709]\tvalid_0's l2: 0.336968\n",
      "Training until validation scores don't improve for 100 rounds\n",
      "Early stopping, best iteration is:\n",
      "[1112]\tvalid_0's l2: 0.38369\n",
      "Training until validation scores don't improve for 100 rounds\n",
      "Early stopping, best iteration is:\n",
      "[559]\tvalid_0's l2: 0.358772\n",
      "Training until validation scores don't improve for 100 rounds\n"
     ]
    },
    {
     "name": "stderr",
     "output_type": "stream",
     "text": [
      "[I 2025-06-14 21:55:10,732] Trial 9 finished with value: 0.7224729466047675 and parameters: {'lr': 0.028180680291847244, 'leaves': 47, 'ff': 0.8736932106048627, 'bf': 0.7760609974958406}. Best is trial 9 with value: 0.7224729466047675.\n"
     ]
    },
    {
     "name": "stdout",
     "output_type": "stream",
     "text": [
      "Early stopping, best iteration is:\n",
      "[699]\tvalid_0's l2: 0.383615\n",
      "Training until validation scores don't improve for 100 rounds\n",
      "Early stopping, best iteration is:\n",
      "[128]\tvalid_0's l2: 0.441521\n",
      "Training until validation scores don't improve for 100 rounds\n",
      "Early stopping, best iteration is:\n",
      "[52]\tvalid_0's l2: 0.398649\n",
      "Training until validation scores don't improve for 100 rounds\n",
      "Early stopping, best iteration is:\n",
      "[88]\tvalid_0's l2: 0.455903\n",
      "Training until validation scores don't improve for 100 rounds\n",
      "Early stopping, best iteration is:\n",
      "[52]\tvalid_0's l2: 0.40986\n",
      "Training until validation scores don't improve for 100 rounds\n"
     ]
    },
    {
     "name": "stderr",
     "output_type": "stream",
     "text": [
      "[I 2025-06-14 21:55:25,594] Trial 10 finished with value: 0.6786089979335115 and parameters: {'lr': 0.24893231508461813, 'leaves': 127, 'ff': 0.9413888415076936, 'bf': 0.6071847502459278}. Best is trial 9 with value: 0.7224729466047675.\n"
     ]
    },
    {
     "name": "stdout",
     "output_type": "stream",
     "text": [
      "Early stopping, best iteration is:\n",
      "[97]\tvalid_0's l2: 0.44912\n",
      "Training until validation scores don't improve for 100 rounds\n",
      "Did not meet early stopping. Best iteration is:\n",
      "[1979]\tvalid_0's l2: 0.394953\n",
      "Training until validation scores don't improve for 100 rounds\n",
      "Did not meet early stopping. Best iteration is:\n",
      "[1985]\tvalid_0's l2: 0.342939\n",
      "Training until validation scores don't improve for 100 rounds\n",
      "Did not meet early stopping. Best iteration is:\n",
      "[1907]\tvalid_0's l2: 0.38905\n",
      "Training until validation scores don't improve for 100 rounds\n",
      "Early stopping, best iteration is:\n",
      "[1600]\tvalid_0's l2: 0.354011\n",
      "Training until validation scores don't improve for 100 rounds\n",
      "Early stopping, best iteration is:\n",
      "[1721]\tvalid_0's l2: 0.382458\n"
     ]
    },
    {
     "name": "stderr",
     "output_type": "stream",
     "text": [
      "[I 2025-06-14 21:56:30,926] Trial 11 finished with value: 0.7220709226882561 and parameters: {'lr': 0.015121280268305514, 'leaves': 31, 'ff': 0.8092976502319114, 'bf': 0.8756436155523627}. Best is trial 9 with value: 0.7224729466047675.\n"
     ]
    },
    {
     "name": "stdout",
     "output_type": "stream",
     "text": [
      "Training until validation scores don't improve for 100 rounds\n",
      "Early stopping, best iteration is:\n",
      "[421]\tvalid_0's l2: 0.420287\n",
      "Training until validation scores don't improve for 100 rounds\n",
      "Early stopping, best iteration is:\n",
      "[334]\tvalid_0's l2: 0.376294\n",
      "Training until validation scores don't improve for 100 rounds\n",
      "Early stopping, best iteration is:\n",
      "[315]\tvalid_0's l2: 0.395616\n",
      "Training until validation scores don't improve for 100 rounds\n",
      "Early stopping, best iteration is:\n",
      "[206]\tvalid_0's l2: 0.35947\n",
      "Training until validation scores don't improve for 100 rounds\n",
      "Early stopping, best iteration is:\n",
      "[268]\tvalid_0's l2: 0.394916\n"
     ]
    },
    {
     "name": "stderr",
     "output_type": "stream",
     "text": [
      "[I 2025-06-14 21:56:51,309] A new study created in memory with name: no-name-2dc9c44c-1aa5-4ce1-9de9-657d19f88a63\n"
     ]
    },
    {
     "name": "stdout",
     "output_type": "stream",
     "text": [
      "Training until validation scores don't improve for 100 rounds\n",
      "Early stopping, best iteration is:\n",
      "[431]\tvalid_0's l2: 0.419166\n",
      "Training until validation scores don't improve for 100 rounds\n",
      "Early stopping, best iteration is:\n",
      "[410]\tvalid_0's l2: 0.403956\n",
      "Training until validation scores don't improve for 100 rounds\n",
      "Early stopping, best iteration is:\n",
      "[283]\tvalid_0's l2: 0.414488\n",
      "Training until validation scores don't improve for 100 rounds\n",
      "Early stopping, best iteration is:\n",
      "[291]\tvalid_0's l2: 0.414482\n",
      "Training until validation scores don't improve for 100 rounds\n"
     ]
    },
    {
     "name": "stderr",
     "output_type": "stream",
     "text": [
      "[I 2025-06-14 21:57:08,201] Trial 0 finished with value: 0.6177544978963794 and parameters: {'lr': 0.03574712922600244, 'leaves': 255, 'ff': 0.892797576724562, 'bf': 0.8394633936788146}. Best is trial 0 with value: 0.6177544978963794.\n"
     ]
    },
    {
     "name": "stdout",
     "output_type": "stream",
     "text": [
      "Early stopping, best iteration is:\n",
      "[179]\tvalid_0's l2: 0.450376\n",
      "Training until validation scores don't improve for 100 rounds\n",
      "Early stopping, best iteration is:\n",
      "[855]\tvalid_0's l2: 0.41465\n",
      "Training until validation scores don't improve for 100 rounds\n",
      "Early stopping, best iteration is:\n",
      "[849]\tvalid_0's l2: 0.403025\n",
      "Training until validation scores don't improve for 100 rounds\n",
      "Early stopping, best iteration is:\n",
      "[667]\tvalid_0's l2: 0.412518\n",
      "Training until validation scores don't improve for 100 rounds\n",
      "Early stopping, best iteration is:\n",
      "[699]\tvalid_0's l2: 0.41357\n",
      "Training until validation scores don't improve for 100 rounds\n"
     ]
    },
    {
     "name": "stderr",
     "output_type": "stream",
     "text": [
      "[I 2025-06-14 21:57:41,111] Trial 1 finished with value: 0.6201193195057623 and parameters: {'lr': 0.01700037298921102, 'leaves': 63, 'ff': 0.6232334448672797, 'bf': 0.9464704583099741}. Best is trial 1 with value: 0.6201193195057623.\n"
     ]
    },
    {
     "name": "stdout",
     "output_type": "stream",
     "text": [
      "Early stopping, best iteration is:\n",
      "[377]\tvalid_0's l2: 0.445661\n",
      "Training until validation scores don't improve for 100 rounds\n",
      "Early stopping, best iteration is:\n",
      "[126]\tvalid_0's l2: 0.435909\n",
      "Training until validation scores don't improve for 100 rounds\n",
      "Early stopping, best iteration is:\n",
      "[188]\tvalid_0's l2: 0.409723\n",
      "Training until validation scores don't improve for 100 rounds\n",
      "Early stopping, best iteration is:\n",
      "[159]\tvalid_0's l2: 0.428255\n",
      "Training until validation scores don't improve for 100 rounds\n",
      "Early stopping, best iteration is:\n",
      "[86]\tvalid_0's l2: 0.41563\n",
      "Training until validation scores don't improve for 100 rounds\n"
     ]
    },
    {
     "name": "stderr",
     "output_type": "stream",
     "text": [
      "[I 2025-06-14 21:57:53,922] Trial 2 finished with value: 0.612594100820518 and parameters: {'lr': 0.07725378389307355, 'leaves': 191, 'ff': 0.608233797718321, 'bf': 0.9879639408647978}. Best is trial 1 with value: 0.6201193195057623.\n"
     ]
    },
    {
     "name": "stdout",
     "output_type": "stream",
     "text": [
      "Early stopping, best iteration is:\n",
      "[77]\tvalid_0's l2: 0.442138\n",
      "Training until validation scores don't improve for 100 rounds\n",
      "Early stopping, best iteration is:\n",
      "[154]\tvalid_0's l2: 0.459866\n",
      "Training until validation scores don't improve for 100 rounds\n",
      "Early stopping, best iteration is:\n",
      "[86]\tvalid_0's l2: 0.45302\n",
      "Training until validation scores don't improve for 100 rounds\n",
      "Early stopping, best iteration is:\n",
      "[99]\tvalid_0's l2: 0.445951\n",
      "Training until validation scores don't improve for 100 rounds\n",
      "Early stopping, best iteration is:\n",
      "[40]\tvalid_0's l2: 0.440538\n",
      "Training until validation scores don't improve for 100 rounds\n"
     ]
    },
    {
     "name": "stderr",
     "output_type": "stream",
     "text": [
      "[I 2025-06-14 21:57:59,699] Trial 3 finished with value: 0.5829525874650558 and parameters: {'lr': 0.16967533607196555, 'leaves': 79, 'ff': 0.6727299868828402, 'bf': 0.6733618039413735}. Best is trial 1 with value: 0.6201193195057623.\n"
     ]
    },
    {
     "name": "stdout",
     "output_type": "stream",
     "text": [
      "Early stopping, best iteration is:\n",
      "[39]\tvalid_0's l2: 0.495921\n",
      "Training until validation scores don't improve for 100 rounds\n",
      "Early stopping, best iteration is:\n",
      "[483]\tvalid_0's l2: 0.421095\n",
      "Training until validation scores don't improve for 100 rounds\n",
      "Early stopping, best iteration is:\n",
      "[545]\tvalid_0's l2: 0.412795\n",
      "Training until validation scores don't improve for 100 rounds\n",
      "Early stopping, best iteration is:\n",
      "[405]\tvalid_0's l2: 0.405434\n",
      "Training until validation scores don't improve for 100 rounds\n",
      "Early stopping, best iteration is:\n",
      "[491]\tvalid_0's l2: 0.416757\n",
      "Training until validation scores don't improve for 100 rounds\n"
     ]
    },
    {
     "name": "stderr",
     "output_type": "stream",
     "text": [
      "[I 2025-06-14 21:58:16,989] Trial 4 finished with value: 0.6160595113318555 and parameters: {'lr': 0.028145092716060652, 'leaves': 143, 'ff': 0.7727780074568463, 'bf': 0.7164916560792167}. Best is trial 1 with value: 0.6201193195057623.\n"
     ]
    },
    {
     "name": "stdout",
     "output_type": "stream",
     "text": [
      "Early stopping, best iteration is:\n",
      "[298]\tvalid_0's l2: 0.456437\n",
      "Training until validation scores don't improve for 100 rounds\n",
      "Early stopping, best iteration is:\n",
      "[190]\tvalid_0's l2: 0.43756\n",
      "Training until validation scores don't improve for 100 rounds\n",
      "Early stopping, best iteration is:\n",
      "[174]\tvalid_0's l2: 0.441131\n",
      "Training until validation scores don't improve for 100 rounds\n",
      "Early stopping, best iteration is:\n",
      "[179]\tvalid_0's l2: 0.426808\n",
      "Training until validation scores don't improve for 100 rounds\n",
      "Early stopping, best iteration is:\n",
      "[110]\tvalid_0's l2: 0.411133\n",
      "Training until validation scores don't improve for 100 rounds\n"
     ]
    },
    {
     "name": "stderr",
     "output_type": "stream",
     "text": [
      "[I 2025-06-14 21:58:28,307] Trial 5 finished with value: 0.6034411967283575 and parameters: {'lr': 0.08012737503998542, 'leaves': 63, 'ff': 0.7168578594140873, 'bf': 0.7465447373174767}. Best is trial 1 with value: 0.6201193195057623.\n"
     ]
    },
    {
     "name": "stdout",
     "output_type": "stream",
     "text": [
      "Early stopping, best iteration is:\n",
      "[67]\tvalid_0's l2: 0.466824\n",
      "Training until validation scores don't improve for 100 rounds\n",
      "Early stopping, best iteration is:\n",
      "[331]\tvalid_0's l2: 0.405423\n",
      "Training until validation scores don't improve for 100 rounds\n",
      "Early stopping, best iteration is:\n",
      "[323]\tvalid_0's l2: 0.406471\n",
      "Training until validation scores don't improve for 100 rounds\n",
      "Early stopping, best iteration is:\n",
      "[330]\tvalid_0's l2: 0.409197\n",
      "Training until validation scores don't improve for 100 rounds\n",
      "Early stopping, best iteration is:\n",
      "[171]\tvalid_0's l2: 0.424889\n",
      "Training until validation scores don't improve for 100 rounds\n"
     ]
    },
    {
     "name": "stderr",
     "output_type": "stream",
     "text": [
      "[I 2025-06-14 21:58:41,435] Trial 6 finished with value: 0.61770043386871 and parameters: {'lr': 0.04717052037625178, 'leaves': 207, 'ff': 0.6798695128633439, 'bf': 0.8056937753654446}. Best is trial 1 with value: 0.6201193195057623.\n"
     ]
    },
    {
     "name": "stdout",
     "output_type": "stream",
     "text": [
      "Early stopping, best iteration is:\n",
      "[133]\tvalid_0's l2: 0.455917\n",
      "Training until validation scores don't improve for 100 rounds\n",
      "Early stopping, best iteration is:\n",
      "[195]\tvalid_0's l2: 0.433473\n",
      "Training until validation scores don't improve for 100 rounds\n",
      "Early stopping, best iteration is:\n",
      "[246]\tvalid_0's l2: 0.426982\n",
      "Training until validation scores don't improve for 100 rounds\n",
      "Early stopping, best iteration is:\n",
      "[182]\tvalid_0's l2: 0.438023\n",
      "Training until validation scores don't improve for 100 rounds\n",
      "Early stopping, best iteration is:\n",
      "[145]\tvalid_0's l2: 0.414875\n",
      "Training until validation scores don't improve for 100 rounds\n"
     ]
    },
    {
     "name": "stderr",
     "output_type": "stream",
     "text": [
      "[I 2025-06-14 21:58:48,992] Trial 7 finished with value: 0.6023683898334063 and parameters: {'lr': 0.07500118950416987, 'leaves': 31, 'ff': 0.8430179407605753, 'bf': 0.6682096494749166}. Best is trial 1 with value: 0.6201193195057623.\n"
     ]
    },
    {
     "name": "stdout",
     "output_type": "stream",
     "text": [
      "Early stopping, best iteration is:\n",
      "[163]\tvalid_0's l2: 0.474183\n",
      "Training until validation scores don't improve for 100 rounds\n",
      "Early stopping, best iteration is:\n",
      "[1083]\tvalid_0's l2: 0.420538\n",
      "Training until validation scores don't improve for 100 rounds\n",
      "Early stopping, best iteration is:\n",
      "[926]\tvalid_0's l2: 0.405038\n",
      "Training until validation scores don't improve for 100 rounds\n",
      "Early stopping, best iteration is:\n",
      "[842]\tvalid_0's l2: 0.406869\n",
      "Training until validation scores don't improve for 100 rounds\n",
      "Early stopping, best iteration is:\n",
      "[638]\tvalid_0's l2: 0.416313\n",
      "Training until validation scores don't improve for 100 rounds\n"
     ]
    },
    {
     "name": "stderr",
     "output_type": "stream",
     "text": [
      "[I 2025-06-14 21:59:30,331] Trial 8 finished with value: 0.618791928066537 and parameters: {'lr': 0.012476394272569451, 'leaves': 255, 'ff': 0.9862528132298237, 'bf': 0.9233589392465844}. Best is trial 1 with value: 0.6201193195057623.\n"
     ]
    },
    {
     "name": "stdout",
     "output_type": "stream",
     "text": [
      "Early stopping, best iteration is:\n",
      "[511]\tvalid_0's l2: 0.44843\n",
      "Training until validation scores don't improve for 100 rounds\n",
      "Early stopping, best iteration is:\n",
      "[556]\tvalid_0's l2: 0.411071\n",
      "Training until validation scores don't improve for 100 rounds\n",
      "Early stopping, best iteration is:\n",
      "[537]\tvalid_0's l2: 0.407792\n",
      "Training until validation scores don't improve for 100 rounds\n",
      "Early stopping, best iteration is:\n",
      "[507]\tvalid_0's l2: 0.407625\n",
      "Training until validation scores don't improve for 100 rounds\n",
      "Early stopping, best iteration is:\n",
      "[395]\tvalid_0's l2: 0.413108\n",
      "Training until validation scores don't improve for 100 rounds\n"
     ]
    },
    {
     "name": "stderr",
     "output_type": "stream",
     "text": [
      "[I 2025-06-14 21:59:47,449] Trial 9 finished with value: 0.6189683965635445 and parameters: {'lr': 0.028180680291847244, 'leaves': 47, 'ff': 0.8736932106048627, 'bf': 0.7760609974958406}. Best is trial 1 with value: 0.6201193195057623.\n"
     ]
    },
    {
     "name": "stdout",
     "output_type": "stream",
     "text": [
      "Early stopping, best iteration is:\n",
      "[247]\tvalid_0's l2: 0.456183\n",
      "Training until validation scores don't improve for 100 rounds\n",
      "Early stopping, best iteration is:\n",
      "[1284]\tvalid_0's l2: 0.412942\n",
      "Training until validation scores don't improve for 100 rounds\n",
      "Early stopping, best iteration is:\n",
      "[1295]\tvalid_0's l2: 0.403072\n",
      "Training until validation scores don't improve for 100 rounds\n",
      "Early stopping, best iteration is:\n",
      "[1239]\tvalid_0's l2: 0.410954\n",
      "Training until validation scores don't improve for 100 rounds\n",
      "Early stopping, best iteration is:\n",
      "[943]\tvalid_0's l2: 0.412592\n",
      "Training until validation scores don't improve for 100 rounds\n",
      "Early stopping, best iteration is:\n",
      "[758]\tvalid_0's l2: 0.44535\n"
     ]
    },
    {
     "name": "stderr",
     "output_type": "stream",
     "text": [
      "[I 2025-06-14 22:00:38,245] Trial 10 finished with value: 0.620944396969068 and parameters: {'lr': 0.010764168942978037, 'leaves': 111, 'ff': 0.6030189277265172, 'bf': 0.8878899049498932}. Best is trial 10 with value: 0.620944396969068.\n"
     ]
    },
    {
     "name": "stdout",
     "output_type": "stream",
     "text": [
      "Training until validation scores don't improve for 100 rounds\n",
      "Early stopping, best iteration is:\n",
      "[1624]\tvalid_0's l2: 0.415815\n",
      "Training until validation scores don't improve for 100 rounds\n",
      "Early stopping, best iteration is:\n",
      "[1325]\tvalid_0's l2: 0.409251\n",
      "Training until validation scores don't improve for 100 rounds\n",
      "Early stopping, best iteration is:\n",
      "[1237]\tvalid_0's l2: 0.415363\n",
      "Training until validation scores don't improve for 100 rounds\n",
      "Early stopping, best iteration is:\n",
      "[828]\tvalid_0's l2: 0.408324\n",
      "Training until validation scores don't improve for 100 rounds\n",
      "Early stopping, best iteration is:\n",
      "[688]\tvalid_0's l2: 0.444493\n"
     ]
    },
    {
     "name": "stderr",
     "output_type": "stream",
     "text": [
      "[I 2025-06-14 22:01:30,939] Trial 11 finished with value: 0.6195210170579202 and parameters: {'lr': 0.010536588309951599, 'leaves': 111, 'ff': 0.6059048780650395, 'bf': 0.9116956572038488}. Best is trial 10 with value: 0.620944396969068.\n"
     ]
    },
    {
     "name": "stdout",
     "output_type": "stream",
     "text": [
      "Training until validation scores don't improve for 100 rounds\n",
      "Early stopping, best iteration is:\n",
      "[169]\tvalid_0's l2: 0.423516\n",
      "Training until validation scores don't improve for 100 rounds\n",
      "Early stopping, best iteration is:\n",
      "[250]\tvalid_0's l2: 0.401822\n",
      "Training until validation scores don't improve for 100 rounds\n",
      "Early stopping, best iteration is:\n",
      "[130]\tvalid_0's l2: 0.412385\n",
      "Training until validation scores don't improve for 100 rounds\n",
      "Early stopping, best iteration is:\n",
      "[128]\tvalid_0's l2: 0.429873\n",
      "Training until validation scores don't improve for 100 rounds\n",
      "Early stopping, best iteration is:\n",
      "[78]\tvalid_0's l2: 0.471032\n",
      "             n     R2    MAE   RMSE\n",
      "Receptor                           \n",
      "5HT1A     4342  0.652  0.499  0.664\n",
      "5HT2A     3861  0.692  0.475  0.656\n",
      "5HT2B     1394  0.507  0.494  0.667\n",
      "5HT5A      338  0.633  0.497  0.686\n",
      "5HT6      3596  0.711  0.465  0.624\n",
      "5HT7      2444  0.613  0.486  0.654\n"
     ]
    },
    {
     "data": {
      "image/png": "[encoded data removed]",
      "text/plain": [
       "<Figure size 600x400 with 1 Axes>"
      ]
     },
     "metadata": {},
     "output_type": "display_data"
    }
   ],
   "source": [
    "# =============================================================\n",
    "# Batch run pKi for all receptors (cleaned_5HT*.csv)\n",
    "# =============================================================\n",
    "import glob\n",
    "import os\n",
    "import warnings\n",
    "\n",
    "import joblib\n",
    "import numpy as np\n",
    "import pandas as pd\n",
    "import matplotlib.pyplot as plt\n",
    "\n",
    "from pathlib import Path\n",
    "from tqdm.auto import tqdm\n",
    "import lightgbm as lgb\n",
    "from lightgbm import early_stopping, log_evaluation\n",
    "from sklearn.metrics import r2_score, mean_absolute_error, mean_squared_error\n",
    "from sklearn.model_selection import KFold\n",
    "from sklearn.preprocessing import StandardScaler\n",
    "from rdkit import Chem, DataStructs\n",
    "from rdkit.Chem import AllChem, Descriptors, Crippen, rdMolDescriptors\n",
    "import optuna\n",
    "\n",
    "warnings.filterwarnings(\"ignore\")\n",
    "\n",
    "# ---------- 0. Global parameters -----------------------------------\n",
    "CSV_DIR     = \"../Cleaned_data\"\n",
    "SAVE_MODELS = True\n",
    "N_FOLDS     = 5\n",
    "SEED        = 42\n",
    "N_TRIALS    = 12\n",
    "EARLY_STOP  = 100\n",
    "FP_RADIUS   = 2\n",
    "N_BITS      = 1024\n",
    "\n",
    "# ---------- 1. Descriptor calculation function -------------------\n",
    "def physchem(mol):\n",
    "    \"\"\"Calculate RDKit physicochemical descriptors for a molecule.\"\"\"\n",
    "    return np.array([\n",
    "        Descriptors.MolWt(mol),\n",
    "        Descriptors.MolLogP(mol),\n",
    "        Crippen.MolMR(mol),\n",
    "        Descriptors.NumHAcceptors(mol),\n",
    "        Descriptors.NumHDonors(mol),\n",
    "        Descriptors.NumRotatableBonds(mol),\n",
    "        Descriptors.RingCount(mol),\n",
    "        Descriptors.FractionCSP3(mol),\n",
    "        rdMolDescriptors.CalcTPSA(mol),\n",
    "        rdMolDescriptors.CalcNumAliphaticRings(mol),\n",
    "        rdMolDescriptors.CalcNumAromaticRings(mol),\n",
    "        rdMolDescriptors.CalcNumSaturatedRings(mol),\n",
    "        rdMolDescriptors.CalcNumAliphaticCarbocycles(mol),\n",
    "        rdMolDescriptors.CalcNumAromaticCarbocycles(mol),\n",
    "        rdMolDescriptors.CalcNumSaturatedCarbocycles(mol),\n",
    "        rdMolDescriptors.CalcNumAliphaticHeterocycles(mol),\n",
    "        rdMolDescriptors.CalcNumAromaticHeterocycles(mol),\n",
    "        rdMolDescriptors.CalcNumSaturatedHeterocycles(mol),\n",
    "        rdMolDescriptors.CalcNumHeteroatoms(mol),\n",
    "        rdMolDescriptors.CalcNumAmideBonds(mol),\n",
    "        float(Chem.GetFormalCharge(mol)),\n",
    "        rdMolDescriptors.CalcExactMolWt(mol),\n",
    "        rdMolDescriptors.CalcNumAtomStereoCenters(mol),\n",
    "        rdMolDescriptors.CalcNumUnspecifiedAtomStereoCenters(mol),\n",
    "        Descriptors.NumValenceElectrons(mol),\n",
    "        rdMolDescriptors.CalcLabuteASA(mol)\n",
    "    ], dtype=np.float32)\n",
    "\n",
    "# ---------- 2. Train one receptor (pKi regression) ----------------\n",
    "def train_one_receptor(csv_path: str,\n",
    "                       save_dir=\"models/pKi\",\n",
    "                       results_dir=\"results/pKi\"):\n",
    "    # 1. Load data and compute pKi\n",
    "    df = (pd.read_csv(csv_path)\n",
    "            .dropna(subset=[\"Smiles\", \"Standard Value\"])\n",
    "            .drop_duplicates(subset=\"Smiles\"))\n",
    "    df[\"pKi\"] = -np.log10(df[\"Standard Value\"])\n",
    "    y = df[\"pKi\"].values\n",
    "\n",
    "    # 2. Compute features: Morgan fingerprints + RDKit descriptors\n",
    "    fps, descs = [], []\n",
    "    for smi in df[\"Smiles\"]:\n",
    "        mol = Chem.MolFromSmiles(smi)\n",
    "        if mol is None:\n",
    "            continue\n",
    "        fp = AllChem.GetMorganFingerprintAsBitVect(mol, FP_RADIUS, N_BITS)\n",
    "        arr = np.zeros(N_BITS, dtype=np.int8)\n",
    "        DataStructs.ConvertToNumpyArray(fp, arr)\n",
    "        fps.append(arr)\n",
    "        descs.append(physchem(mol))\n",
    "\n",
    "    X_fp = np.vstack(fps).astype(np.uint8)\n",
    "    X_ds = np.vstack(descs).astype(np.float32)\n",
    "    X_all = np.hstack([X_fp, X_ds])\n",
    "    n_desc = X_ds.shape[1]\n",
    "\n",
    "    # 3. Hyperparameter tuning with Optuna\n",
    "    def objective(trial):\n",
    "        params = {\n",
    "            \"objective\": \"regression\",\n",
    "            \"metric\": \"l2\",\n",
    "            \"verbosity\": -1,\n",
    "            \"seed\": SEED,\n",
    "            \"learning_rate\": trial.suggest_float(\"learning_rate\", 0.01, 0.3, log=True),\n",
    "            \"num_leaves\": trial.suggest_int(\"num_leaves\", 31, 256, step=16),\n",
    "            \"feature_fraction\": trial.suggest_float(\"feature_fraction\", 0.6, 1.0),\n",
    "            \"bagging_fraction\": trial.suggest_float(\"bagging_fraction\", 0.6, 1.0),\n",
    "            \"bagging_freq\": 1\n",
    "        }\n",
    "        kf = KFold(n_splits=N_FOLDS, shuffle=True, random_state=SEED)\n",
    "        scores = []\n",
    "        for train_idx, test_idx in kf.split(X_all):\n",
    "            scaler = StandardScaler().fit(X_all[train_idx, -n_desc:])\n",
    "            X_train = X_all[train_idx].copy()\n",
    "            X_train[:, -n_desc:] = scaler.transform(X_train[:, -n_desc:])\n",
    "            X_test = X_all[test_idx].copy()\n",
    "            X_test[:, -n_desc:] = scaler.transform(X_test[:, -n_desc:])\n",
    "            model = lgb.train(\n",
    "                params,\n",
    "                lgb.Dataset(X_train, y[train_idx]),\n",
    "                2000,\n",
    "                [lgb.Dataset(X_test, y[test_idx])],\n",
    "                callbacks=[early_stopping(EARLY_STOP), log_evaluation(False)]\n",
    "            )\n",
    "            scores.append(r2_score(y[test_idx], model.predict(X_test)))\n",
    "        return np.mean(scores)\n",
    "\n",
    "    study = optuna.create_study(\n",
    "        direction=\"maximize\",\n",
    "        sampler=optuna.samplers.TPESampler(seed=SEED)\n",
    "    )\n",
    "    study.optimize(objective, n_trials=N_TRIALS, show_progress_bar=False)\n",
    "\n",
    "    best_params = study.best_params | {\n",
    "        \"objective\": \"regression\",\n",
    "        \"metric\": \"l2\",\n",
    "        \"verbosity\": -1,\n",
    "        \"seed\": SEED\n",
    "    }\n",
    "\n",
    "    # 4. Out-of-fold predictions\n",
    "    y_oof = np.zeros_like(y, dtype=float)\n",
    "    kf = KFold(n_splits=N_FOLDS, shuffle=True, random_state=SEED)\n",
    "    for train_idx, test_idx in kf.split(X_all):\n",
    "        scaler = StandardScaler().fit(X_all[train_idx, -n_desc:])\n",
    "        X_train = X_all[train_idx].copy()\n",
    "        X_train[:, -n_desc:] = scaler.transform(X_train[:, -n_desc:])\n",
    "        X_test = X_all[test_idx].copy()\n",
    "        X_test[:, -n_desc:] = scaler.transform(X_test[:, -n_desc:])\n",
    "        model = lgb.train(\n",
    "            best_params,\n",
    "            lgb.Dataset(X_train, y[train_idx]),\n",
    "            2000,\n",
    "            [lgb.Dataset(X_test, y[test_idx])],\n",
    "            callbacks=[early_stopping(EARLY_STOP), log_evaluation(False)]\n",
    "        )\n",
    "        y_oof[test_idx] = model.predict(X_test)\n",
    "\n",
    "    # 5. Train final model on full dataset\n",
    "    scaler_full = StandardScaler().fit(X_all[:, -n_desc:])\n",
    "    X_all_scaled = X_all.copy()\n",
    "    X_all_scaled[:, -n_desc:] = scaler_full.transform(X_all_scaled[:, -n_desc:])\n",
    "    final_model = lgb.train(\n",
    "        best_params,\n",
    "        lgb.Dataset(X_all_scaled, y),\n",
    "        num_boost_round=int(model.best_iteration * 1.1)\n",
    "    )\n",
    "\n",
    "    # 6. Save model, scaler, and out-of-fold predictions\n",
    "    receptor = Path(csv_path).stem.split(\"_\")[1]\n",
    "    if SAVE_MODELS:\n",
    "        os.makedirs(save_dir, exist_ok=True)\n",
    "        os.makedirs(results_dir, exist_ok=True)\n",
    "        joblib.dump(final_model, os.path.join(save_dir, f\"LGBM_pKi_{receptor}.pkl\"))\n",
    "        joblib.dump(scaler_full, os.path.join(save_dir, f\"scaler_pKi_{receptor}.pkl\"))\n",
    "        np.save(os.path.join(results_dir, f\"oof_pred_{receptor}.npy\"), y_oof)\n",
    "\n",
    "    # 7. Compute metrics and return summary\n",
    "    return {\n",
    "        \"Receptor\": receptor,\n",
    "        \"n\": len(y),\n",
    "        \"R2\":   r2_score(y, y_oof),\n",
    "        \"MAE\":  mean_absolute_error(y, y_oof),\n",
    "        \"RMSE\": np.sqrt(mean_squared_error(y, y_oof))\n",
    "    }\n",
    "\n",
    "# ---------- 3. Batch-run for all receptors ------------------------\n",
    "csv_files = sorted(glob.glob(f\"{CSV_DIR}/cleaned_5HT*.csv\"))\n",
    "results = [train_one_receptor(fp) for fp in tqdm(csv_files, desc=\"Batch\")]\n",
    "\n",
    "summary_df = (\n",
    "    pd.DataFrame(results)\n",
    "      .set_index(\"Receptor\")\n",
    "      .round(3)\n",
    "      .sort_index()\n",
    ")\n",
    "summary_df.to_csv(\"metrics_pKi_summary.csv\")\n",
    "print(summary_df)\n",
    "\n",
    "plt.figure(figsize=(6, 4))\n",
    "plt.bar(summary_df.index, summary_df[\"R2\"])\n",
    "plt.ylim(0, 1)\n",
    "plt.ylabel(\"R² (OOF)\")\n",
    "plt.title(\"pKi regression quality per receptor\")\n",
    "plt.tight_layout()\n",
    "plt.show()"
   ]
  }
 ],
 "metadata": {
  "kernelspec": {
   "display_name": "Python 3 (ipykernel)",
   "language": "python",
   "name": "python3"
  },
  "language_info": {
   "codemirror_mode": {
    "name": "ipython",
    "version": 3
   },
   "file_extension": ".py",
   "mimetype": "text/x-python",
   "name": "python",
   "nbconvert_exporter": "python",
   "pygments_lexer": "ipython3",
   "version": "3.10.16"
  }
 },
 "nbformat": 4,
 "nbformat_minor": 5
}
