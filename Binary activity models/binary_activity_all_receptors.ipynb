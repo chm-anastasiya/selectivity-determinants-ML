{
 "cells": [
  {
   "cell_type": "code",
   "execution_count": null,
   "id": "29057010-144f-4ae9-8432-b100db945a10",
   "metadata": {},
   "outputs": [
    {
     "data": {
      "application/vnd.jupyter.widget-view+json": {
       "model_id": "d49ead5460224b1bb93c8e2490764434",
       "version_major": 2,
       "version_minor": 0
      },
      "text/plain": [
       "Batch:   0%|          | 0/6 [00:00<?, ?it/s]"
      ]
     },
     "metadata": {},
     "output_type": "display_data"
    },
    {
     "name": "stderr",
     "output_type": "stream",
     "text": [
      "[I 2025-06-25 17:50:15,603] A new study created in memory with name: no-name-e8bf93b6-6367-441a-bec4-7ae52db044b4\n"
     ]
    },
    {
     "name": "stdout",
     "output_type": "stream",
     "text": [
      "Training until validation scores don't improve for 100 rounds\n",
      "Early stopping, best iteration is:\n",
      "[437]\tvalid_0's auc: 0.925838\n",
      "Training until validation scores don't improve for 100 rounds\n",
      "Early stopping, best iteration is:\n",
      "[464]\tvalid_0's auc: 0.920232\n",
      "Training until validation scores don't improve for 100 rounds\n",
      "Early stopping, best iteration is:\n",
      "[794]\tvalid_0's auc: 0.928384\n",
      "Training until validation scores don't improve for 100 rounds\n",
      "Early stopping, best iteration is:\n",
      "[1083]\tvalid_0's auc: 0.917467\n",
      "Training until validation scores don't improve for 100 rounds\n"
     ]
    },
    {
     "name": "stderr",
     "output_type": "stream",
     "text": [
      "[I 2025-06-25 17:50:55,893] Trial 0 finished with value: 0.919493079606065 and parameters: {'lr': 0.03574712922600244, 'leaves': 247, 'depth': 10, 'min_data': 64, 'f_frac': 0.6624074561769746, 'b_frac': 0.662397808134481, 'l1': 0.2904180608409973, 'l2': 4.330880728874676}. Best is trial 0 with value: 0.919493079606065.\n"
     ]
    },
    {
     "name": "stdout",
     "output_type": "stream",
     "text": [
      "Early stopping, best iteration is:\n",
      "[461]\tvalid_0's auc: 0.905544\n",
      "Training until validation scores don't improve for 100 rounds\n",
      "Early stopping, best iteration is:\n",
      "[649]\tvalid_0's auc: 0.916072\n",
      "Training until validation scores don't improve for 100 rounds\n",
      "Early stopping, best iteration is:\n",
      "[419]\tvalid_0's auc: 0.922311\n",
      "Training until validation scores don't improve for 100 rounds\n",
      "Early stopping, best iteration is:\n",
      "[547]\tvalid_0's auc: 0.919591\n",
      "Training until validation scores don't improve for 100 rounds\n",
      "Early stopping, best iteration is:\n",
      "[655]\tvalid_0's auc: 0.912424\n",
      "Training until validation scores don't improve for 100 rounds\n"
     ]
    },
    {
     "name": "stderr",
     "output_type": "stream",
     "text": [
      "[I 2025-06-25 17:51:07,721] Trial 1 finished with value: 0.9138651777365296 and parameters: {'lr': 0.07725378389307355, 'leaves': 191, 'depth': 3, 'min_data': 98, 'f_frac': 0.9329770563201687, 'b_frac': 0.6849356442713105, 'l1': 0.9091248360355031, 'l2': 0.9170225492671691}. Best is trial 0 with value: 0.919493079606065.\n"
     ]
    },
    {
     "name": "stdout",
     "output_type": "stream",
     "text": [
      "Early stopping, best iteration is:\n",
      "[448]\tvalid_0's auc: 0.898927\n",
      "Training until validation scores don't improve for 100 rounds\n",
      "Early stopping, best iteration is:\n",
      "[502]\tvalid_0's auc: 0.924087\n",
      "Training until validation scores don't improve for 100 rounds\n",
      "Early stopping, best iteration is:\n",
      "[830]\tvalid_0's auc: 0.922172\n",
      "Training until validation scores don't improve for 100 rounds\n",
      "Early stopping, best iteration is:\n",
      "[580]\tvalid_0's auc: 0.927846\n",
      "Training until validation scores don't improve for 100 rounds\n",
      "Early stopping, best iteration is:\n",
      "[1229]\tvalid_0's auc: 0.919796\n",
      "Training until validation scores don't improve for 100 rounds\n"
     ]
    },
    {
     "name": "stderr",
     "output_type": "stream",
     "text": [
      "[I 2025-06-25 17:51:39,907] Trial 2 finished with value: 0.9203139805969496 and parameters: {'lr': 0.028145092716060652, 'leaves': 151, 'depth': 7, 'min_data': 36, 'f_frac': 0.8447411578889518, 'b_frac': 0.6557975442608167, 'l1': 1.4607232426760908, 'l2': 1.8318092164684585}. Best is trial 2 with value: 0.9203139805969496.\n"
     ]
    },
    {
     "name": "stdout",
     "output_type": "stream",
     "text": [
      "Early stopping, best iteration is:\n",
      "[662]\tvalid_0's auc: 0.907669\n",
      "Training until validation scores don't improve for 100 rounds\n",
      "Early stopping, best iteration is:\n",
      "[490]\tvalid_0's auc: 0.919945\n",
      "Training until validation scores don't improve for 100 rounds\n",
      "Early stopping, best iteration is:\n",
      "[529]\tvalid_0's auc: 0.918509\n",
      "Training until validation scores don't improve for 100 rounds\n",
      "Early stopping, best iteration is:\n",
      "[951]\tvalid_0's auc: 0.921357\n",
      "Training until validation scores don't improve for 100 rounds\n",
      "Early stopping, best iteration is:\n",
      "[1137]\tvalid_0's auc: 0.914843\n",
      "Training until validation scores don't improve for 100 rounds\n"
     ]
    },
    {
     "name": "stderr",
     "output_type": "stream",
     "text": [
      "[I 2025-06-25 17:51:54,516] Trial 3 finished with value: 0.9148072183235539 and parameters: {'lr': 0.04717052037625178, 'leaves': 207, 'depth': 4, 'min_data': 56, 'f_frac': 0.836965827544817, 'b_frac': 0.6185801650879991, 'l1': 3.0377242595071916, 'l2': 0.8526206184364576}. Best is trial 2 with value: 0.9203139805969496.\n"
     ]
    },
    {
     "name": "stdout",
     "output_type": "stream",
     "text": [
      "Early stopping, best iteration is:\n",
      "[660]\tvalid_0's auc: 0.899382\n",
      "Training until validation scores don't improve for 100 rounds\n",
      "Early stopping, best iteration is:\n",
      "[1340]\tvalid_0's auc: 0.918015\n",
      "Training until validation scores don't improve for 100 rounds\n",
      "Early stopping, best iteration is:\n",
      "[1586]\tvalid_0's auc: 0.911893\n",
      "Training until validation scores don't improve for 100 rounds\n",
      "Did not meet early stopping. Best iteration is:\n",
      "[1909]\tvalid_0's auc: 0.923124\n",
      "Training until validation scores don't improve for 100 rounds\n",
      "Did not meet early stopping. Best iteration is:\n",
      "[1986]\tvalid_0's auc: 0.89878\n",
      "Training until validation scores don't improve for 100 rounds\n"
     ]
    },
    {
     "name": "stderr",
     "output_type": "stream",
     "text": [
      "[I 2025-06-25 17:52:33,220] Trial 4 finished with value: 0.9107877764356994 and parameters: {'lr': 0.012476394272569451, 'leaves': 247, 'depth': 12, 'min_data': 83, 'f_frac': 0.7218455076693483, 'b_frac': 0.6390688456025535, 'l1': 3.4211651325607844, 'l2': 2.2007624686980067}. Best is trial 2 with value: 0.9203139805969496.\n"
     ]
    },
    {
     "name": "stdout",
     "output_type": "stream",
     "text": [
      "Early stopping, best iteration is:\n",
      "[1740]\tvalid_0's auc: 0.902127\n",
      "Training until validation scores don't improve for 100 rounds\n",
      "Did not meet early stopping. Best iteration is:\n",
      "[2000]\tvalid_0's auc: 0.915165\n",
      "Training until validation scores don't improve for 100 rounds\n",
      "Did not meet early stopping. Best iteration is:\n",
      "[1997]\tvalid_0's auc: 0.917837\n",
      "Training until validation scores don't improve for 100 rounds\n",
      "Did not meet early stopping. Best iteration is:\n",
      "[1949]\tvalid_0's auc: 0.917326\n",
      "Training until validation scores don't improve for 100 rounds\n",
      "Did not meet early stopping. Best iteration is:\n",
      "[1995]\tvalid_0's auc: 0.9039\n",
      "Training until validation scores don't improve for 100 rounds\n"
     ]
    },
    {
     "name": "stderr",
     "output_type": "stream",
     "text": [
      "[I 2025-06-25 17:52:56,123] Trial 5 finished with value: 0.9109714075857965 and parameters: {'lr': 0.015144860262751412, 'leaves': 143, 'depth': 3, 'min_data': 92, 'f_frac': 0.7035119926400067, 'b_frac': 0.8650089137415928, 'l1': 1.5585553804470549, 'l2': 2.600340105889054}. Best is trial 2 with value: 0.9203139805969496.\n"
     ]
    },
    {
     "name": "stdout",
     "output_type": "stream",
     "text": [
      "Did not meet early stopping. Best iteration is:\n",
      "[1973]\tvalid_0's auc: 0.90063\n",
      "Training until validation scores don't improve for 100 rounds\n",
      "Early stopping, best iteration is:\n",
      "[283]\tvalid_0's auc: 0.92286\n",
      "Training until validation scores don't improve for 100 rounds\n",
      "Early stopping, best iteration is:\n",
      "[315]\tvalid_0's auc: 0.916329\n",
      "Training until validation scores don't improve for 100 rounds\n",
      "Early stopping, best iteration is:\n",
      "[353]\tvalid_0's auc: 0.929907\n",
      "Training until validation scores don't improve for 100 rounds\n",
      "Early stopping, best iteration is:\n",
      "[949]\tvalid_0's auc: 0.911873\n",
      "Training until validation scores don't improve for 100 rounds\n"
     ]
    },
    {
     "name": "stderr",
     "output_type": "stream",
     "text": [
      "[I 2025-06-25 17:53:13,456] Trial 6 finished with value: 0.9173525842193525 and parameters: {'lr': 0.06420330336297862, 'leaves': 71, 'depth': 12, 'min_data': 80, 'f_frac': 0.9757995766256756, 'b_frac': 0.9579309401710595, 'l1': 2.9894998940554256, 'l2': 4.609371175115584}. Best is trial 2 with value: 0.9203139805969496.\n"
     ]
    },
    {
     "name": "stdout",
     "output_type": "stream",
     "text": [
      "Early stopping, best iteration is:\n",
      "[306]\tvalid_0's auc: 0.906088\n",
      "Training until validation scores don't improve for 100 rounds\n",
      "Did not meet early stopping. Best iteration is:\n",
      "[1998]\tvalid_0's auc: 0.911701\n",
      "Training until validation scores don't improve for 100 rounds\n",
      "Early stopping, best iteration is:\n",
      "[1788]\tvalid_0's auc: 0.917178\n",
      "Training until validation scores don't improve for 100 rounds\n",
      "Did not meet early stopping. Best iteration is:\n",
      "[1991]\tvalid_0's auc: 0.912513\n",
      "Training until validation scores don't improve for 100 rounds\n",
      "Did not meet early stopping. Best iteration is:\n",
      "[1999]\tvalid_0's auc: 0.894045\n",
      "Training until validation scores don't improve for 100 rounds\n"
     ]
    },
    {
     "name": "stderr",
     "output_type": "stream",
     "text": [
      "[I 2025-06-25 17:53:55,785] Trial 7 finished with value: 0.9068062977179071 and parameters: {'lr': 0.01351182947645082, 'leaves': 71, 'depth': 3, 'min_data': 39, 'f_frac': 0.7554709158757928, 'b_frac': 0.7085396127095583, 'l1': 4.143687545759647, 'l2': 1.7837666334679465}. Best is trial 2 with value: 0.9203139805969496.\n"
     ]
    },
    {
     "name": "stdout",
     "output_type": "stream",
     "text": [
      "Did not meet early stopping. Best iteration is:\n",
      "[1991]\tvalid_0's auc: 0.898595\n",
      "Training until validation scores don't improve for 100 rounds\n",
      "Early stopping, best iteration is:\n",
      "[1313]\tvalid_0's auc: 0.916584\n",
      "Training until validation scores don't improve for 100 rounds\n",
      "Early stopping, best iteration is:\n",
      "[916]\tvalid_0's auc: 0.914035\n",
      "Training until validation scores don't improve for 100 rounds\n",
      "Early stopping, best iteration is:\n",
      "[1407]\tvalid_0's auc: 0.917851\n",
      "Training until validation scores don't improve for 100 rounds\n",
      "Did not meet early stopping. Best iteration is:\n",
      "[1994]\tvalid_0's auc: 0.907087\n",
      "Training until validation scores don't improve for 100 rounds\n"
     ]
    },
    {
     "name": "stderr",
     "output_type": "stream",
     "text": [
      "[I 2025-06-25 17:54:16,314] Trial 8 finished with value: 0.9113995950745538 and parameters: {'lr': 0.026000059117302653, 'leaves': 151, 'depth': 4, 'min_data': 82, 'f_frac': 0.6298202574719083, 'b_frac': 0.9947547746402069, 'l1': 3.861223846483287, 'l2': 0.993578407670862}. Best is trial 2 with value: 0.9203139805969496.\n"
     ]
    },
    {
     "name": "stdout",
     "output_type": "stream",
     "text": [
      "Early stopping, best iteration is:\n",
      "[1242]\tvalid_0's auc: 0.901673\n",
      "Training until validation scores don't improve for 100 rounds\n",
      "Early stopping, best iteration is:\n",
      "[1346]\tvalid_0's auc: 0.925531\n",
      "Training until validation scores don't improve for 100 rounds\n",
      "Early stopping, best iteration is:\n",
      "[1171]\tvalid_0's auc: 0.915049\n",
      "Training until validation scores don't improve for 100 rounds\n",
      "Early stopping, best iteration is:\n",
      "[1122]\tvalid_0's auc: 0.921639\n",
      "Training until validation scores don't improve for 100 rounds\n",
      "Did not meet early stopping. Best iteration is:\n",
      "[1999]\tvalid_0's auc: 0.905807\n",
      "Training until validation scores don't improve for 100 rounds\n",
      "Early stopping, best iteration is:\n",
      "[1618]\tvalid_0's auc: 0.904636\n"
     ]
    },
    {
     "name": "stderr",
     "output_type": "stream",
     "text": [
      "[I 2025-06-25 17:54:50,396] Trial 9 finished with value: 0.9145322496376259 and parameters: {'lr': 0.010189592979395137, 'leaves': 215, 'depth': 10, 'min_data': 76, 'f_frac': 0.9085081386743783, 'b_frac': 0.6296178606936361, 'l1': 1.7923286427213632, 'l2': 0.5793452976256486}. Best is trial 2 with value: 0.9203139805969496.\n"
     ]
    },
    {
     "name": "stdout",
     "output_type": "stream",
     "text": [
      "Training until validation scores don't improve for 100 rounds\n",
      "Early stopping, best iteration is:\n",
      "[351]\tvalid_0's auc: 0.92649\n",
      "Training until validation scores don't improve for 100 rounds\n",
      "Early stopping, best iteration is:\n",
      "[146]\tvalid_0's auc: 0.919409\n",
      "Training until validation scores don't improve for 100 rounds\n",
      "Early stopping, best iteration is:\n",
      "[235]\tvalid_0's auc: 0.923764\n",
      "Training until validation scores don't improve for 100 rounds\n",
      "Early stopping, best iteration is:\n",
      "[525]\tvalid_0's auc: 0.921908\n",
      "Training until validation scores don't improve for 100 rounds\n"
     ]
    },
    {
     "name": "stderr",
     "output_type": "stream",
     "text": [
      "[I 2025-06-25 17:54:59,654] Trial 10 finished with value: 0.9193104115331805 and parameters: {'lr': 0.1902160085549786, 'leaves': 31, 'depth': 7, 'min_data': 11, 'f_frac': 0.8277250010609204, 'b_frac': 0.777231918720281, 'l1': 4.7988537297270994, 'l2': 3.3342913754128913}. Best is trial 2 with value: 0.9203139805969496.\n"
     ]
    },
    {
     "name": "stdout",
     "output_type": "stream",
     "text": [
      "Early stopping, best iteration is:\n",
      "[85]\tvalid_0's auc: 0.907451\n",
      "Training until validation scores don't improve for 100 rounds\n",
      "Early stopping, best iteration is:\n",
      "[494]\tvalid_0's auc: 0.923473\n",
      "Training until validation scores don't improve for 100 rounds\n",
      "Early stopping, best iteration is:\n",
      "[376]\tvalid_0's auc: 0.928255\n",
      "Training until validation scores don't improve for 100 rounds\n",
      "Early stopping, best iteration is:\n",
      "[568]\tvalid_0's auc: 0.930944\n",
      "Training until validation scores don't improve for 100 rounds\n",
      "Early stopping, best iteration is:\n",
      "[1038]\tvalid_0's auc: 0.923674\n",
      "Training until validation scores don't improve for 100 rounds\n"
     ]
    },
    {
     "name": "stderr",
     "output_type": "stream",
     "text": [
      "[I 2025-06-25 17:55:23,397] Trial 11 finished with value: 0.9238142170872775 and parameters: {'lr': 0.031227201869348832, 'leaves': 255, 'depth': 8, 'min_data': 44, 'f_frac': 0.6098821354452019, 'b_frac': 0.7580270214839643, 'l1': 0.23304486130435842, 'l2': 4.695776478353494}. Best is trial 11 with value: 0.9238142170872775.\n"
     ]
    },
    {
     "name": "stdout",
     "output_type": "stream",
     "text": [
      "Early stopping, best iteration is:\n",
      "[664]\tvalid_0's auc: 0.912725\n",
      "Training until validation scores don't improve for 100 rounds\n",
      "Early stopping, best iteration is:\n",
      "[630]\tvalid_0's auc: 0.926541\n",
      "Training until validation scores don't improve for 100 rounds\n",
      "Early stopping, best iteration is:\n",
      "[491]\tvalid_0's auc: 0.928433\n",
      "Training until validation scores don't improve for 100 rounds\n",
      "Early stopping, best iteration is:\n",
      "[763]\tvalid_0's auc: 0.928512\n",
      "Training until validation scores don't improve for 100 rounds\n",
      "Early stopping, best iteration is:\n",
      "[1271]\tvalid_0's auc: 0.926477\n",
      "Training until validation scores don't improve for 100 rounds\n"
     ]
    },
    {
     "name": "stderr",
     "output_type": "stream",
     "text": [
      "[I 2025-06-25 17:55:50,509] Trial 12 finished with value: 0.9252644581414893 and parameters: {'lr': 0.028814437621510782, 'leaves': 143, 'depth': 7, 'min_data': 35, 'f_frac': 0.8723669686680338, 'b_frac': 0.7436848340944232, 'l1': 0.10512877265791018, 'l2': 3.435837126284376}. Best is trial 12 with value: 0.9252644581414893.\n"
     ]
    },
    {
     "name": "stdout",
     "output_type": "stream",
     "text": [
      "Early stopping, best iteration is:\n",
      "[659]\tvalid_0's auc: 0.916359\n",
      "Training until validation scores don't improve for 100 rounds\n",
      "Early stopping, best iteration is:\n",
      "[154]\tvalid_0's auc: 0.923026\n",
      "Training until validation scores don't improve for 100 rounds\n",
      "Early stopping, best iteration is:\n",
      "[93]\tvalid_0's auc: 0.933135\n",
      "Training until validation scores don't improve for 100 rounds\n",
      "Early stopping, best iteration is:\n",
      "[300]\tvalid_0's auc: 0.932096\n",
      "Training until validation scores don't improve for 100 rounds\n",
      "Early stopping, best iteration is:\n",
      "[414]\tvalid_0's auc: 0.924391\n",
      "Training until validation scores don't improve for 100 rounds\n"
     ]
    },
    {
     "name": "stderr",
     "output_type": "stream",
     "text": [
      "[I 2025-06-25 17:56:05,998] Trial 13 finished with value: 0.9250872109137662 and parameters: {'lr': 0.11279688290200175, 'leaves': 119, 'depth': 9, 'min_data': 32, 'f_frac': 0.7750991834830623, 'b_frac': 0.7659045489600382, 'l1': 0.009656699842370067, 'l2': 3.581883543537558}. Best is trial 12 with value: 0.9252644581414893.\n"
     ]
    },
    {
     "name": "stdout",
     "output_type": "stream",
     "text": [
      "Early stopping, best iteration is:\n",
      "[338]\tvalid_0's auc: 0.912789\n",
      "Training until validation scores don't improve for 100 rounds\n",
      "Early stopping, best iteration is:\n",
      "[112]\tvalid_0's auc: 0.929379\n",
      "Training until validation scores don't improve for 100 rounds\n",
      "Early stopping, best iteration is:\n",
      "[79]\tvalid_0's auc: 0.927115\n",
      "Training until validation scores don't improve for 100 rounds\n",
      "Early stopping, best iteration is:\n",
      "[280]\tvalid_0's auc: 0.932812\n",
      "Training until validation scores don't improve for 100 rounds\n",
      "Early stopping, best iteration is:\n",
      "[347]\tvalid_0's auc: 0.927411\n",
      "Training until validation scores don't improve for 100 rounds\n"
     ]
    },
    {
     "name": "stderr",
     "output_type": "stream",
     "text": [
      "[I 2025-06-25 17:56:19,118] Trial 14 finished with value: 0.9262492537933698 and parameters: {'lr': 0.13534206199430193, 'leaves': 111, 'depth': 9, 'min_data': 20, 'f_frac': 0.7757795210475573, 'b_frac': 0.8392836641906509, 'l1': 0.06807165299435783, 'l2': 3.5354269365526703}. Best is trial 14 with value: 0.9262492537933698.\n"
     ]
    },
    {
     "name": "stdout",
     "output_type": "stream",
     "text": [
      "Early stopping, best iteration is:\n",
      "[121]\tvalid_0's auc: 0.914529\n",
      "Training until validation scores don't improve for 100 rounds\n",
      "Early stopping, best iteration is:\n",
      "[178]\tvalid_0's auc: 0.924355\n",
      "Training until validation scores don't improve for 100 rounds\n",
      "Early stopping, best iteration is:\n",
      "[57]\tvalid_0's auc: 0.930334\n",
      "Training until validation scores don't improve for 100 rounds\n",
      "Early stopping, best iteration is:\n",
      "[234]\tvalid_0's auc: 0.934835\n",
      "Training until validation scores don't improve for 100 rounds\n",
      "Early stopping, best iteration is:\n",
      "[462]\tvalid_0's auc: 0.927322\n",
      "Training until validation scores don't improve for 100 rounds\n"
     ]
    },
    {
     "name": "stderr",
     "output_type": "stream",
     "text": [
      "[I 2025-06-25 17:56:29,770] Trial 15 finished with value: 0.925784774108994 and parameters: {'lr': 0.298667272694348, 'leaves': 111, 'depth': 6, 'min_data': 18, 'f_frac': 0.8896251144197834, 'b_frac': 0.853792480283932, 'l1': 0.9124055136870987, 'l2': 3.5480304099672884}. Best is trial 14 with value: 0.9262492537933698.\n"
     ]
    },
    {
     "name": "stdout",
     "output_type": "stream",
     "text": [
      "Early stopping, best iteration is:\n",
      "[85]\tvalid_0's auc: 0.912078\n",
      "Training until validation scores don't improve for 100 rounds\n",
      "Early stopping, best iteration is:\n",
      "[106]\tvalid_0's auc: 0.920968\n",
      "Training until validation scores don't improve for 100 rounds\n",
      "Early stopping, best iteration is:\n",
      "[64]\tvalid_0's auc: 0.92894\n",
      "Training until validation scores don't improve for 100 rounds\n",
      "Early stopping, best iteration is:\n",
      "[282]\tvalid_0's auc: 0.931942\n",
      "Training until validation scores don't improve for 100 rounds\n",
      "Early stopping, best iteration is:\n",
      "[382]\tvalid_0's auc: 0.919681\n",
      "Training until validation scores don't improve for 100 rounds\n"
     ]
    },
    {
     "name": "stderr",
     "output_type": "stream",
     "text": [
      "[I 2025-06-25 17:56:38,782] Trial 16 finished with value: 0.9238314475926389 and parameters: {'lr': 0.24260040195649707, 'leaves': 103, 'depth': 5, 'min_data': 14, 'f_frac': 0.9940190323984092, 'b_frac': 0.8480246667851135, 'l1': 0.8565005089261623, 'l2': 3.9507615987240197}. Best is trial 14 with value: 0.9262492537933698.\n"
     ]
    },
    {
     "name": "stdout",
     "output_type": "stream",
     "text": [
      "Early stopping, best iteration is:\n",
      "[88]\tvalid_0's auc: 0.917627\n",
      "Training until validation scores don't improve for 100 rounds\n",
      "Early stopping, best iteration is:\n",
      "[121]\tvalid_0's auc: 0.927666\n",
      "Training until validation scores don't improve for 100 rounds\n",
      "Early stopping, best iteration is:\n",
      "[75]\tvalid_0's auc: 0.923566\n",
      "Training until validation scores don't improve for 100 rounds\n",
      "Early stopping, best iteration is:\n",
      "[299]\tvalid_0's auc: 0.932185\n",
      "Training until validation scores don't improve for 100 rounds\n",
      "Early stopping, best iteration is:\n",
      "[1061]\tvalid_0's auc: 0.926093\n",
      "Training until validation scores don't improve for 100 rounds\n"
     ]
    },
    {
     "name": "stderr",
     "output_type": "stream",
     "text": [
      "[I 2025-06-25 17:56:50,203] Trial 17 finished with value: 0.9250458880872603 and parameters: {'lr': 0.14594870855947842, 'leaves': 87, 'depth': 6, 'min_data': 23, 'f_frac': 0.8937243027997999, 'b_frac': 0.8365465777964252, 'l1': 2.2748354434662947, 'l2': 2.7530946991746874}. Best is trial 14 with value: 0.9262492537933698.\n"
     ]
    },
    {
     "name": "stdout",
     "output_type": "stream",
     "text": [
      "Early stopping, best iteration is:\n",
      "[126]\tvalid_0's auc: 0.916347\n",
      "Training until validation scores don't improve for 100 rounds\n",
      "Early stopping, best iteration is:\n",
      "[353]\tvalid_0's auc: 0.916737\n",
      "Training until validation scores don't improve for 100 rounds\n",
      "Early stopping, best iteration is:\n",
      "[31]\tvalid_0's auc: 0.919079\n",
      "Training until validation scores don't improve for 100 rounds\n",
      "Early stopping, best iteration is:\n",
      "[211]\tvalid_0's auc: 0.935871\n",
      "Training until validation scores don't improve for 100 rounds\n",
      "Early stopping, best iteration is:\n",
      "[366]\tvalid_0's auc: 0.924122\n",
      "Training until validation scores don't improve for 100 rounds\n"
     ]
    },
    {
     "name": "stderr",
     "output_type": "stream",
     "text": [
      "[I 2025-06-25 17:56:59,325] Trial 18 finished with value: 0.9213356326885217 and parameters: {'lr': 0.28243721182126147, 'leaves': 31, 'depth': 9, 'min_data': 22, 'f_frac': 0.8025341362975624, 'b_frac': 0.8974949425260489, 'l1': 0.9876588604902542, 'l2': 3.032417468634785}. Best is trial 14 with value: 0.9262492537933698.\n"
     ]
    },
    {
     "name": "stdout",
     "output_type": "stream",
     "text": [
      "Early stopping, best iteration is:\n",
      "[91]\tvalid_0's auc: 0.910869\n",
      "Training until validation scores don't improve for 100 rounds\n",
      "Early stopping, best iteration is:\n",
      "[213]\tvalid_0's auc: 0.92286\n",
      "Training until validation scores don't improve for 100 rounds\n",
      "Early stopping, best iteration is:\n",
      "[123]\tvalid_0's auc: 0.926494\n",
      "Training until validation scores don't improve for 100 rounds\n",
      "Early stopping, best iteration is:\n",
      "[259]\tvalid_0's auc: 0.929395\n",
      "Training until validation scores don't improve for 100 rounds\n",
      "Early stopping, best iteration is:\n",
      "[557]\tvalid_0's auc: 0.922983\n",
      "Training until validation scores don't improve for 100 rounds\n"
     ]
    },
    {
     "name": "stderr",
     "output_type": "stream",
     "text": [
      "[I 2025-06-25 17:57:09,679] Trial 19 finished with value: 0.9214270059472822 and parameters: {'lr': 0.11971677241936413, 'leaves': 175, 'depth': 6, 'min_data': 49, 'f_frac': 0.9333381100256614, 'b_frac': 0.9147540309498274, 'l1': 2.0880500147947263, 'l2': 4.078649186547714}. Best is trial 14 with value: 0.9262492537933698.\n"
     ]
    },
    {
     "name": "stdout",
     "output_type": "stream",
     "text": [
      "Early stopping, best iteration is:\n",
      "[287]\tvalid_0's auc: 0.905404\n",
      "Training until validation scores don't improve for 100 rounds\n",
      "Early stopping, best iteration is:\n",
      "[61]\tvalid_0's auc: 0.919715\n",
      "Training until validation scores don't improve for 100 rounds\n",
      "Early stopping, best iteration is:\n",
      "[38]\tvalid_0's auc: 0.922983\n",
      "Training until validation scores don't improve for 100 rounds\n",
      "Early stopping, best iteration is:\n",
      "[84]\tvalid_0's auc: 0.927949\n",
      "Training until validation scores don't improve for 100 rounds\n",
      "Early stopping, best iteration is:\n",
      "[434]\tvalid_0's auc: 0.919361\n",
      "Training until validation scores don't improve for 100 rounds\n"
     ]
    },
    {
     "name": "stderr",
     "output_type": "stream",
     "text": [
      "[I 2025-06-25 17:57:19,836] Trial 20 finished with value: 0.9201266681868402 and parameters: {'lr': 0.18181285756906235, 'leaves': 119, 'depth': 11, 'min_data': 24, 'f_frac': 0.7364089421251856, 'b_frac': 0.8070594346879831, 'l1': 0.6564523628806861, 'l2': 3.882326512136843}. Best is trial 14 with value: 0.9262492537933698.\n"
     ]
    },
    {
     "name": "stdout",
     "output_type": "stream",
     "text": [
      "Early stopping, best iteration is:\n",
      "[202]\tvalid_0's auc: 0.910626\n",
      "Training until validation scores don't improve for 100 rounds\n",
      "Early stopping, best iteration is:\n",
      "[175]\tvalid_0's auc: 0.929724\n",
      "Training until validation scores don't improve for 100 rounds\n",
      "Early stopping, best iteration is:\n",
      "[108]\tvalid_0's auc: 0.927951\n",
      "Training until validation scores don't improve for 100 rounds\n",
      "Early stopping, best iteration is:\n",
      "[124]\tvalid_0's auc: 0.935871\n",
      "Training until validation scores don't improve for 100 rounds\n",
      "Early stopping, best iteration is:\n",
      "[329]\tvalid_0's auc: 0.929216\n",
      "Training until validation scores don't improve for 100 rounds\n"
     ]
    },
    {
     "name": "stderr",
     "output_type": "stream",
     "text": [
      "[I 2025-06-25 17:57:31,533] Trial 21 finished with value: 0.9272560730766722 and parameters: {'lr': 0.08901076111384056, 'leaves': 119, 'depth': 8, 'min_data': 28, 'f_frac': 0.8673628489282929, 'b_frac': 0.8069226427176633, 'l1': 0.47836513683367615, 'l2': 3.2849999772777485}. Best is trial 21 with value: 0.9272560730766722.\n"
     ]
    },
    {
     "name": "stdout",
     "output_type": "stream",
     "text": [
      "Early stopping, best iteration is:\n",
      "[149]\tvalid_0's auc: 0.913518\n",
      "Training until validation scores don't improve for 100 rounds\n",
      "Early stopping, best iteration is:\n",
      "[110]\tvalid_0's auc: 0.931321\n",
      "Training until validation scores don't improve for 100 rounds\n",
      "Early stopping, best iteration is:\n",
      "[108]\tvalid_0's auc: 0.922957\n",
      "Training until validation scores don't improve for 100 rounds\n",
      "Early stopping, best iteration is:\n",
      "[127]\tvalid_0's auc: 0.934195\n",
      "Training until validation scores don't improve for 100 rounds\n",
      "Early stopping, best iteration is:\n",
      "[334]\tvalid_0's auc: 0.923136\n",
      "Training until validation scores don't improve for 100 rounds\n"
     ]
    },
    {
     "name": "stderr",
     "output_type": "stream",
     "text": [
      "[I 2025-06-25 17:57:43,698] Trial 22 finished with value: 0.9245392919117151 and parameters: {'lr': 0.09230267816365455, 'leaves': 119, 'depth': 8, 'min_data': 19, 'f_frac': 0.7993195757436109, 'b_frac': 0.8131994077978248, 'l1': 1.2803485476141145, 'l2': 3.171599853766595}. Best is trial 21 with value: 0.9272560730766722.\n"
     ]
    },
    {
     "name": "stdout",
     "output_type": "stream",
     "text": [
      "Early stopping, best iteration is:\n",
      "[149]\tvalid_0's auc: 0.911086\n",
      "Training until validation scores don't improve for 100 rounds\n",
      "Early stopping, best iteration is:\n",
      "[118]\tvalid_0's auc: 0.923051\n",
      "Training until validation scores don't improve for 100 rounds\n",
      "Early stopping, best iteration is:\n",
      "[58]\tvalid_0's auc: 0.927685\n",
      "Training until validation scores don't improve for 100 rounds\n",
      "Early stopping, best iteration is:\n",
      "[113]\tvalid_0's auc: 0.930483\n",
      "Training until validation scores don't improve for 100 rounds\n",
      "Early stopping, best iteration is:\n",
      "[185]\tvalid_0's auc: 0.926106\n",
      "Training until validation scores don't improve for 100 rounds\n"
     ]
    },
    {
     "name": "stderr",
     "output_type": "stream",
     "text": [
      "[I 2025-06-25 17:57:54,294] Trial 23 finished with value: 0.9229860798783894 and parameters: {'lr': 0.19794506704553444, 'leaves': 63, 'depth': 9, 'min_data': 27, 'f_frac': 0.8660807074936328, 'b_frac': 0.8904467044813037, 'l1': 0.49586613447915745, 'l2': 4.947306277660576}. Best is trial 21 with value: 0.9272560730766722.\n"
     ]
    },
    {
     "name": "stdout",
     "output_type": "stream",
     "text": [
      "Early stopping, best iteration is:\n",
      "[87]\tvalid_0's auc: 0.907605\n",
      "Training until validation scores don't improve for 100 rounds\n",
      "Early stopping, best iteration is:\n",
      "[204]\tvalid_0's auc: 0.925186\n",
      "Training until validation scores don't improve for 100 rounds\n",
      "Early stopping, best iteration is:\n",
      "[148]\tvalid_0's auc: 0.931285\n",
      "Training until validation scores don't improve for 100 rounds\n",
      "Early stopping, best iteration is:\n",
      "[181]\tvalid_0's auc: 0.934617\n",
      "Training until validation scores don't improve for 100 rounds\n",
      "Early stopping, best iteration is:\n",
      "[236]\tvalid_0's auc: 0.924404\n",
      "Training until validation scores don't improve for 100 rounds\n"
     ]
    },
    {
     "name": "stderr",
     "output_type": "stream",
     "text": [
      "[I 2025-06-25 17:58:04,584] Trial 24 finished with value: 0.9255203167775484 and parameters: {'lr': 0.13642000868546453, 'leaves': 95, 'depth': 6, 'min_data': 11, 'f_frac': 0.9494338102088933, 'b_frac': 0.8279621902518961, 'l1': 1.198630747914137, 'l2': 3.689813399842972}. Best is trial 21 with value: 0.9272560730766722.\n"
     ]
    },
    {
     "name": "stdout",
     "output_type": "stream",
     "text": [
      "Early stopping, best iteration is:\n",
      "[175]\tvalid_0's auc: 0.91211\n",
      "Training until validation scores don't improve for 100 rounds\n",
      "Early stopping, best iteration is:\n",
      "[38]\tvalid_0's auc: 0.915881\n",
      "Training until validation scores don't improve for 100 rounds\n",
      "Early stopping, best iteration is:\n",
      "[158]\tvalid_0's auc: 0.937102\n",
      "Training until validation scores don't improve for 100 rounds\n",
      "Early stopping, best iteration is:\n",
      "[157]\tvalid_0's auc: 0.930393\n",
      "Training until validation scores don't improve for 100 rounds\n",
      "Early stopping, best iteration is:\n",
      "[228]\tvalid_0's auc: 0.922317\n",
      "Training until validation scores don't improve for 100 rounds\n",
      "Early stopping, best iteration is:\n",
      "[307]\tvalid_0's auc: 0.92162\n"
     ]
    },
    {
     "name": "stderr",
     "output_type": "stream",
     "text": [
      "[I 2025-06-25 17:58:36,198] A new study created in memory with name: no-name-c1ab3a60-37ab-4b57-868f-be8e2e3d8c5e\n"
     ]
    },
    {
     "name": "stdout",
     "output_type": "stream",
     "text": [
      "Training until validation scores don't improve for 100 rounds\n",
      "Early stopping, best iteration is:\n",
      "[599]\tvalid_0's auc: 0.883941\n",
      "Training until validation scores don't improve for 100 rounds\n",
      "Early stopping, best iteration is:\n",
      "[664]\tvalid_0's auc: 0.869252\n",
      "Training until validation scores don't improve for 100 rounds\n",
      "Early stopping, best iteration is:\n",
      "[589]\tvalid_0's auc: 0.902967\n",
      "Training until validation scores don't improve for 100 rounds\n",
      "Early stopping, best iteration is:\n",
      "[229]\tvalid_0's auc: 0.884281\n",
      "Training until validation scores don't improve for 100 rounds\n"
     ]
    },
    {
     "name": "stderr",
     "output_type": "stream",
     "text": [
      "[I 2025-06-25 17:58:52,558] Trial 0 finished with value: 0.881278998557583 and parameters: {'lr': 0.03574712922600244, 'leaves': 247, 'depth': 10, 'min_data': 64, 'f_frac': 0.6624074561769746, 'b_frac': 0.662397808134481, 'l1': 0.2904180608409973, 'l2': 4.330880728874676}. Best is trial 0 with value: 0.881278998557583.\n"
     ]
    },
    {
     "name": "stdout",
     "output_type": "stream",
     "text": [
      "Early stopping, best iteration is:\n",
      "[675]\tvalid_0's auc: 0.865954\n",
      "Training until validation scores don't improve for 100 rounds\n",
      "Early stopping, best iteration is:\n",
      "[496]\tvalid_0's auc: 0.860906\n",
      "Training until validation scores don't improve for 100 rounds\n",
      "Early stopping, best iteration is:\n",
      "[593]\tvalid_0's auc: 0.855891\n",
      "Training until validation scores don't improve for 100 rounds\n",
      "Early stopping, best iteration is:\n",
      "[574]\tvalid_0's auc: 0.895988\n",
      "Training until validation scores don't improve for 100 rounds\n",
      "Early stopping, best iteration is:\n",
      "[158]\tvalid_0's auc: 0.871122\n",
      "Training until validation scores don't improve for 100 rounds\n"
     ]
    },
    {
     "name": "stderr",
     "output_type": "stream",
     "text": [
      "[I 2025-06-25 17:58:58,345] Trial 1 finished with value: 0.8670902075500091 and parameters: {'lr': 0.07725378389307355, 'leaves': 191, 'depth': 3, 'min_data': 98, 'f_frac': 0.9329770563201687, 'b_frac': 0.6849356442713105, 'l1': 0.9091248360355031, 'l2': 0.9170225492671691}. Best is trial 0 with value: 0.881278998557583.\n"
     ]
    },
    {
     "name": "stdout",
     "output_type": "stream",
     "text": [
      "Early stopping, best iteration is:\n",
      "[310]\tvalid_0's auc: 0.851544\n",
      "Training until validation scores don't improve for 100 rounds\n",
      "Early stopping, best iteration is:\n",
      "[776]\tvalid_0's auc: 0.885879\n",
      "Training until validation scores don't improve for 100 rounds\n",
      "Early stopping, best iteration is:\n",
      "[717]\tvalid_0's auc: 0.870729\n",
      "Training until validation scores don't improve for 100 rounds\n",
      "Early stopping, best iteration is:\n",
      "[624]\tvalid_0's auc: 0.906861\n",
      "Training until validation scores don't improve for 100 rounds\n",
      "Early stopping, best iteration is:\n",
      "[531]\tvalid_0's auc: 0.88845\n",
      "Training until validation scores don't improve for 100 rounds\n"
     ]
    },
    {
     "name": "stderr",
     "output_type": "stream",
     "text": [
      "[I 2025-06-25 17:59:16,563] Trial 2 finished with value: 0.8843628193427528 and parameters: {'lr': 0.028145092716060652, 'leaves': 151, 'depth': 7, 'min_data': 36, 'f_frac': 0.8447411578889518, 'b_frac': 0.6557975442608167, 'l1': 1.4607232426760908, 'l2': 1.8318092164684585}. Best is trial 2 with value: 0.8843628193427528.\n"
     ]
    },
    {
     "name": "stdout",
     "output_type": "stream",
     "text": [
      "Early stopping, best iteration is:\n",
      "[584]\tvalid_0's auc: 0.869896\n",
      "Training until validation scores don't improve for 100 rounds\n",
      "Early stopping, best iteration is:\n",
      "[765]\tvalid_0's auc: 0.873339\n",
      "Training until validation scores don't improve for 100 rounds\n",
      "Early stopping, best iteration is:\n",
      "[755]\tvalid_0's auc: 0.861214\n",
      "Training until validation scores don't improve for 100 rounds\n",
      "Early stopping, best iteration is:\n",
      "[715]\tvalid_0's auc: 0.895631\n",
      "Training until validation scores don't improve for 100 rounds\n",
      "Early stopping, best iteration is:\n",
      "[283]\tvalid_0's auc: 0.87903\n",
      "Training until validation scores don't improve for 100 rounds\n"
     ]
    },
    {
     "name": "stderr",
     "output_type": "stream",
     "text": [
      "[I 2025-06-25 17:59:30,243] Trial 3 finished with value: 0.87338292837751 and parameters: {'lr': 0.04717052037625178, 'leaves': 207, 'depth': 4, 'min_data': 56, 'f_frac': 0.836965827544817, 'b_frac': 0.6185801650879991, 'l1': 3.0377242595071916, 'l2': 0.8526206184364576}. Best is trial 2 with value: 0.8843628193427528.\n"
     ]
    },
    {
     "name": "stdout",
     "output_type": "stream",
     "text": [
      "Early stopping, best iteration is:\n",
      "[886]\tvalid_0's auc: 0.857701\n",
      "Training until validation scores don't improve for 100 rounds\n",
      "Did not meet early stopping. Best iteration is:\n",
      "[2000]\tvalid_0's auc: 0.871992\n",
      "Training until validation scores don't improve for 100 rounds\n",
      "Did not meet early stopping. Best iteration is:\n",
      "[1906]\tvalid_0's auc: 0.861023\n",
      "Training until validation scores don't improve for 100 rounds\n",
      "Early stopping, best iteration is:\n",
      "[1087]\tvalid_0's auc: 0.891796\n",
      "Training until validation scores don't improve for 100 rounds\n",
      "Early stopping, best iteration is:\n",
      "[783]\tvalid_0's auc: 0.870574\n",
      "Training until validation scores don't improve for 100 rounds\n"
     ]
    },
    {
     "name": "stderr",
     "output_type": "stream",
     "text": [
      "[I 2025-06-25 17:59:58,693] Trial 4 finished with value: 0.8706721440266355 and parameters: {'lr': 0.012476394272569451, 'leaves': 247, 'depth': 12, 'min_data': 83, 'f_frac': 0.7218455076693483, 'b_frac': 0.6390688456025535, 'l1': 3.4211651325607844, 'l2': 2.2007624686980067}. Best is trial 2 with value: 0.8843628193427528.\n"
     ]
    },
    {
     "name": "stdout",
     "output_type": "stream",
     "text": [
      "Early stopping, best iteration is:\n",
      "[1672]\tvalid_0's auc: 0.857975\n",
      "Training until validation scores don't improve for 100 rounds\n",
      "Did not meet early stopping. Best iteration is:\n",
      "[1996]\tvalid_0's auc: 0.853472\n",
      "Training until validation scores don't improve for 100 rounds\n",
      "Did not meet early stopping. Best iteration is:\n",
      "[1997]\tvalid_0's auc: 0.844137\n",
      "Training until validation scores don't improve for 100 rounds\n",
      "Did not meet early stopping. Best iteration is:\n",
      "[1991]\tvalid_0's auc: 0.885377\n",
      "Training until validation scores don't improve for 100 rounds\n",
      "Early stopping, best iteration is:\n",
      "[1315]\tvalid_0's auc: 0.876553\n",
      "Training until validation scores don't improve for 100 rounds\n"
     ]
    },
    {
     "name": "stderr",
     "output_type": "stream",
     "text": [
      "[I 2025-06-25 18:00:15,229] Trial 5 finished with value: 0.8601872652282914 and parameters: {'lr': 0.015144860262751412, 'leaves': 143, 'depth': 3, 'min_data': 92, 'f_frac': 0.7035119926400067, 'b_frac': 0.8650089137415928, 'l1': 1.5585553804470549, 'l2': 2.600340105889054}. Best is trial 2 with value: 0.8843628193427528.\n"
     ]
    },
    {
     "name": "stdout",
     "output_type": "stream",
     "text": [
      "Early stopping, best iteration is:\n",
      "[974]\tvalid_0's auc: 0.841398\n",
      "Training until validation scores don't improve for 100 rounds\n",
      "Early stopping, best iteration is:\n",
      "[529]\tvalid_0's auc: 0.878741\n",
      "Training until validation scores don't improve for 100 rounds\n",
      "Early stopping, best iteration is:\n",
      "[480]\tvalid_0's auc: 0.86568\n",
      "Training until validation scores don't improve for 100 rounds\n",
      "Early stopping, best iteration is:\n",
      "[574]\tvalid_0's auc: 0.896274\n",
      "Training until validation scores don't improve for 100 rounds\n",
      "Early stopping, best iteration is:\n",
      "[190]\tvalid_0's auc: 0.880221\n",
      "Training until validation scores don't improve for 100 rounds\n"
     ]
    },
    {
     "name": "stderr",
     "output_type": "stream",
     "text": [
      "[I 2025-06-25 18:00:28,911] Trial 6 finished with value: 0.8772045760386973 and parameters: {'lr': 0.06420330336297862, 'leaves': 71, 'depth': 12, 'min_data': 80, 'f_frac': 0.9757995766256756, 'b_frac': 0.9579309401710595, 'l1': 2.9894998940554256, 'l2': 4.609371175115584}. Best is trial 2 with value: 0.8843628193427528.\n"
     ]
    },
    {
     "name": "stdout",
     "output_type": "stream",
     "text": [
      "Early stopping, best iteration is:\n",
      "[400]\tvalid_0's auc: 0.865108\n",
      "Training until validation scores don't improve for 100 rounds\n",
      "Did not meet early stopping. Best iteration is:\n",
      "[1992]\tvalid_0's auc: 0.855623\n",
      "Training until validation scores don't improve for 100 rounds\n",
      "Did not meet early stopping. Best iteration is:\n",
      "[2000]\tvalid_0's auc: 0.849234\n",
      "Training until validation scores don't improve for 100 rounds\n",
      "Did not meet early stopping. Best iteration is:\n",
      "[1988]\tvalid_0's auc: 0.891605\n",
      "Training until validation scores don't improve for 100 rounds\n",
      "Early stopping, best iteration is:\n",
      "[1231]\tvalid_0's auc: 0.872075\n",
      "Training until validation scores don't improve for 100 rounds\n"
     ]
    },
    {
     "name": "stderr",
     "output_type": "stream",
     "text": [
      "[I 2025-06-25 18:00:47,879] Trial 7 finished with value: 0.8629611305201689 and parameters: {'lr': 0.01351182947645082, 'leaves': 71, 'depth': 3, 'min_data': 39, 'f_frac': 0.7554709158757928, 'b_frac': 0.7085396127095583, 'l1': 4.143687545759647, 'l2': 1.7837666334679465}. Best is trial 2 with value: 0.8843628193427528.\n"
     ]
    },
    {
     "name": "stdout",
     "output_type": "stream",
     "text": [
      "Early stopping, best iteration is:\n",
      "[1025]\tvalid_0's auc: 0.846268\n",
      "Training until validation scores don't improve for 100 rounds\n",
      "Did not meet early stopping. Best iteration is:\n",
      "[1983]\tvalid_0's auc: 0.863861\n",
      "Training until validation scores don't improve for 100 rounds\n",
      "Early stopping, best iteration is:\n",
      "[1698]\tvalid_0's auc: 0.850758\n",
      "Training until validation scores don't improve for 100 rounds\n",
      "Early stopping, best iteration is:\n",
      "[1802]\tvalid_0's auc: 0.891736\n",
      "Training until validation scores don't improve for 100 rounds\n",
      "Early stopping, best iteration is:\n",
      "[563]\tvalid_0's auc: 0.874623\n",
      "Training until validation scores don't improve for 100 rounds\n"
     ]
    },
    {
     "name": "stderr",
     "output_type": "stream",
     "text": [
      "[I 2025-06-25 18:01:05,878] Trial 8 finished with value: 0.8667261027706896 and parameters: {'lr': 0.026000059117302653, 'leaves': 151, 'depth': 4, 'min_data': 82, 'f_frac': 0.6298202574719083, 'b_frac': 0.9947547746402069, 'l1': 3.861223846483287, 'l2': 0.993578407670862}. Best is trial 2 with value: 0.8843628193427528.\n"
     ]
    },
    {
     "name": "stdout",
     "output_type": "stream",
     "text": [
      "Early stopping, best iteration is:\n",
      "[884]\tvalid_0's auc: 0.85289\n",
      "Training until validation scores don't improve for 100 rounds\n",
      "Early stopping, best iteration is:\n",
      "[1827]\tvalid_0's auc: 0.877133\n",
      "Training until validation scores don't improve for 100 rounds\n",
      "Early stopping, best iteration is:\n",
      "[1890]\tvalid_0's auc: 0.864406\n",
      "Training until validation scores don't improve for 100 rounds\n",
      "Early stopping, best iteration is:\n",
      "[1362]\tvalid_0's auc: 0.89706\n",
      "Training until validation scores don't improve for 100 rounds\n",
      "Early stopping, best iteration is:\n",
      "[908]\tvalid_0's auc: 0.873754\n",
      "Training until validation scores don't improve for 100 rounds\n"
     ]
    },
    {
     "name": "stderr",
     "output_type": "stream",
     "text": [
      "[I 2025-06-25 18:01:39,387] Trial 9 finished with value: 0.8744394078330796 and parameters: {'lr': 0.010189592979395137, 'leaves': 215, 'depth': 10, 'min_data': 76, 'f_frac': 0.9085081386743783, 'b_frac': 0.6296178606936361, 'l1': 1.7923286427213632, 'l2': 0.5793452976256486}. Best is trial 2 with value: 0.8843628193427528.\n"
     ]
    },
    {
     "name": "stdout",
     "output_type": "stream",
     "text": [
      "Early stopping, best iteration is:\n",
      "[1227]\tvalid_0's auc: 0.859844\n",
      "Training until validation scores don't improve for 100 rounds\n",
      "Early stopping, best iteration is:\n",
      "[278]\tvalid_0's auc: 0.882688\n",
      "Training until validation scores don't improve for 100 rounds\n",
      "Early stopping, best iteration is:\n",
      "[236]\tvalid_0's auc: 0.87292\n",
      "Training until validation scores don't improve for 100 rounds\n",
      "Early stopping, best iteration is:\n",
      "[288]\tvalid_0's auc: 0.902204\n",
      "Training until validation scores don't improve for 100 rounds\n",
      "Early stopping, best iteration is:\n",
      "[164]\tvalid_0's auc: 0.881459\n",
      "Training until validation scores don't improve for 100 rounds\n"
     ]
    },
    {
     "name": "stderr",
     "output_type": "stream",
     "text": [
      "[I 2025-06-25 18:01:47,816] Trial 10 finished with value: 0.8814905254086639 and parameters: {'lr': 0.1902160085549786, 'leaves': 31, 'depth': 7, 'min_data': 11, 'f_frac': 0.8277250010609204, 'b_frac': 0.777231918720281, 'l1': 4.7988537297270994, 'l2': 3.3342913754128913}. Best is trial 2 with value: 0.8843628193427528.\n"
     ]
    },
    {
     "name": "stdout",
     "output_type": "stream",
     "text": [
      "Early stopping, best iteration is:\n",
      "[232]\tvalid_0's auc: 0.868431\n",
      "Training until validation scores don't improve for 100 rounds\n",
      "Early stopping, best iteration is:\n",
      "[536]\tvalid_0's auc: 0.885194\n",
      "Training until validation scores don't improve for 100 rounds\n",
      "Early stopping, best iteration is:\n",
      "[132]\tvalid_0's auc: 0.868312\n",
      "Training until validation scores don't improve for 100 rounds\n",
      "Early stopping, best iteration is:\n",
      "[979]\tvalid_0's auc: 0.901323\n",
      "Training until validation scores don't improve for 100 rounds\n",
      "Early stopping, best iteration is:\n",
      "[30]\tvalid_0's auc: 0.878089\n",
      "Training until validation scores don't improve for 100 rounds\n"
     ]
    },
    {
     "name": "stderr",
     "output_type": "stream",
     "text": [
      "[I 2025-06-25 18:01:56,459] Trial 11 finished with value: 0.8795919803481939 and parameters: {'lr': 0.25048257256503326, 'leaves': 31, 'depth': 7, 'min_data': 10, 'f_frac': 0.83445433467569, 'b_frac': 0.7737425087025644, 'l1': 4.790027701422236, 'l2': 3.292044498377011}. Best is trial 2 with value: 0.8843628193427528.\n"
     ]
    },
    {
     "name": "stdout",
     "output_type": "stream",
     "text": [
      "Early stopping, best iteration is:\n",
      "[160]\tvalid_0's auc: 0.867014\n",
      "Training until validation scores don't improve for 100 rounds\n",
      "Early stopping, best iteration is:\n",
      "[214]\tvalid_0's auc: 0.889377\n",
      "Training until validation scores don't improve for 100 rounds\n",
      "Early stopping, best iteration is:\n",
      "[261]\tvalid_0's auc: 0.86624\n",
      "Training until validation scores don't improve for 100 rounds\n",
      "Early stopping, best iteration is:\n",
      "[206]\tvalid_0's auc: 0.905372\n",
      "Training until validation scores don't improve for 100 rounds\n",
      "Early stopping, best iteration is:\n",
      "[149]\tvalid_0's auc: 0.887985\n",
      "Training until validation scores don't improve for 100 rounds\n"
     ]
    },
    {
     "name": "stderr",
     "output_type": "stream",
     "text": [
      "[I 2025-06-25 18:02:08,160] Trial 12 finished with value: 0.8838596874895123 and parameters: {'lr': 0.1763497205994103, 'leaves': 127, 'depth': 7, 'min_data': 15, 'f_frac': 0.8082505390486119, 'b_frac': 0.7632967396503442, 'l1': 2.0827855813857, 'l2': 3.4593823258110095}. Best is trial 2 with value: 0.8843628193427528.\n"
     ]
    },
    {
     "name": "stdout",
     "output_type": "stream",
     "text": [
      "Early stopping, best iteration is:\n",
      "[109]\tvalid_0's auc: 0.870324\n",
      "Training until validation scores don't improve for 100 rounds\n",
      "Early stopping, best iteration is:\n",
      "[262]\tvalid_0's auc: 0.885146\n",
      "Training until validation scores don't improve for 100 rounds\n",
      "Early stopping, best iteration is:\n",
      "[342]\tvalid_0's auc: 0.86718\n",
      "Training until validation scores don't improve for 100 rounds\n",
      "Early stopping, best iteration is:\n",
      "[293]\tvalid_0's auc: 0.90349\n",
      "Training until validation scores don't improve for 100 rounds\n",
      "Early stopping, best iteration is:\n",
      "[129]\tvalid_0's auc: 0.887306\n",
      "Training until validation scores don't improve for 100 rounds\n"
     ]
    },
    {
     "name": "stderr",
     "output_type": "stream",
     "text": [
      "[I 2025-06-25 18:02:17,799] Trial 13 finished with value: 0.8826681144969601 and parameters: {'lr': 0.1295735730144308, 'leaves': 135, 'depth': 6, 'min_data': 30, 'f_frac': 0.7807478429891066, 'b_frac': 0.8643422901169147, 'l1': 2.039294159774774, 'l2': 3.6006168209627845}. Best is trial 2 with value: 0.8843628193427528.\n"
     ]
    },
    {
     "name": "stdout",
     "output_type": "stream",
     "text": [
      "Early stopping, best iteration is:\n",
      "[334]\tvalid_0's auc: 0.870217\n",
      "Training until validation scores don't improve for 100 rounds\n",
      "Early stopping, best iteration is:\n",
      "[216]\tvalid_0's auc: 0.884106\n",
      "Training until validation scores don't improve for 100 rounds\n",
      "Early stopping, best iteration is:\n",
      "[212]\tvalid_0's auc: 0.870562\n",
      "Training until validation scores don't improve for 100 rounds\n",
      "Early stopping, best iteration is:\n",
      "[182]\tvalid_0's auc: 0.906956\n",
      "Training until validation scores don't improve for 100 rounds\n",
      "Early stopping, best iteration is:\n",
      "[44]\tvalid_0's auc: 0.890534\n",
      "Training until validation scores don't improve for 100 rounds\n"
     ]
    },
    {
     "name": "stderr",
     "output_type": "stream",
     "text": [
      "[I 2025-06-25 18:02:28,824] Trial 14 finished with value: 0.8852753638251013 and parameters: {'lr': 0.0984034778816934, 'leaves': 111, 'depth': 9, 'min_data': 30, 'f_frac': 0.8865298270856846, 'b_frac': 0.7241424377227471, 'l1': 1.0520406937339573, 'l2': 1.786222509296779}. Best is trial 14 with value: 0.8852753638251013.\n"
     ]
    },
    {
     "name": "stdout",
     "output_type": "stream",
     "text": [
      "Early stopping, best iteration is:\n",
      "[244]\tvalid_0's auc: 0.874218\n",
      "Training until validation scores don't improve for 100 rounds\n",
      "Early stopping, best iteration is:\n",
      "[379]\tvalid_0's auc: 0.885844\n",
      "Training until validation scores don't improve for 100 rounds\n",
      "Early stopping, best iteration is:\n",
      "[111]\tvalid_0's auc: 0.868443\n",
      "Training until validation scores don't improve for 100 rounds\n",
      "Early stopping, best iteration is:\n",
      "[454]\tvalid_0's auc: 0.902585\n",
      "Training until validation scores don't improve for 100 rounds\n",
      "Early stopping, best iteration is:\n",
      "[44]\tvalid_0's auc: 0.88633\n",
      "Training until validation scores don't improve for 100 rounds\n"
     ]
    },
    {
     "name": "stderr",
     "output_type": "stream",
     "text": [
      "[I 2025-06-25 18:02:42,127] Trial 15 finished with value: 0.881521416304258 and parameters: {'lr': 0.10568318125871395, 'leaves': 95, 'depth': 9, 'min_data': 37, 'f_frac': 0.8896251144197834, 'b_frac': 0.7045512766565784, 'l1': 0.9660956277259607, 'l2': 0.04537676856839479}. Best is trial 14 with value: 0.8852753638251013.\n"
     ]
    },
    {
     "name": "stdout",
     "output_type": "stream",
     "text": [
      "Early stopping, best iteration is:\n",
      "[167]\tvalid_0's auc: 0.864406\n",
      "Training until validation scores don't improve for 100 rounds\n",
      "Early stopping, best iteration is:\n",
      "[679]\tvalid_0's auc: 0.887439\n",
      "Training until validation scores don't improve for 100 rounds\n",
      "Early stopping, best iteration is:\n",
      "[747]\tvalid_0's auc: 0.875397\n",
      "Training until validation scores don't improve for 100 rounds\n",
      "Early stopping, best iteration is:\n",
      "[574]\tvalid_0's auc: 0.910243\n",
      "Training until validation scores don't improve for 100 rounds\n",
      "Early stopping, best iteration is:\n",
      "[292]\tvalid_0's auc: 0.891367\n",
      "Training until validation scores don't improve for 100 rounds\n"
     ]
    },
    {
     "name": "stderr",
     "output_type": "stream",
     "text": [
      "[I 2025-06-25 18:03:08,024] Trial 16 finished with value: 0.8881260233060259 and parameters: {'lr': 0.024235460529408535, 'leaves': 175, 'depth': 9, 'min_data': 25, 'f_frac': 0.9983218288570938, 'b_frac': 0.7309937478265518, 'l1': 0.023700598265445905, 'l2': 1.595619693478993}. Best is trial 16 with value: 0.8881260233060259.\n"
     ]
    },
    {
     "name": "stdout",
     "output_type": "stream",
     "text": [
      "Early stopping, best iteration is:\n",
      "[542]\tvalid_0's auc: 0.876183\n",
      "Training until validation scores don't improve for 100 rounds\n",
      "Early stopping, best iteration is:\n",
      "[516]\tvalid_0's auc: 0.882121\n",
      "Training until validation scores don't improve for 100 rounds\n",
      "Early stopping, best iteration is:\n",
      "[737]\tvalid_0's auc: 0.8751\n",
      "Training until validation scores don't improve for 100 rounds\n",
      "Early stopping, best iteration is:\n",
      "[581]\tvalid_0's auc: 0.910493\n",
      "Training until validation scores don't improve for 100 rounds\n",
      "Early stopping, best iteration is:\n",
      "[383]\tvalid_0's auc: 0.898393\n",
      "Training until validation scores don't improve for 100 rounds\n"
     ]
    },
    {
     "name": "stderr",
     "output_type": "stream",
     "text": [
      "[I 2025-06-25 18:03:35,003] Trial 17 finished with value: 0.8873576844531103 and parameters: {'lr': 0.019694374650660113, 'leaves': 175, 'depth': 9, 'min_data': 23, 'f_frac': 0.997853807309622, 'b_frac': 0.8365142487176482, 'l1': 0.06589607190461777, 'l2': 1.602840948915935}. Best is trial 16 with value: 0.8881260233060259.\n"
     ]
    },
    {
     "name": "stdout",
     "output_type": "stream",
     "text": [
      "Early stopping, best iteration is:\n",
      "[519]\tvalid_0's auc: 0.870682\n",
      "Training until validation scores don't improve for 100 rounds\n",
      "Early stopping, best iteration is:\n",
      "[761]\tvalid_0's auc: 0.888385\n",
      "Training until validation scores don't improve for 100 rounds\n",
      "Early stopping, best iteration is:\n",
      "[805]\tvalid_0's auc: 0.874195\n",
      "Training until validation scores don't improve for 100 rounds\n",
      "Early stopping, best iteration is:\n",
      "[558]\tvalid_0's auc: 0.907885\n",
      "Training until validation scores don't improve for 100 rounds\n",
      "Early stopping, best iteration is:\n",
      "[391]\tvalid_0's auc: 0.895702\n",
      "Training until validation scores don't improve for 100 rounds\n"
     ]
    },
    {
     "name": "stderr",
     "output_type": "stream",
     "text": [
      "[I 2025-06-25 18:04:12,607] Trial 18 finished with value: 0.888722405245967 and parameters: {'lr': 0.02130259592938491, 'leaves': 175, 'depth': 9, 'min_data': 21, 'f_frac': 0.9993262057941295, 'b_frac': 0.850967930645987, 'l1': 0.1511637332496454, 'l2': 2.5559281901297277}. Best is trial 18 with value: 0.888722405245967.\n"
     ]
    },
    {
     "name": "stdout",
     "output_type": "stream",
     "text": [
      "Early stopping, best iteration is:\n",
      "[1073]\tvalid_0's auc: 0.877446\n",
      "Training until validation scores don't improve for 100 rounds\n",
      "Early stopping, best iteration is:\n",
      "[413]\tvalid_0's auc: 0.8866\n",
      "Training until validation scores don't improve for 100 rounds\n",
      "Early stopping, best iteration is:\n",
      "[387]\tvalid_0's auc: 0.869324\n",
      "Training until validation scores don't improve for 100 rounds\n",
      "Early stopping, best iteration is:\n",
      "[271]\tvalid_0's auc: 0.902978\n",
      "Training until validation scores don't improve for 100 rounds\n",
      "Early stopping, best iteration is:\n",
      "[182]\tvalid_0's auc: 0.891272\n",
      "Training until validation scores don't improve for 100 rounds\n"
     ]
    },
    {
     "name": "stderr",
     "output_type": "stream",
     "text": [
      "[I 2025-06-25 18:04:29,353] Trial 19 finished with value: 0.8847570932677694 and parameters: {'lr': 0.04263494650162085, 'leaves': 175, 'depth': 11, 'min_data': 49, 'f_frac': 0.9520999985150264, 'b_frac': 0.915732754397644, 'l1': 0.5536170648876793, 'l2': 2.75281578282837}. Best is trial 18 with value: 0.888722405245967.\n"
     ]
    },
    {
     "name": "stdout",
     "output_type": "stream",
     "text": [
      "Early stopping, best iteration is:\n",
      "[450]\tvalid_0's auc: 0.873611\n",
      "Training until validation scores don't improve for 100 rounds\n",
      "Early stopping, best iteration is:\n",
      "[1059]\tvalid_0's auc: 0.887534\n",
      "Training until validation scores don't improve for 100 rounds\n",
      "Early stopping, best iteration is:\n",
      "[814]\tvalid_0's auc: 0.876362\n",
      "Training until validation scores don't improve for 100 rounds\n",
      "Early stopping, best iteration is:\n",
      "[739]\tvalid_0's auc: 0.908016\n",
      "Training until validation scores don't improve for 100 rounds\n",
      "Early stopping, best iteration is:\n",
      "[308]\tvalid_0's auc: 0.895916\n",
      "Training until validation scores don't improve for 100 rounds\n"
     ]
    },
    {
     "name": "stderr",
     "output_type": "stream",
     "text": [
      "[I 2025-06-25 18:05:04,146] Trial 20 finished with value: 0.8888094482835525 and parameters: {'lr': 0.021743256205556432, 'leaves': 215, 'depth': 8, 'min_data': 21, 'f_frac': 0.9973730284822037, 'b_frac': 0.8388049554799257, 'l1': 0.02051141608120218, 'l2': 4.008075700880431}. Best is trial 20 with value: 0.8888094482835525.\n"
     ]
    },
    {
     "name": "stdout",
     "output_type": "stream",
     "text": [
      "Early stopping, best iteration is:\n",
      "[903]\tvalid_0's auc: 0.876219\n",
      "Training until validation scores don't improve for 100 rounds\n",
      "Early stopping, best iteration is:\n",
      "[906]\tvalid_0's auc: 0.889058\n",
      "Training until validation scores don't improve for 100 rounds\n",
      "Early stopping, best iteration is:\n",
      "[683]\tvalid_0's auc: 0.873778\n",
      "Training until validation scores don't improve for 100 rounds\n",
      "Early stopping, best iteration is:\n",
      "[725]\tvalid_0's auc: 0.906968\n",
      "Training until validation scores don't improve for 100 rounds\n",
      "Early stopping, best iteration is:\n",
      "[532]\tvalid_0's auc: 0.896762\n",
      "Training until validation scores don't improve for 100 rounds\n"
     ]
    },
    {
     "name": "stderr",
     "output_type": "stream",
     "text": [
      "[I 2025-06-25 18:05:37,660] Trial 21 finished with value: 0.8883117115107921 and parameters: {'lr': 0.020604478664664583, 'leaves': 223, 'depth': 8, 'min_data': 22, 'f_frac': 0.9984901537620982, 'b_frac': 0.825892161012452, 'l1': 0.07510605812843618, 'l2': 4.0864241050951975}. Best is trial 20 with value: 0.8888094482835525.\n"
     ]
    },
    {
     "name": "stdout",
     "output_type": "stream",
     "text": [
      "Early stopping, best iteration is:\n",
      "[991]\tvalid_0's auc: 0.874993\n",
      "Training until validation scores don't improve for 100 rounds\n",
      "Early stopping, best iteration is:\n",
      "[1060]\tvalid_0's auc: 0.88842\n",
      "Training until validation scores don't improve for 100 rounds\n",
      "Early stopping, best iteration is:\n",
      "[734]\tvalid_0's auc: 0.874719\n",
      "Training until validation scores don't improve for 100 rounds\n",
      "Early stopping, best iteration is:\n",
      "[1032]\tvalid_0's auc: 0.908528\n",
      "Training until validation scores don't improve for 100 rounds\n",
      "Early stopping, best iteration is:\n",
      "[418]\tvalid_0's auc: 0.894964\n",
      "Training until validation scores don't improve for 100 rounds\n"
     ]
    },
    {
     "name": "stderr",
     "output_type": "stream",
     "text": [
      "[I 2025-06-25 18:06:13,845] Trial 22 finished with value: 0.8878434762650743 and parameters: {'lr': 0.019931583274844063, 'leaves': 223, 'depth': 8, 'min_data': 20, 'f_frac': 0.9512912456227545, 'b_frac': 0.8163874687494738, 'l1': 0.5803738002298261, 'l2': 4.066201437924353}. Best is trial 20 with value: 0.8888094482835525.\n"
     ]
    },
    {
     "name": "stdout",
     "output_type": "stream",
     "text": [
      "Early stopping, best iteration is:\n",
      "[877]\tvalid_0's auc: 0.872587\n",
      "Training until validation scores don't improve for 100 rounds\n",
      "Early stopping, best iteration is:\n",
      "[1000]\tvalid_0's auc: 0.884106\n",
      "Training until validation scores don't improve for 100 rounds\n",
      "Early stopping, best iteration is:\n",
      "[958]\tvalid_0's auc: 0.871849\n",
      "Training until validation scores don't improve for 100 rounds\n",
      "Early stopping, best iteration is:\n",
      "[880]\tvalid_0's auc: 0.906551\n",
      "Training until validation scores don't improve for 100 rounds\n",
      "Early stopping, best iteration is:\n",
      "[349]\tvalid_0's auc: 0.889569\n",
      "Training until validation scores don't improve for 100 rounds\n"
     ]
    },
    {
     "name": "stderr",
     "output_type": "stream",
     "text": [
      "[I 2025-06-25 18:06:36,213] Trial 23 finished with value: 0.8847013561319692 and parameters: {'lr': 0.03342746605656363, 'leaves': 231, 'depth': 6, 'min_data': 44, 'f_frac': 0.9163345039665028, 'b_frac': 0.8975124222703782, 'l1': 0.5380659386841412, 'l2': 4.947306277660576}. Best is trial 20 with value: 0.8888094482835525.\n"
     ]
    },
    {
     "name": "stdout",
     "output_type": "stream",
     "text": [
      "Early stopping, best iteration is:\n",
      "[1039]\tvalid_0's auc: 0.871432\n",
      "Training until validation scores don't improve for 100 rounds\n",
      "Early stopping, best iteration is:\n",
      "[1126]\tvalid_0's auc: 0.890488\n",
      "Training until validation scores don't improve for 100 rounds\n",
      "Early stopping, best iteration is:\n",
      "[993]\tvalid_0's auc: 0.873861\n",
      "Training until validation scores don't improve for 100 rounds\n",
      "Early stopping, best iteration is:\n",
      "[584]\tvalid_0's auc: 0.90305\n",
      "Training until validation scores don't improve for 100 rounds\n",
      "Early stopping, best iteration is:\n",
      "[415]\tvalid_0's auc: 0.893035\n",
      "Training until validation scores don't improve for 100 rounds\n"
     ]
    },
    {
     "name": "stderr",
     "output_type": "stream",
     "text": [
      "[I 2025-06-25 18:07:13,478] Trial 24 finished with value: 0.8869781161822463 and parameters: {'lr': 0.01792063750842161, 'leaves': 199, 'depth': 8, 'min_data': 19, 'f_frac': 0.9668843067023696, 'b_frac': 0.8310365866154782, 'l1': 1.0803825026633953, 'l2': 3.9145845274459}. Best is trial 20 with value: 0.8888094482835525.\n"
     ]
    },
    {
     "name": "stdout",
     "output_type": "stream",
     "text": [
      "Early stopping, best iteration is:\n",
      "[964]\tvalid_0's auc: 0.874457\n",
      "Training until validation scores don't improve for 100 rounds\n",
      "Early stopping, best iteration is:\n",
      "[182]\tvalid_0's auc: 0.868045\n",
      "Training until validation scores don't improve for 100 rounds\n",
      "Early stopping, best iteration is:\n",
      "[210]\tvalid_0's auc: 0.874349\n",
      "Training until validation scores don't improve for 100 rounds\n",
      "Early stopping, best iteration is:\n",
      "[93]\tvalid_0's auc: 0.910326\n",
      "Training until validation scores don't improve for 100 rounds\n",
      "Early stopping, best iteration is:\n",
      "[21]\tvalid_0's auc: 0.896655\n",
      "Training until validation scores don't improve for 100 rounds\n",
      "Early stopping, best iteration is:\n",
      "[190]\tvalid_0's auc: 0.868705\n"
     ]
    },
    {
     "name": "stderr",
     "output_type": "stream",
     "text": [
      "[I 2025-06-25 18:07:32,816] A new study created in memory with name: no-name-34a5f9b7-f414-44b1-8a86-5421d497f243\n"
     ]
    },
    {
     "name": "stdout",
     "output_type": "stream",
     "text": [
      "Training until validation scores don't improve for 100 rounds\n",
      "Early stopping, best iteration is:\n",
      "[531]\tvalid_0's auc: 0.828006\n",
      "Training until validation scores don't improve for 100 rounds\n",
      "Early stopping, best iteration is:\n",
      "[649]\tvalid_0's auc: 0.77774\n",
      "Training until validation scores don't improve for 100 rounds\n",
      "Early stopping, best iteration is:\n",
      "[733]\tvalid_0's auc: 0.816667\n",
      "Training until validation scores don't improve for 100 rounds\n",
      "Early stopping, best iteration is:\n",
      "[253]\tvalid_0's auc: 0.78516\n",
      "Training until validation scores don't improve for 100 rounds\n"
     ]
    },
    {
     "name": "stderr",
     "output_type": "stream",
     "text": [
      "[I 2025-06-25 18:07:38,216] Trial 0 finished with value: 0.8071872425397624 and parameters: {'lr': 0.03574712922600244, 'leaves': 247, 'depth': 10, 'min_data': 64, 'f_frac': 0.6624074561769746, 'b_frac': 0.662397808134481, 'l1': 0.2904180608409973, 'l2': 4.330880728874676}. Best is trial 0 with value: 0.8071872425397624.\n"
     ]
    },
    {
     "name": "stdout",
     "output_type": "stream",
     "text": [
      "Early stopping, best iteration is:\n",
      "[539]\tvalid_0's auc: 0.828364\n",
      "Training until validation scores don't improve for 100 rounds\n",
      "Early stopping, best iteration is:\n",
      "[411]\tvalid_0's auc: 0.813242\n",
      "Training until validation scores don't improve for 100 rounds\n",
      "Early stopping, best iteration is:\n",
      "[266]\tvalid_0's auc: 0.757725\n",
      "Training until validation scores don't improve for 100 rounds\n",
      "Early stopping, best iteration is:\n",
      "[273]\tvalid_0's auc: 0.795662\n",
      "Training until validation scores don't improve for 100 rounds\n",
      "Early stopping, best iteration is:\n",
      "[309]\tvalid_0's auc: 0.764155\n",
      "Training until validation scores don't improve for 100 rounds\n"
     ]
    },
    {
     "name": "stderr",
     "output_type": "stream",
     "text": [
      "[I 2025-06-25 18:07:41,899] Trial 1 finished with value: 0.7892760392666136 and parameters: {'lr': 0.07725378389307355, 'leaves': 191, 'depth': 3, 'min_data': 98, 'f_frac': 0.9329770563201687, 'b_frac': 0.6849356442713105, 'l1': 0.9091248360355031, 'l2': 0.9170225492671691}. Best is trial 0 with value: 0.8071872425397624.\n"
     ]
    },
    {
     "name": "stdout",
     "output_type": "stream",
     "text": [
      "Early stopping, best iteration is:\n",
      "[552]\tvalid_0's auc: 0.815596\n",
      "Training until validation scores don't improve for 100 rounds\n",
      "Early stopping, best iteration is:\n",
      "[376]\tvalid_0's auc: 0.838432\n",
      "Training until validation scores don't improve for 100 rounds\n",
      "Early stopping, best iteration is:\n",
      "[266]\tvalid_0's auc: 0.778387\n",
      "Training until validation scores don't improve for 100 rounds\n",
      "Early stopping, best iteration is:\n",
      "[454]\tvalid_0's auc: 0.819635\n",
      "Training until validation scores don't improve for 100 rounds\n",
      "Early stopping, best iteration is:\n",
      "[299]\tvalid_0's auc: 0.786606\n",
      "Training until validation scores don't improve for 100 rounds\n"
     ]
    },
    {
     "name": "stderr",
     "output_type": "stream",
     "text": [
      "[I 2025-06-25 18:07:47,497] Trial 2 finished with value: 0.8128381718403084 and parameters: {'lr': 0.028145092716060652, 'leaves': 151, 'depth': 7, 'min_data': 36, 'f_frac': 0.8447411578889518, 'b_frac': 0.6557975442608167, 'l1': 1.4607232426760908, 'l2': 1.8318092164684585}. Best is trial 2 with value: 0.8128381718403084.\n"
     ]
    },
    {
     "name": "stdout",
     "output_type": "stream",
     "text": [
      "Early stopping, best iteration is:\n",
      "[366]\tvalid_0's auc: 0.841131\n",
      "Training until validation scores don't improve for 100 rounds\n",
      "Early stopping, best iteration is:\n",
      "[511]\tvalid_0's auc: 0.831507\n",
      "Training until validation scores don't improve for 100 rounds\n",
      "Early stopping, best iteration is:\n",
      "[626]\tvalid_0's auc: 0.780594\n",
      "Training until validation scores don't improve for 100 rounds\n",
      "Early stopping, best iteration is:\n",
      "[479]\tvalid_0's auc: 0.805784\n",
      "Training until validation scores don't improve for 100 rounds\n",
      "Early stopping, best iteration is:\n",
      "[253]\tvalid_0's auc: 0.780289\n",
      "Training until validation scores don't improve for 100 rounds\n"
     ]
    },
    {
     "name": "stderr",
     "output_type": "stream",
     "text": [
      "[I 2025-06-25 18:07:53,883] Trial 3 finished with value: 0.805674458548029 and parameters: {'lr': 0.04717052037625178, 'leaves': 207, 'depth': 4, 'min_data': 56, 'f_frac': 0.836965827544817, 'b_frac': 0.6185801650879991, 'l1': 3.0377242595071916, 'l2': 0.8526206184364576}. Best is trial 2 with value: 0.8128381718403084.\n"
     ]
    },
    {
     "name": "stdout",
     "output_type": "stream",
     "text": [
      "Early stopping, best iteration is:\n",
      "[916]\tvalid_0's auc: 0.830199\n",
      "Training until validation scores don't improve for 100 rounds\n",
      "Did not meet early stopping. Best iteration is:\n",
      "[1997]\tvalid_0's auc: 0.816591\n",
      "Training until validation scores don't improve for 100 rounds\n",
      "Early stopping, best iteration is:\n",
      "[638]\tvalid_0's auc: 0.751027\n",
      "Training until validation scores don't improve for 100 rounds\n",
      "Early stopping, best iteration is:\n",
      "[1342]\tvalid_0's auc: 0.792846\n",
      "Training until validation scores don't improve for 100 rounds\n",
      "Early stopping, best iteration is:\n",
      "[493]\tvalid_0's auc: 0.737671\n",
      "Training until validation scores don't improve for 100 rounds\n"
     ]
    },
    {
     "name": "stderr",
     "output_type": "stream",
     "text": [
      "[I 2025-06-25 18:08:02,760] Trial 4 finished with value: 0.7817677656291455 and parameters: {'lr': 0.012476394272569451, 'leaves': 247, 'depth': 12, 'min_data': 83, 'f_frac': 0.7218455076693483, 'b_frac': 0.6390688456025535, 'l1': 3.4211651325607844, 'l2': 2.2007624686980067}. Best is trial 2 with value: 0.8128381718403084.\n"
     ]
    },
    {
     "name": "stdout",
     "output_type": "stream",
     "text": [
      "Did not meet early stopping. Best iteration is:\n",
      "[1998]\tvalid_0's auc: 0.810703\n",
      "Training until validation scores don't improve for 100 rounds\n",
      "Early stopping, best iteration is:\n",
      "[1444]\tvalid_0's auc: 0.821461\n",
      "Training until validation scores don't improve for 100 rounds\n",
      "Early stopping, best iteration is:\n",
      "[1633]\tvalid_0's auc: 0.771728\n",
      "Training until validation scores don't improve for 100 rounds\n",
      "Early stopping, best iteration is:\n",
      "[1251]\tvalid_0's auc: 0.797412\n",
      "Training until validation scores don't improve for 100 rounds\n",
      "Early stopping, best iteration is:\n",
      "[734]\tvalid_0's auc: 0.76895\n",
      "Training until validation scores don't improve for 100 rounds\n"
     ]
    },
    {
     "name": "stderr",
     "output_type": "stream",
     "text": [
      "[I 2025-06-25 18:08:11,177] Trial 5 finished with value: 0.798133439459316 and parameters: {'lr': 0.015144860262751412, 'leaves': 143, 'depth': 3, 'min_data': 92, 'f_frac': 0.7035119926400067, 'b_frac': 0.8650089137415928, 'l1': 1.5585553804470549, 'l2': 2.600340105889054}. Best is trial 2 with value: 0.8128381718403084.\n"
     ]
    },
    {
     "name": "stdout",
     "output_type": "stream",
     "text": [
      "Early stopping, best iteration is:\n",
      "[1859]\tvalid_0's auc: 0.831116\n",
      "Training until validation scores don't improve for 100 rounds\n",
      "Early stopping, best iteration is:\n",
      "[273]\tvalid_0's auc: 0.828653\n",
      "Training until validation scores don't improve for 100 rounds\n",
      "Early stopping, best iteration is:\n",
      "[686]\tvalid_0's auc: 0.781621\n",
      "Training until validation scores don't improve for 100 rounds\n",
      "Early stopping, best iteration is:\n",
      "[464]\tvalid_0's auc: 0.808904\n",
      "Training until validation scores don't improve for 100 rounds\n",
      "Early stopping, best iteration is:\n",
      "[233]\tvalid_0's auc: 0.783409\n",
      "Training until validation scores don't improve for 100 rounds\n"
     ]
    },
    {
     "name": "stderr",
     "output_type": "stream",
     "text": [
      "[I 2025-06-25 18:08:17,469] Trial 6 finished with value: 0.8075514920475333 and parameters: {'lr': 0.06420330336297862, 'leaves': 71, 'depth': 12, 'min_data': 80, 'f_frac': 0.9757995766256756, 'b_frac': 0.9579309401710595, 'l1': 2.9894998940554256, 'l2': 4.609371175115584}. Best is trial 2 with value: 0.8128381718403084.\n"
     ]
    },
    {
     "name": "stdout",
     "output_type": "stream",
     "text": [
      "Early stopping, best iteration is:\n",
      "[580]\tvalid_0's auc: 0.83555\n",
      "Training until validation scores don't improve for 100 rounds\n",
      "Early stopping, best iteration is:\n",
      "[1664]\tvalid_0's auc: 0.827245\n",
      "Training until validation scores don't improve for 100 rounds\n",
      "Early stopping, best iteration is:\n",
      "[676]\tvalid_0's auc: 0.753729\n",
      "Training until validation scores don't improve for 100 rounds\n",
      "Early stopping, best iteration is:\n",
      "[9]\tvalid_0's auc: 0.751484\n",
      "Training until validation scores don't improve for 100 rounds\n",
      "Early stopping, best iteration is:\n",
      "[674]\tvalid_0's auc: 0.763775\n",
      "Training until validation scores don't improve for 100 rounds\n"
     ]
    },
    {
     "name": "stderr",
     "output_type": "stream",
     "text": [
      "[I 2025-06-25 18:08:26,901] Trial 7 finished with value: 0.7835432114280927 and parameters: {'lr': 0.01351182947645082, 'leaves': 71, 'depth': 3, 'min_data': 39, 'f_frac': 0.7554709158757928, 'b_frac': 0.7085396127095583, 'l1': 4.143687545759647, 'l2': 1.7837666334679465}. Best is trial 2 with value: 0.8128381718403084.\n"
     ]
    },
    {
     "name": "stdout",
     "output_type": "stream",
     "text": [
      "Early stopping, best iteration is:\n",
      "[1468]\tvalid_0's auc: 0.821483\n",
      "Training until validation scores don't improve for 100 rounds\n",
      "Early stopping, best iteration is:\n",
      "[570]\tvalid_0's auc: 0.813432\n",
      "Training until validation scores don't improve for 100 rounds\n",
      "Early stopping, best iteration is:\n",
      "[393]\tvalid_0's auc: 0.75118\n",
      "Training until validation scores don't improve for 100 rounds\n",
      "Early stopping, best iteration is:\n",
      "[769]\tvalid_0's auc: 0.794977\n",
      "Training until validation scores don't improve for 100 rounds\n",
      "Early stopping, best iteration is:\n",
      "[483]\tvalid_0's auc: 0.777778\n",
      "Training until validation scores don't improve for 100 rounds\n"
     ]
    },
    {
     "name": "stderr",
     "output_type": "stream",
     "text": [
      "[I 2025-06-25 18:08:31,924] Trial 8 finished with value: 0.7906690824291679 and parameters: {'lr': 0.026000059117302653, 'leaves': 151, 'depth': 4, 'min_data': 82, 'f_frac': 0.6298202574719083, 'b_frac': 0.9947547746402069, 'l1': 3.861223846483287, 'l2': 0.993578407670862}. Best is trial 2 with value: 0.8128381718403084.\n"
     ]
    },
    {
     "name": "stdout",
     "output_type": "stream",
     "text": [
      "Early stopping, best iteration is:\n",
      "[739]\tvalid_0's auc: 0.815979\n",
      "Training until validation scores don't improve for 100 rounds\n",
      "Early stopping, best iteration is:\n",
      "[1426]\tvalid_0's auc: 0.825419\n",
      "Training until validation scores don't improve for 100 rounds\n",
      "Early stopping, best iteration is:\n",
      "[444]\tvalid_0's auc: 0.755898\n",
      "Training until validation scores don't improve for 100 rounds\n",
      "Early stopping, best iteration is:\n",
      "[1328]\tvalid_0's auc: 0.802435\n",
      "Training until validation scores don't improve for 100 rounds\n",
      "Early stopping, best iteration is:\n",
      "[1140]\tvalid_0's auc: 0.78105\n",
      "Training until validation scores don't improve for 100 rounds\n"
     ]
    },
    {
     "name": "stderr",
     "output_type": "stream",
     "text": [
      "[I 2025-06-25 18:08:43,741] Trial 9 finished with value: 0.796125563794283 and parameters: {'lr': 0.010189592979395137, 'leaves': 215, 'depth': 10, 'min_data': 76, 'f_frac': 0.9085081386743783, 'b_frac': 0.6296178606936361, 'l1': 1.7923286427213632, 'l2': 0.5793452976256486}. Best is trial 2 with value: 0.8128381718403084.\n"
     ]
    },
    {
     "name": "stdout",
     "output_type": "stream",
     "text": [
      "Early stopping, best iteration is:\n",
      "[1229]\tvalid_0's auc: 0.815826\n",
      "Training until validation scores don't improve for 100 rounds\n",
      "Early stopping, best iteration is:\n",
      "[185]\tvalid_0's auc: 0.855327\n",
      "Training until validation scores don't improve for 100 rounds\n",
      "Early stopping, best iteration is:\n",
      "[424]\tvalid_0's auc: 0.794977\n",
      "Training until validation scores don't improve for 100 rounds\n",
      "Early stopping, best iteration is:\n",
      "[393]\tvalid_0's auc: 0.820624\n",
      "Training until validation scores don't improve for 100 rounds\n",
      "Early stopping, best iteration is:\n",
      "[273]\tvalid_0's auc: 0.796499\n",
      "Training until validation scores don't improve for 100 rounds\n"
     ]
    },
    {
     "name": "stderr",
     "output_type": "stream",
     "text": [
      "[I 2025-06-25 18:08:48,238] Trial 10 finished with value: 0.820557999245947 and parameters: {'lr': 0.1902160085549786, 'leaves': 31, 'depth': 7, 'min_data': 11, 'f_frac': 0.8277250010609204, 'b_frac': 0.777231918720281, 'l1': 4.7988537297270994, 'l2': 3.3342913754128913}. Best is trial 10 with value: 0.820557999245947.\n"
     ]
    },
    {
     "name": "stdout",
     "output_type": "stream",
     "text": [
      "Early stopping, best iteration is:\n",
      "[93]\tvalid_0's auc: 0.844343\n",
      "Training until validation scores don't improve for 100 rounds\n",
      "Early stopping, best iteration is:\n",
      "[88]\tvalid_0's auc: 0.856317\n",
      "Training until validation scores don't improve for 100 rounds\n",
      "Early stopping, best iteration is:\n",
      "[243]\tvalid_0's auc: 0.79726\n",
      "Training until validation scores don't improve for 100 rounds\n",
      "Early stopping, best iteration is:\n",
      "[137]\tvalid_0's auc: 0.824353\n",
      "Training until validation scores don't improve for 100 rounds\n",
      "Early stopping, best iteration is:\n",
      "[34]\tvalid_0's auc: 0.786187\n",
      "Training until validation scores don't improve for 100 rounds\n"
     ]
    },
    {
     "name": "stderr",
     "output_type": "stream",
     "text": [
      "[I 2025-06-25 18:08:52,295] Trial 11 finished with value: 0.820213997458562 and parameters: {'lr': 0.25048257256503326, 'leaves': 31, 'depth': 7, 'min_data': 10, 'f_frac': 0.83445433467569, 'b_frac': 0.7737425087025644, 'l1': 4.790027701422236, 'l2': 3.292044498377011}. Best is trial 10 with value: 0.820557999245947.\n"
     ]
    },
    {
     "name": "stdout",
     "output_type": "stream",
     "text": [
      "Early stopping, best iteration is:\n",
      "[128]\tvalid_0's auc: 0.843272\n",
      "Training until validation scores don't improve for 100 rounds\n",
      "Early stopping, best iteration is:\n",
      "[161]\tvalid_0's auc: 0.852473\n",
      "Training until validation scores don't improve for 100 rounds\n",
      "Early stopping, best iteration is:\n",
      "[317]\tvalid_0's auc: 0.789878\n",
      "Training until validation scores don't improve for 100 rounds\n",
      "Early stopping, best iteration is:\n",
      "[390]\tvalid_0's auc: 0.819635\n",
      "Training until validation scores don't improve for 100 rounds\n",
      "Early stopping, best iteration is:\n",
      "[33]\tvalid_0's auc: 0.780556\n",
      "Training until validation scores don't improve for 100 rounds\n"
     ]
    },
    {
     "name": "stderr",
     "output_type": "stream",
     "text": [
      "[I 2025-06-25 18:08:56,452] Trial 12 finished with value: 0.8142488793934062 and parameters: {'lr': 0.2731310600248561, 'leaves': 31, 'depth': 7, 'min_data': 10, 'f_frac': 0.7957611591204394, 'b_frac': 0.789818865854288, 'l1': 4.973628094377651, 'l2': 3.427776012443883}. Best is trial 10 with value: 0.820557999245947.\n"
     ]
    },
    {
     "name": "stdout",
     "output_type": "stream",
     "text": [
      "Early stopping, best iteration is:\n",
      "[400]\tvalid_0's auc: 0.83922\n",
      "Training until validation scores don't improve for 100 rounds\n",
      "Early stopping, best iteration is:\n",
      "[101]\tvalid_0's auc: 0.857953\n",
      "Training until validation scores don't improve for 100 rounds\n",
      "Early stopping, best iteration is:\n",
      "[289]\tvalid_0's auc: 0.798097\n",
      "Training until validation scores don't improve for 100 rounds\n",
      "Early stopping, best iteration is:\n",
      "[248]\tvalid_0's auc: 0.840259\n",
      "Training until validation scores don't improve for 100 rounds\n",
      "Early stopping, best iteration is:\n",
      "[44]\tvalid_0's auc: 0.791172\n",
      "Training until validation scores don't improve for 100 rounds\n"
     ]
    },
    {
     "name": "stderr",
     "output_type": "stream",
     "text": [
      "[I 2025-06-25 18:09:00,432] Trial 13 finished with value: 0.8201856506500217 and parameters: {'lr': 0.2900835499238699, 'leaves': 31, 'depth': 6, 'min_data': 10, 'f_frac': 0.8604063212686379, 'b_frac': 0.7747702774708582, 'l1': 4.996812193207758, 'l2': 3.479312489737048}. Best is trial 10 with value: 0.820557999245947.\n"
     ]
    },
    {
     "name": "stdout",
     "output_type": "stream",
     "text": [
      "Early stopping, best iteration is:\n",
      "[199]\tvalid_0's auc: 0.830352\n",
      "Training until validation scores don't improve for 100 rounds\n",
      "Early stopping, best iteration is:\n",
      "[135]\tvalid_0's auc: 0.841933\n",
      "Training until validation scores don't improve for 100 rounds\n",
      "Early stopping, best iteration is:\n",
      "[70]\tvalid_0's auc: 0.794711\n",
      "Training until validation scores don't improve for 100 rounds\n",
      "Early stopping, best iteration is:\n",
      "[383]\tvalid_0's auc: 0.817732\n",
      "Training until validation scores don't improve for 100 rounds\n",
      "Early stopping, best iteration is:\n",
      "[51]\tvalid_0's auc: 0.78554\n",
      "Training until validation scores don't improve for 100 rounds\n"
     ]
    },
    {
     "name": "stderr",
     "output_type": "stream",
     "text": [
      "[I 2025-06-25 18:09:04,559] Trial 14 finished with value: 0.8156766927792439 and parameters: {'lr': 0.14641967025883146, 'leaves': 87, 'depth': 9, 'min_data': 24, 'f_frac': 0.7780852778338109, 'b_frac': 0.8521759205201591, 'l1': 4.270627421637064, 'l2': 3.31866218726369}. Best is trial 10 with value: 0.820557999245947.\n"
     ]
    },
    {
     "name": "stdout",
     "output_type": "stream",
     "text": [
      "Early stopping, best iteration is:\n",
      "[127]\tvalid_0's auc: 0.840979\n",
      "Training until validation scores don't improve for 100 rounds\n",
      "Early stopping, best iteration is:\n",
      "[287]\tvalid_0's auc: 0.840183\n",
      "Training until validation scores don't improve for 100 rounds\n",
      "Early stopping, best iteration is:\n",
      "[147]\tvalid_0's auc: 0.793075\n",
      "Training until validation scores don't improve for 100 rounds\n",
      "Early stopping, best iteration is:\n",
      "[131]\tvalid_0's auc: 0.807458\n",
      "Training until validation scores don't improve for 100 rounds\n",
      "Early stopping, best iteration is:\n",
      "[108]\tvalid_0's auc: 0.786682\n",
      "Training until validation scores don't improve for 100 rounds\n"
     ]
    },
    {
     "name": "stderr",
     "output_type": "stream",
     "text": [
      "[I 2025-06-25 18:09:08,545] Trial 15 finished with value: 0.8126814963763562 and parameters: {'lr': 0.14385205023363415, 'leaves': 95, 'depth': 5, 'min_data': 25, 'f_frac': 0.896461276471979, 'b_frac': 0.7539796407337818, 'l1': 4.408445775547389, 'l2': 3.9732268205604453}. Best is trial 10 with value: 0.820557999245947.\n"
     ]
    },
    {
     "name": "stdout",
     "output_type": "stream",
     "text": [
      "Early stopping, best iteration is:\n",
      "[129]\tvalid_0's auc: 0.836239\n",
      "Training until validation scores don't improve for 100 rounds\n",
      "Early stopping, best iteration is:\n",
      "[128]\tvalid_0's auc: 0.841248\n",
      "Training until validation scores don't improve for 100 rounds\n",
      "Early stopping, best iteration is:\n",
      "[57]\tvalid_0's auc: 0.787976\n",
      "Training until validation scores don't improve for 100 rounds\n",
      "Early stopping, best iteration is:\n",
      "[98]\tvalid_0's auc: 0.827626\n",
      "Training until validation scores don't improve for 100 rounds\n",
      "Early stopping, best iteration is:\n",
      "[33]\tvalid_0's auc: 0.784779\n",
      "Training until validation scores don't improve for 100 rounds\n"
     ]
    },
    {
     "name": "stderr",
     "output_type": "stream",
     "text": [
      "[I 2025-06-25 18:09:12,514] Trial 16 finished with value: 0.8149923896499238 and parameters: {'lr': 0.14741456991346436, 'leaves': 55, 'depth': 8, 'min_data': 24, 'f_frac': 0.9977641402612099, 'b_frac': 0.8480246667851135, 'l1': 2.4973605608441005, 'l2': 2.807516649085973}. Best is trial 10 with value: 0.820557999245947.\n"
     ]
    },
    {
     "name": "stdout",
     "output_type": "stream",
     "text": [
      "Early stopping, best iteration is:\n",
      "[94]\tvalid_0's auc: 0.833333\n",
      "Training until validation scores don't improve for 100 rounds\n",
      "Early stopping, best iteration is:\n",
      "[222]\tvalid_0's auc: 0.831849\n",
      "Training until validation scores don't improve for 100 rounds\n",
      "Early stopping, best iteration is:\n",
      "[262]\tvalid_0's auc: 0.785312\n",
      "Training until validation scores don't improve for 100 rounds\n",
      "Early stopping, best iteration is:\n",
      "[554]\tvalid_0's auc: 0.809893\n",
      "Training until validation scores don't improve for 100 rounds\n",
      "Early stopping, best iteration is:\n",
      "[99]\tvalid_0's auc: 0.784475\n",
      "Training until validation scores don't improve for 100 rounds\n"
     ]
    },
    {
     "name": "stderr",
     "output_type": "stream",
     "text": [
      "[I 2025-06-25 18:09:16,953] Trial 17 finished with value: 0.8085750492229066 and parameters: {'lr': 0.1023463752964425, 'leaves': 111, 'depth': 6, 'min_data': 38, 'f_frac': 0.829168202174679, 'b_frac': 0.736620037974197, 'l1': 3.6840613437344234, 'l2': 3.7641275673764603}. Best is trial 10 with value: 0.820557999245947.\n"
     ]
    },
    {
     "name": "stdout",
     "output_type": "stream",
     "text": [
      "Early stopping, best iteration is:\n",
      "[150]\tvalid_0's auc: 0.831346\n",
      "Training until validation scores don't improve for 100 rounds\n",
      "Early stopping, best iteration is:\n",
      "[130]\tvalid_0's auc: 0.855289\n",
      "Training until validation scores don't improve for 100 rounds\n",
      "Early stopping, best iteration is:\n",
      "[154]\tvalid_0's auc: 0.787291\n",
      "Training until validation scores don't improve for 100 rounds\n",
      "Early stopping, best iteration is:\n",
      "[263]\tvalid_0's auc: 0.827473\n",
      "Training until validation scores don't improve for 100 rounds\n",
      "Early stopping, best iteration is:\n",
      "[171]\tvalid_0's auc: 0.796347\n",
      "Training until validation scores don't improve for 100 rounds\n"
     ]
    },
    {
     "name": "stderr",
     "output_type": "stream",
     "text": [
      "[I 2025-06-25 18:09:21,487] Trial 18 finished with value: 0.8192175303366707 and parameters: {'lr': 0.2096123627969471, 'leaves': 47, 'depth': 8, 'min_data': 19, 'f_frac': 0.7449481734611408, 'b_frac': 0.9051589518862388, 'l1': 4.537666880203447, 'l2': 4.970371905969534}. Best is trial 10 with value: 0.820557999245947.\n"
     ]
    },
    {
     "name": "stdout",
     "output_type": "stream",
     "text": [
      "Early stopping, best iteration is:\n",
      "[202]\tvalid_0's auc: 0.838761\n",
      "Training until validation scores don't improve for 100 rounds\n",
      "Early stopping, best iteration is:\n",
      "[119]\tvalid_0's auc: 0.829909\n",
      "Training until validation scores don't improve for 100 rounds\n",
      "Early stopping, best iteration is:\n",
      "[71]\tvalid_0's auc: 0.786263\n",
      "Training until validation scores don't improve for 100 rounds\n",
      "Early stopping, best iteration is:\n",
      "[151]\tvalid_0's auc: 0.81583\n",
      "Training until validation scores don't improve for 100 rounds\n",
      "Early stopping, best iteration is:\n",
      "[25]\tvalid_0's auc: 0.765259\n",
      "Training until validation scores don't improve for 100 rounds\n"
     ]
    },
    {
     "name": "stderr",
     "output_type": "stream",
     "text": [
      "[I 2025-06-25 18:09:24,913] Trial 19 finished with value: 0.8043603116752545 and parameters: {'lr': 0.19913173715756666, 'leaves': 119, 'depth': 6, 'min_data': 47, 'f_frac': 0.8845437321237019, 'b_frac': 0.8005828061689467, 'l1': 2.2052371453747233, 'l2': 2.858823058954219}. Best is trial 10 with value: 0.820557999245947.\n"
     ]
    },
    {
     "name": "stdout",
     "output_type": "stream",
     "text": [
      "Early stopping, best iteration is:\n",
      "[77]\tvalid_0's auc: 0.824541\n",
      "Training until validation scores don't improve for 100 rounds\n",
      "Early stopping, best iteration is:\n",
      "[162]\tvalid_0's auc: 0.836492\n",
      "Training until validation scores don't improve for 100 rounds\n",
      "Early stopping, best iteration is:\n",
      "[397]\tvalid_0's auc: 0.802588\n",
      "Training until validation scores don't improve for 100 rounds\n",
      "Early stopping, best iteration is:\n",
      "[242]\tvalid_0's auc: 0.819559\n",
      "Training until validation scores don't improve for 100 rounds\n",
      "Early stopping, best iteration is:\n",
      "[158]\tvalid_0's auc: 0.791781\n",
      "Training until validation scores don't improve for 100 rounds\n"
     ]
    },
    {
     "name": "stderr",
     "output_type": "stream",
     "text": [
      "[I 2025-06-25 18:09:29,803] Trial 20 finished with value: 0.8183864661444151 and parameters: {'lr': 0.09026520626192965, 'leaves': 47, 'depth': 9, 'min_data': 17, 'f_frac': 0.9433652849644489, 'b_frac': 0.8206880156909894, 'l1': 3.1955362395395115, 'l2': 3.163151963811592}. Best is trial 10 with value: 0.820557999245947.\n"
     ]
    },
    {
     "name": "stdout",
     "output_type": "stream",
     "text": [
      "Early stopping, best iteration is:\n",
      "[142]\tvalid_0's auc: 0.841514\n",
      "Training until validation scores don't improve for 100 rounds\n",
      "Early stopping, best iteration is:\n",
      "[76]\tvalid_0's auc: 0.856202\n",
      "Training until validation scores don't improve for 100 rounds\n",
      "Early stopping, best iteration is:\n",
      "[160]\tvalid_0's auc: 0.782496\n",
      "Training until validation scores don't improve for 100 rounds\n",
      "Early stopping, best iteration is:\n",
      "[219]\tvalid_0's auc: 0.824277\n",
      "Training until validation scores don't improve for 100 rounds\n",
      "Early stopping, best iteration is:\n",
      "[253]\tvalid_0's auc: 0.783181\n",
      "Training until validation scores don't improve for 100 rounds\n"
     ]
    },
    {
     "name": "stderr",
     "output_type": "stream",
     "text": [
      "[I 2025-06-25 18:09:33,890] Trial 21 finished with value: 0.8163332774775529 and parameters: {'lr': 0.2992802767947039, 'leaves': 31, 'depth': 6, 'min_data': 10, 'f_frac': 0.8717011600533258, 'b_frac': 0.7589793224063884, 'l1': 4.996166933848125, 'l2': 3.8574888522480397}. Best is trial 10 with value: 0.820557999245947.\n"
     ]
    },
    {
     "name": "stdout",
     "output_type": "stream",
     "text": [
      "Early stopping, best iteration is:\n",
      "[215]\tvalid_0's auc: 0.845413\n",
      "Training until validation scores don't improve for 100 rounds\n",
      "Early stopping, best iteration is:\n",
      "[232]\tvalid_0's auc: 0.840791\n",
      "Training until validation scores don't improve for 100 rounds\n",
      "Early stopping, best iteration is:\n",
      "[95]\tvalid_0's auc: 0.776522\n",
      "Training until validation scores don't improve for 100 rounds\n",
      "Early stopping, best iteration is:\n",
      "[121]\tvalid_0's auc: 0.809361\n",
      "Training until validation scores don't improve for 100 rounds\n",
      "Early stopping, best iteration is:\n",
      "[108]\tvalid_0's auc: 0.785845\n",
      "Training until validation scores don't improve for 100 rounds\n"
     ]
    },
    {
     "name": "stderr",
     "output_type": "stream",
     "text": [
      "[I 2025-06-25 18:09:37,703] Trial 22 finished with value: 0.809905883010068 and parameters: {'lr': 0.23266377986603953, 'leaves': 31, 'depth': 5, 'min_data': 31, 'f_frac': 0.8112091922485182, 'b_frac': 0.7225249428580537, 'l1': 4.652544951092383, 'l2': 2.2813030285133076}. Best is trial 10 with value: 0.820557999245947.\n"
     ]
    },
    {
     "name": "stdout",
     "output_type": "stream",
     "text": [
      "Early stopping, best iteration is:\n",
      "[421]\tvalid_0's auc: 0.841131\n",
      "Training until validation scores don't improve for 100 rounds\n",
      "Early stopping, best iteration is:\n",
      "[255]\tvalid_0's auc: 0.843151\n",
      "Training until validation scores don't improve for 100 rounds\n",
      "Early stopping, best iteration is:\n",
      "[163]\tvalid_0's auc: 0.789117\n",
      "Training until validation scores don't improve for 100 rounds\n",
      "Early stopping, best iteration is:\n",
      "[174]\tvalid_0's auc: 0.821461\n",
      "Training until validation scores don't improve for 100 rounds\n",
      "Early stopping, best iteration is:\n",
      "[37]\tvalid_0's auc: 0.786682\n",
      "Training until validation scores don't improve for 100 rounds\n"
     ]
    },
    {
     "name": "stderr",
     "output_type": "stream",
     "text": [
      "[I 2025-06-25 18:09:42,200] Trial 23 finished with value: 0.8137568597880274 and parameters: {'lr': 0.17329529098833477, 'leaves': 63, 'depth': 7, 'min_data': 10, 'f_frac': 0.8635159097607085, 'b_frac': 0.7774928234404376, 'l1': 3.9158599720904155, 'l2': 3.54190149341983}. Best is trial 10 with value: 0.820557999245947.\n"
     ]
    },
    {
     "name": "stdout",
     "output_type": "stream",
     "text": [
      "Early stopping, best iteration is:\n",
      "[268]\tvalid_0's auc: 0.832416\n",
      "Training until validation scores don't improve for 100 rounds\n",
      "Early stopping, best iteration is:\n",
      "[86]\tvalid_0's auc: 0.84589\n",
      "Training until validation scores don't improve for 100 rounds\n",
      "Early stopping, best iteration is:\n",
      "[278]\tvalid_0's auc: 0.792161\n",
      "Training until validation scores don't improve for 100 rounds\n",
      "Early stopping, best iteration is:\n",
      "[116]\tvalid_0's auc: 0.816819\n",
      "Training until validation scores don't improve for 100 rounds\n",
      "Early stopping, best iteration is:\n",
      "[15]\tvalid_0's auc: 0.776027\n",
      "Training until validation scores don't improve for 100 rounds\n"
     ]
    },
    {
     "name": "stderr",
     "output_type": "stream",
     "text": [
      "[I 2025-06-25 18:09:45,894] Trial 24 finished with value: 0.8147318922541995 and parameters: {'lr': 0.29210660139708483, 'leaves': 87, 'depth': 5, 'min_data': 17, 'f_frac': 0.8026535003129168, 'b_frac': 0.8143598936458374, 'l1': 4.829187154771734, 'l2': 4.149777872668691}. Best is trial 10 with value: 0.820557999245947.\n"
     ]
    },
    {
     "name": "stdout",
     "output_type": "stream",
     "text": [
      "Early stopping, best iteration is:\n",
      "[178]\tvalid_0's auc: 0.851223\n",
      "Training until validation scores don't improve for 100 rounds\n",
      "Early stopping, best iteration is:\n",
      "[68]\tvalid_0's auc: 0.839117\n",
      "Training until validation scores don't improve for 100 rounds\n",
      "Early stopping, best iteration is:\n",
      "[40]\tvalid_0's auc: 0.825799\n",
      "Training until validation scores don't improve for 100 rounds\n",
      "Early stopping, best iteration is:\n",
      "[225]\tvalid_0's auc: 0.855556\n",
      "Training until validation scores don't improve for 100 rounds\n",
      "Early stopping, best iteration is:\n",
      "[19]\tvalid_0's auc: 0.791629\n",
      "Training until validation scores don't improve for 100 rounds\n",
      "Early stopping, best iteration is:\n",
      "[35]\tvalid_0's auc: 0.833333\n"
     ]
    },
    {
     "name": "stderr",
     "output_type": "stream",
     "text": [
      "[I 2025-06-25 18:09:55,523] A new study created in memory with name: no-name-4ad9495f-f433-45fa-a11f-b3aeb9b4a787\n"
     ]
    },
    {
     "name": "stdout",
     "output_type": "stream",
     "text": [
      "Training until validation scores don't improve for 100 rounds\n",
      "Early stopping, best iteration is:\n",
      "[2]\tvalid_0's auc: 0.719697\n",
      "Training until validation scores don't improve for 100 rounds\n",
      "Early stopping, best iteration is:\n",
      "[73]\tvalid_0's auc: 0.803977\n",
      "Training until validation scores don't improve for 100 rounds\n",
      "Early stopping, best iteration is:\n",
      "[248]\tvalid_0's auc: 0.801136\n",
      "Training until validation scores don't improve for 100 rounds\n",
      "Early stopping, best iteration is:\n",
      "[838]\tvalid_0's auc: 0.76581\n",
      "Training until validation scores don't improve for 100 rounds\n"
     ]
    },
    {
     "name": "stderr",
     "output_type": "stream",
     "text": [
      "[I 2025-06-25 18:09:57,532] Trial 0 finished with value: 0.7538799905015778 and parameters: {'lr': 0.03574712922600244, 'leaves': 247, 'depth': 10, 'min_data': 64, 'f_frac': 0.6624074561769746, 'b_frac': 0.662397808134481, 'l1': 0.2904180608409973, 'l2': 4.330880728874676}. Best is trial 0 with value: 0.7538799905015778.\n"
     ]
    },
    {
     "name": "stdout",
     "output_type": "stream",
     "text": [
      "Early stopping, best iteration is:\n",
      "[71]\tvalid_0's auc: 0.678779\n",
      "Training until validation scores don't improve for 100 rounds\n",
      "Early stopping, best iteration is:\n",
      "[50]\tvalid_0's auc: 0.758523\n",
      "Training until validation scores don't improve for 100 rounds\n",
      "Early stopping, best iteration is:\n",
      "[187]\tvalid_0's auc: 0.653883\n",
      "Training until validation scores don't improve for 100 rounds\n",
      "Early stopping, best iteration is:\n",
      "[93]\tvalid_0's auc: 0.651042\n"
     ]
    },
    {
     "name": "stderr",
     "output_type": "stream",
     "text": [
      "[I 2025-06-25 18:09:57,819] Trial 1 finished with value: 0.6337902533933879 and parameters: {'lr': 0.07725378389307355, 'leaves': 191, 'depth': 3, 'min_data': 98, 'f_frac': 0.9329770563201687, 'b_frac': 0.6849356442713105, 'l1': 0.9091248360355031, 'l2': 0.9170225492671691}. Best is trial 0 with value: 0.7538799905015778.\n"
     ]
    },
    {
     "name": "stdout",
     "output_type": "stream",
     "text": [
      "Training until validation scores don't improve for 100 rounds\n",
      "Early stopping, best iteration is:\n",
      "[187]\tvalid_0's auc: 0.716403\n",
      "Training until validation scores don't improve for 100 rounds\n",
      "Early stopping, best iteration is:\n",
      "[249]\tvalid_0's auc: 0.608043\n",
      "Training until validation scores don't improve for 100 rounds\n",
      "Early stopping, best iteration is:\n",
      "[434]\tvalid_0's auc: 0.864583\n",
      "Training until validation scores don't improve for 100 rounds\n",
      "Early stopping, best iteration is:\n",
      "[242]\tvalid_0's auc: 0.815341\n",
      "Training until validation scores don't improve for 100 rounds\n",
      "Early stopping, best iteration is:\n",
      "[268]\tvalid_0's auc: 0.858902\n",
      "Training until validation scores don't improve for 100 rounds\n",
      "Early stopping, best iteration is:\n",
      "[605]\tvalid_0's auc: 0.833992\n"
     ]
    },
    {
     "name": "stderr",
     "output_type": "stream",
     "text": [
      "[I 2025-06-25 18:09:58,504] Trial 2 finished with value: 0.8312496169991114 and parameters: {'lr': 0.028145092716060652, 'leaves': 151, 'depth': 7, 'min_data': 36, 'f_frac': 0.8447411578889518, 'b_frac': 0.6557975442608167, 'l1': 1.4607232426760908, 'l2': 1.8318092164684585}. Best is trial 2 with value: 0.8312496169991114.\n"
     ]
    },
    {
     "name": "stdout",
     "output_type": "stream",
     "text": [
      "Training until validation scores don't improve for 100 rounds\n",
      "Early stopping, best iteration is:\n",
      "[233]\tvalid_0's auc: 0.78343\n",
      "Training until validation scores don't improve for 100 rounds\n",
      "Early stopping, best iteration is:\n",
      "[882]\tvalid_0's auc: 0.864583\n",
      "Training until validation scores don't improve for 100 rounds\n",
      "Early stopping, best iteration is:\n",
      "[85]\tvalid_0's auc: 0.801136\n",
      "Training until validation scores don't improve for 100 rounds\n",
      "Early stopping, best iteration is:\n",
      "[80]\tvalid_0's auc: 0.795928\n",
      "Training until validation scores don't improve for 100 rounds\n"
     ]
    },
    {
     "name": "stderr",
     "output_type": "stream",
     "text": [
      "[I 2025-06-25 18:10:00,242] Trial 3 finished with value: 0.7948286262524129 and parameters: {'lr': 0.04717052037625178, 'leaves': 207, 'depth': 4, 'min_data': 56, 'f_frac': 0.836965827544817, 'b_frac': 0.6185801650879991, 'l1': 3.0377242595071916, 'l2': 0.8526206184364576}. Best is trial 2 with value: 0.8312496169991114.\n"
     ]
    },
    {
     "name": "stdout",
     "output_type": "stream",
     "text": [
      "Early stopping, best iteration is:\n",
      "[558]\tvalid_0's auc: 0.769763\n",
      "Training until validation scores don't improve for 100 rounds\n",
      "Early stopping, best iteration is:\n",
      "[6]\tvalid_0's auc: 0.742733\n",
      "Training until validation scores don't improve for 100 rounds\n",
      "Early stopping, best iteration is:\n",
      "[36]\tvalid_0's auc: 0.629261\n",
      "Training until validation scores don't improve for 100 rounds\n",
      "Early stopping, best iteration is:\n",
      "[141]\tvalid_0's auc: 0.669508\n",
      "Training until validation scores don't improve for 100 rounds\n",
      "Early stopping, best iteration is:\n",
      "[335]\tvalid_0's auc: 0.68608\n",
      "Training until validation scores don't improve for 100 rounds\n",
      "Early stopping, best iteration is:\n",
      "[30]\tvalid_0's auc: 0.662055\n"
     ]
    },
    {
     "name": "stderr",
     "output_type": "stream",
     "text": [
      "[I 2025-06-25 18:10:01,506] Trial 4 finished with value: 0.6359528679106535 and parameters: {'lr': 0.012476394272569451, 'leaves': 247, 'depth': 12, 'min_data': 83, 'f_frac': 0.7218455076693483, 'b_frac': 0.6390688456025535, 'l1': 3.4211651325607844, 'l2': 2.2007624686980067}. Best is trial 2 with value: 0.8312496169991114.\n"
     ]
    },
    {
     "name": "stdout",
     "output_type": "stream",
     "text": [
      "Training until validation scores don't improve for 100 rounds\n",
      "Early stopping, best iteration is:\n",
      "[82]\tvalid_0's auc: 0.605136\n",
      "Training until validation scores don't improve for 100 rounds\n",
      "Early stopping, best iteration is:\n",
      "[8]\tvalid_0's auc: 0.637311\n",
      "Training until validation scores don't improve for 100 rounds\n"
     ]
    },
    {
     "name": "stderr",
     "output_type": "stream",
     "text": [
      "[I 2025-06-25 18:10:02,015] Trial 5 finished with value: 0.6990336887581579 and parameters: {'lr': 0.015144860262751412, 'leaves': 143, 'depth': 3, 'min_data': 92, 'f_frac': 0.7035119926400067, 'b_frac': 0.8650089137415928, 'l1': 1.5585553804470549, 'l2': 2.600340105889054}. Best is trial 2 with value: 0.8312496169991114.\n"
     ]
    },
    {
     "name": "stdout",
     "output_type": "stream",
     "text": [
      "Early stopping, best iteration is:\n",
      "[437]\tvalid_0's auc: 0.79072\n",
      "Training until validation scores don't improve for 100 rounds\n",
      "Early stopping, best iteration is:\n",
      "[462]\tvalid_0's auc: 0.782197\n",
      "Training until validation scores don't improve for 100 rounds\n",
      "Early stopping, best iteration is:\n",
      "[39]\tvalid_0's auc: 0.627964\n",
      "Training until validation scores don't improve for 100 rounds\n",
      "Early stopping, best iteration is:\n",
      "[74]\tvalid_0's auc: 0.656977\n",
      "Training until validation scores don't improve for 100 rounds\n",
      "Early stopping, best iteration is:\n",
      "[655]\tvalid_0's auc: 0.856061\n",
      "Training until validation scores don't improve for 100 rounds\n",
      "Early stopping, best iteration is:\n",
      "[37]\tvalid_0's auc: 0.784564\n",
      "Training until validation scores don't improve for 100 rounds\n"
     ]
    },
    {
     "name": "stderr",
     "output_type": "stream",
     "text": [
      "[I 2025-06-25 18:10:02,445] Trial 6 finished with value: 0.7861594011398106 and parameters: {'lr': 0.06420330336297862, 'leaves': 71, 'depth': 12, 'min_data': 80, 'f_frac': 0.9757995766256756, 'b_frac': 0.9579309401710595, 'l1': 2.9894998940554256, 'l2': 4.609371175115584}. Best is trial 2 with value: 0.8312496169991114.\n"
     ]
    },
    {
     "name": "stdout",
     "output_type": "stream",
     "text": [
      "Early stopping, best iteration is:\n",
      "[189]\tvalid_0's auc: 0.811553\n",
      "Training until validation scores don't improve for 100 rounds\n",
      "Early stopping, best iteration is:\n",
      "[483]\tvalid_0's auc: 0.771739\n",
      "Training until validation scores don't improve for 100 rounds\n",
      "Early stopping, best iteration is:\n",
      "[60]\tvalid_0's auc: 0.70688\n",
      "Training until validation scores don't improve for 100 rounds\n",
      "Early stopping, best iteration is:\n",
      "[849]\tvalid_0's auc: 0.85322\n",
      "Training until validation scores don't improve for 100 rounds\n",
      "Early stopping, best iteration is:\n",
      "[385]\tvalid_0's auc: 0.804924\n",
      "Training until validation scores don't improve for 100 rounds\n",
      "Early stopping, best iteration is:\n",
      "[602]\tvalid_0's auc: 0.859848\n",
      "Training until validation scores don't improve for 100 rounds\n",
      "Early stopping, best iteration is:\n",
      "[9]\tvalid_0's auc: 0.752964\n",
      "Training until validation scores don't improve for 100 rounds\n"
     ]
    },
    {
     "name": "stderr",
     "output_type": "stream",
     "text": [
      "[I 2025-06-25 18:10:04,769] Trial 7 finished with value: 0.809150848729969 and parameters: {'lr': 0.01351182947645082, 'leaves': 71, 'depth': 3, 'min_data': 39, 'f_frac': 0.7554709158757928, 'b_frac': 0.7085396127095583, 'l1': 4.143687545759647, 'l2': 1.7837666334679465}. Best is trial 2 with value: 0.8312496169991114.\n"
     ]
    },
    {
     "name": "stdout",
     "output_type": "stream",
     "text": [
      "Early stopping, best iteration is:\n",
      "[15]\tvalid_0's auc: 0.778585\n",
      "Training until validation scores don't improve for 100 rounds\n",
      "Early stopping, best iteration is:\n",
      "[32]\tvalid_0's auc: 0.734848\n",
      "Training until validation scores don't improve for 100 rounds\n",
      "Early stopping, best iteration is:\n",
      "[13]\tvalid_0's auc: 0.778883\n",
      "Training until validation scores don't improve for 100 rounds\n"
     ]
    },
    {
     "name": "stderr",
     "output_type": "stream",
     "text": [
      "[I 2025-06-25 18:10:05,848] Trial 8 finished with value: 0.7343605417164568 and parameters: {'lr': 0.026000059117302653, 'leaves': 151, 'depth': 4, 'min_data': 82, 'f_frac': 0.6298202574719083, 'b_frac': 0.9947547746402069, 'l1': 3.861223846483287, 'l2': 0.993578407670862}. Best is trial 2 with value: 0.8312496169991114.\n"
     ]
    },
    {
     "name": "stdout",
     "output_type": "stream",
     "text": [
      "Early stopping, best iteration is:\n",
      "[452]\tvalid_0's auc: 0.776042\n",
      "Training until validation scores don't improve for 100 rounds\n",
      "Early stopping, best iteration is:\n",
      "[26]\tvalid_0's auc: 0.687747\n",
      "Training until validation scores don't improve for 100 rounds\n",
      "Early stopping, best iteration is:\n",
      "[186]\tvalid_0's auc: 0.694283\n",
      "Training until validation scores don't improve for 100 rounds\n",
      "Early stopping, best iteration is:\n",
      "[706]\tvalid_0's auc: 0.71875\n",
      "Training until validation scores don't improve for 100 rounds\n",
      "Early stopping, best iteration is:\n",
      "[196]\tvalid_0's auc: 0.728693\n",
      "Training until validation scores don't improve for 100 rounds\n",
      "Early stopping, best iteration is:\n",
      "[66]\tvalid_0's auc: 0.707386\n",
      "Training until validation scores don't improve for 100 rounds\n",
      "Early stopping, best iteration is:\n",
      "[33]\tvalid_0's auc: 0.637846\n",
      "Training until validation scores don't improve for 100 rounds\n"
     ]
    },
    {
     "name": "stderr",
     "output_type": "stream",
     "text": [
      "[I 2025-06-25 18:10:06,215] Trial 9 finished with value: 0.6830814144988817 and parameters: {'lr': 0.010189592979395137, 'leaves': 215, 'depth': 10, 'min_data': 76, 'f_frac': 0.9085081386743783, 'b_frac': 0.6296178606936361, 'l1': 1.7923286427213632, 'l2': 0.5793452976256486}. Best is trial 2 with value: 0.8312496169991114.\n"
     ]
    },
    {
     "name": "stdout",
     "output_type": "stream",
     "text": [
      "Early stopping, best iteration is:\n",
      "[59]\tvalid_0's auc: 0.62936\n",
      "Training until validation scores don't improve for 100 rounds\n",
      "Early stopping, best iteration is:\n",
      "[202]\tvalid_0's auc: 0.879735\n",
      "Training until validation scores don't improve for 100 rounds\n",
      "Early stopping, best iteration is:\n",
      "[17]\tvalid_0's auc: 0.820076\n",
      "Training until validation scores don't improve for 100 rounds\n",
      "Early stopping, best iteration is:\n",
      "[55]\tvalid_0's auc: 0.912879\n",
      "Training until validation scores don't improve for 100 rounds\n",
      "Early stopping, best iteration is:\n",
      "[458]\tvalid_0's auc: 0.874506\n",
      "Training until validation scores don't improve for 100 rounds\n"
     ]
    },
    {
     "name": "stderr",
     "output_type": "stream",
     "text": [
      "[I 2025-06-25 18:10:07,117] Trial 10 finished with value: 0.8574660278211846 and parameters: {'lr': 0.1902160085549786, 'leaves': 31, 'depth': 7, 'min_data': 11, 'f_frac': 0.8277250010609204, 'b_frac': 0.777231918720281, 'l1': 4.7988537297270994, 'l2': 3.3342913754128913}. Best is trial 10 with value: 0.8574660278211846.\n"
     ]
    },
    {
     "name": "stdout",
     "output_type": "stream",
     "text": [
      "Early stopping, best iteration is:\n",
      "[94]\tvalid_0's auc: 0.827035\n",
      "Training until validation scores don't improve for 100 rounds\n",
      "Early stopping, best iteration is:\n",
      "[196]\tvalid_0's auc: 0.885417\n",
      "Training until validation scores don't improve for 100 rounds\n",
      "Early stopping, best iteration is:\n",
      "[18]\tvalid_0's auc: 0.820076\n",
      "Training until validation scores don't improve for 100 rounds\n",
      "Early stopping, best iteration is:\n",
      "[154]\tvalid_0's auc: 0.894886\n",
      "Training until validation scores don't improve for 100 rounds\n",
      "Early stopping, best iteration is:\n",
      "[168]\tvalid_0's auc: 0.875494\n",
      "Training until validation scores don't improve for 100 rounds\n"
     ]
    },
    {
     "name": "stderr",
     "output_type": "stream",
     "text": [
      "[I 2025-06-25 18:10:09,365] Trial 11 finished with value: 0.8575453090051168 and parameters: {'lr': 0.25048257256503326, 'leaves': 31, 'depth': 7, 'min_data': 10, 'f_frac': 0.83445433467569, 'b_frac': 0.7737425087025644, 'l1': 4.790027701422236, 'l2': 3.292044498377011}. Best is trial 11 with value: 0.8575453090051168.\n"
     ]
    },
    {
     "name": "stdout",
     "output_type": "stream",
     "text": [
      "Early stopping, best iteration is:\n",
      "[279]\tvalid_0's auc: 0.836725\n",
      "Training until validation scores don't improve for 100 rounds\n",
      "Early stopping, best iteration is:\n",
      "[25]\tvalid_0's auc: 0.895833\n",
      "Training until validation scores don't improve for 100 rounds\n",
      "Early stopping, best iteration is:\n",
      "[1]\tvalid_0's auc: 0.817708\n",
      "Training until validation scores don't improve for 100 rounds\n",
      "Early stopping, best iteration is:\n",
      "[107]\tvalid_0's auc: 0.888258\n"
     ]
    },
    {
     "name": "stderr",
     "output_type": "stream",
     "text": [
      "[I 2025-06-25 18:10:10,097] Trial 12 finished with value: 0.851706364708766 and parameters: {'lr': 0.2731310600248561, 'leaves': 31, 'depth': 7, 'min_data': 10, 'f_frac': 0.7957611591204394, 'b_frac': 0.789818865854288, 'l1': 4.973628094377651, 'l2': 3.427776012443883}. Best is trial 11 with value: 0.8575453090051168.\n"
     ]
    },
    {
     "name": "stdout",
     "output_type": "stream",
     "text": [
      "Training until validation scores don't improve for 100 rounds\n",
      "Early stopping, best iteration is:\n",
      "[221]\tvalid_0's auc: 0.862648\n",
      "Training until validation scores don't improve for 100 rounds\n",
      "Early stopping, best iteration is:\n",
      "[157]\tvalid_0's auc: 0.808624\n",
      "Training until validation scores don't improve for 100 rounds\n",
      "Early stopping, best iteration is:\n",
      "[21]\tvalid_0's auc: 0.890625\n",
      "Training until validation scores don't improve for 100 rounds\n",
      "Early stopping, best iteration is:\n",
      "[117]\tvalid_0's auc: 0.817235\n",
      "Training until validation scores don't improve for 100 rounds\n",
      "Early stopping, best iteration is:\n",
      "[109]\tvalid_0's auc: 0.887311\n",
      "Training until validation scores don't improve for 100 rounds\n",
      "Early stopping, best iteration is:\n",
      "[221]\tvalid_0's auc: 0.870553\n",
      "Training until validation scores don't improve for 100 rounds\n"
     ]
    },
    {
     "name": "stderr",
     "output_type": "stream",
     "text": [
      "[I 2025-06-25 18:10:10,971] Trial 13 finished with value: 0.8518524795477525 and parameters: {'lr': 0.2900835499238699, 'leaves': 31, 'depth': 6, 'min_data': 10, 'f_frac': 0.8604063212686379, 'b_frac': 0.7747702774708582, 'l1': 4.996812193207758, 'l2': 3.479312489737048}. Best is trial 11 with value: 0.8575453090051168.\n"
     ]
    },
    {
     "name": "stdout",
     "output_type": "stream",
     "text": [
      "Early stopping, best iteration is:\n",
      "[253]\tvalid_0's auc: 0.819283\n",
      "Training until validation scores don't improve for 100 rounds\n",
      "Early stopping, best iteration is:\n",
      "[59]\tvalid_0's auc: 0.875947\n",
      "Training until validation scores don't improve for 100 rounds\n",
      "Early stopping, best iteration is:\n",
      "[93]\tvalid_0's auc: 0.828598\n",
      "Training until validation scores don't improve for 100 rounds\n",
      "Early stopping, best iteration is:\n",
      "[133]\tvalid_0's auc: 0.892045\n",
      "Training until validation scores don't improve for 100 rounds\n",
      "Early stopping, best iteration is:\n",
      "[279]\tvalid_0's auc: 0.838933\n",
      "Training until validation scores don't improve for 100 rounds\n"
     ]
    },
    {
     "name": "stderr",
     "output_type": "stream",
     "text": [
      "[I 2025-06-25 18:10:13,174] Trial 14 finished with value: 0.8429497196433496 and parameters: {'lr': 0.14641967025883146, 'leaves': 87, 'depth': 9, 'min_data': 24, 'f_frac': 0.7780852778338109, 'b_frac': 0.8521759205201591, 'l1': 4.270627421637064, 'l2': 3.31866218726369}. Best is trial 11 with value: 0.8575453090051168.\n"
     ]
    },
    {
     "name": "stdout",
     "output_type": "stream",
     "text": [
      "Early stopping, best iteration is:\n",
      "[13]\tvalid_0's auc: 0.800388\n",
      "Training until validation scores don't improve for 100 rounds\n",
      "Early stopping, best iteration is:\n",
      "[45]\tvalid_0's auc: 0.880682\n",
      "Training until validation scores don't improve for 100 rounds\n",
      "Early stopping, best iteration is:\n",
      "[134]\tvalid_0's auc: 0.817235\n",
      "Training until validation scores don't improve for 100 rounds\n",
      "Early stopping, best iteration is:\n",
      "[302]\tvalid_0's auc: 0.888258\n",
      "Training until validation scores don't improve for 100 rounds\n"
     ]
    },
    {
     "name": "stderr",
     "output_type": "stream",
     "text": [
      "[I 2025-06-25 18:10:14,148] Trial 15 finished with value: 0.8432948034439439 and parameters: {'lr': 0.14385205023363415, 'leaves': 95, 'depth': 5, 'min_data': 25, 'f_frac': 0.896461276471979, 'b_frac': 0.7539796407337818, 'l1': 4.408445775547389, 'l2': 3.9732268205604453}. Best is trial 11 with value: 0.8575453090051168.\n"
     ]
    },
    {
     "name": "stdout",
     "output_type": "stream",
     "text": [
      "Early stopping, best iteration is:\n",
      "[253]\tvalid_0's auc: 0.840909\n",
      "Training until validation scores don't improve for 100 rounds\n",
      "Early stopping, best iteration is:\n",
      "[90]\tvalid_0's auc: 0.807655\n",
      "Training until validation scores don't improve for 100 rounds\n",
      "Early stopping, best iteration is:\n",
      "[28]\tvalid_0's auc: 0.894886\n",
      "Training until validation scores don't improve for 100 rounds\n",
      "Early stopping, best iteration is:\n",
      "[42]\tvalid_0's auc: 0.8125\n",
      "Training until validation scores don't improve for 100 rounds\n",
      "Early stopping, best iteration is:\n",
      "[57]\tvalid_0's auc: 0.895833\n",
      "Training until validation scores don't improve for 100 rounds\n"
     ]
    },
    {
     "name": "stderr",
     "output_type": "stream",
     "text": [
      "[I 2025-06-25 18:10:14,617] Trial 16 finished with value: 0.8590217774305238 and parameters: {'lr': 0.14741456991346436, 'leaves': 55, 'depth': 8, 'min_data': 24, 'f_frac': 0.9977641402612099, 'b_frac': 0.8480246667851135, 'l1': 2.4973605608441005, 'l2': 2.807516649085973}. Best is trial 16 with value: 0.8590217774305238.\n"
     ]
    },
    {
     "name": "stdout",
     "output_type": "stream",
     "text": [
      "Early stopping, best iteration is:\n",
      "[265]\tvalid_0's auc: 0.879447\n",
      "Training until validation scores don't improve for 100 rounds\n",
      "Early stopping, best iteration is:\n",
      "[50]\tvalid_0's auc: 0.815407\n",
      "Training until validation scores don't improve for 100 rounds\n",
      "Early stopping, best iteration is:\n",
      "[36]\tvalid_0's auc: 0.885417\n",
      "Training until validation scores don't improve for 100 rounds\n",
      "Early stopping, best iteration is:\n",
      "[94]\tvalid_0's auc: 0.831439\n",
      "Training until validation scores don't improve for 100 rounds\n",
      "Early stopping, best iteration is:\n",
      "[29]\tvalid_0's auc: 0.885417\n",
      "Training until validation scores don't improve for 100 rounds\n",
      "Early stopping, best iteration is:\n",
      "[308]\tvalid_0's auc: 0.876482\n",
      "Training until validation scores don't improve for 100 rounds\n"
     ]
    },
    {
     "name": "stderr",
     "output_type": "stream",
     "text": [
      "[I 2025-06-25 18:10:17,003] Trial 17 finished with value: 0.8579602904678738 and parameters: {'lr': 0.09741348323074801, 'leaves': 103, 'depth': 9, 'min_data': 26, 'f_frac': 0.9969129839096569, 'b_frac': 0.8598721853174479, 'l1': 2.2096661726470295, 'l2': 2.7141846120725868}. Best is trial 16 with value: 0.8590217774305238.\n"
     ]
    },
    {
     "name": "stdout",
     "output_type": "stream",
     "text": [
      "Early stopping, best iteration is:\n",
      "[11]\tvalid_0's auc: 0.811047\n",
      "Training until validation scores don't improve for 100 rounds\n",
      "Early stopping, best iteration is:\n",
      "[84]\tvalid_0's auc: 0.871212\n",
      "Training until validation scores don't improve for 100 rounds\n",
      "Early stopping, best iteration is:\n",
      "[61]\tvalid_0's auc: 0.822917\n",
      "Training until validation scores don't improve for 100 rounds\n",
      "Early stopping, best iteration is:\n",
      "[246]\tvalid_0's auc: 0.880682\n",
      "Training until validation scores don't improve for 100 rounds\n"
     ]
    },
    {
     "name": "stderr",
     "output_type": "stream",
     "text": [
      "[I 2025-06-25 18:10:18,148] Trial 18 finished with value: 0.8427704752275025 and parameters: {'lr': 0.11559850615581624, 'leaves': 127, 'depth': 9, 'min_data': 41, 'f_frac': 0.9993263395617885, 'b_frac': 0.8859972533489497, 'l1': 2.6697419371897695, 'l2': 2.592189984351475}. Best is trial 16 with value: 0.8590217774305238.\n"
     ]
    },
    {
     "name": "stdout",
     "output_type": "stream",
     "text": [
      "Early stopping, best iteration is:\n",
      "[308]\tvalid_0's auc: 0.84585\n",
      "Training until validation scores don't improve for 100 rounds\n",
      "Early stopping, best iteration is:\n",
      "[49]\tvalid_0's auc: 0.799903\n",
      "Training until validation scores don't improve for 100 rounds\n",
      "Early stopping, best iteration is:\n",
      "[51]\tvalid_0's auc: 0.903409\n",
      "Training until validation scores don't improve for 100 rounds\n",
      "Early stopping, best iteration is:\n",
      "[158]\tvalid_0's auc: 0.827652\n",
      "Training until validation scores don't improve for 100 rounds\n",
      "Early stopping, best iteration is:\n",
      "[35]\tvalid_0's auc: 0.891098\n",
      "Training until validation scores don't improve for 100 rounds\n",
      "Early stopping, best iteration is:\n",
      "[333]\tvalid_0's auc: 0.87747\n",
      "Training until validation scores don't improve for 100 rounds\n",
      "Early stopping, best iteration is:\n",
      "[82]\tvalid_0's auc: 0.817345\n"
     ]
    },
    {
     "name": "stderr",
     "output_type": "stream",
     "text": [
      "[I 2025-06-25 18:10:18,712] Trial 19 finished with value: 0.8628019962006311 and parameters: {'lr': 0.07768129142413341, 'leaves': 111, 'depth': 9, 'min_data': 25, 'f_frac': 0.9450857605282106, 'b_frac': 0.9115065687351955, 'l1': 2.1942626054141026, 'l2': 1.8017683051689406}. Best is trial 19 with value: 0.8628019962006311.\n"
     ]
    },
    {
     "name": "stdout",
     "output_type": "stream",
     "text": [
      "Training until validation scores don't improve for 100 rounds\n",
      "Early stopping, best iteration is:\n",
      "[312]\tvalid_0's auc: 0.872159\n",
      "Training until validation scores don't improve for 100 rounds\n",
      "Early stopping, best iteration is:\n",
      "[155]\tvalid_0's auc: 0.820076\n",
      "Training until validation scores don't improve for 100 rounds\n",
      "Early stopping, best iteration is:\n",
      "[199]\tvalid_0's auc: 0.871212\n",
      "Training until validation scores don't improve for 100 rounds\n",
      "Early stopping, best iteration is:\n",
      "[232]\tvalid_0's auc: 0.833992\n",
      "Training until validation scores don't improve for 100 rounds\n"
     ]
    },
    {
     "name": "stderr",
     "output_type": "stream",
     "text": [
      "[I 2025-06-25 18:10:20,892] Trial 20 finished with value: 0.8359800609737414 and parameters: {'lr': 0.08270177501033221, 'leaves': 55, 'depth': 11, 'min_data': 49, 'f_frac': 0.947317944667204, 'b_frac': 0.9239306835417922, 'l1': 2.231610042250182, 'l2': 1.407559846020321}. Best is trial 19 with value: 0.8628019962006311.\n"
     ]
    },
    {
     "name": "stdout",
     "output_type": "stream",
     "text": [
      "Early stopping, best iteration is:\n",
      "[89]\tvalid_0's auc: 0.782461\n",
      "Training until validation scores don't improve for 100 rounds\n",
      "Early stopping, best iteration is:\n",
      "[42]\tvalid_0's auc: 0.891098\n",
      "Training until validation scores don't improve for 100 rounds\n",
      "Early stopping, best iteration is:\n",
      "[81]\tvalid_0's auc: 0.829545\n",
      "Training until validation scores don't improve for 100 rounds\n",
      "Early stopping, best iteration is:\n",
      "[77]\tvalid_0's auc: 0.892992\n",
      "Training until validation scores don't improve for 100 rounds\n"
     ]
    },
    {
     "name": "stderr",
     "output_type": "stream",
     "text": [
      "[I 2025-06-25 18:10:22,218] Trial 21 finished with value: 0.8625268100621994 and parameters: {'lr': 0.10363236475633286, 'leaves': 111, 'depth': 9, 'min_data': 24, 'f_frac': 0.9984901537620982, 'b_frac': 0.825892161012452, 'l1': 2.1209561230220686, 'l2': 2.803866085292717}. Best is trial 19 with value: 0.8628019962006311.\n"
     ]
    },
    {
     "name": "stdout",
     "output_type": "stream",
     "text": [
      "Early stopping, best iteration is:\n",
      "[296]\tvalid_0's auc: 0.893281\n",
      "Training until validation scores don't improve for 100 rounds\n",
      "Early stopping, best iteration is:\n",
      "[78]\tvalid_0's auc: 0.805717\n",
      "Training until validation scores don't improve for 100 rounds\n",
      "Early stopping, best iteration is:\n",
      "[155]\tvalid_0's auc: 0.889205\n",
      "Training until validation scores don't improve for 100 rounds\n",
      "Early stopping, best iteration is:\n",
      "[220]\tvalid_0's auc: 0.832386\n",
      "Training until validation scores don't improve for 100 rounds\n"
     ]
    },
    {
     "name": "stderr",
     "output_type": "stream",
     "text": [
      "[I 2025-06-25 18:10:22,777] Trial 22 finished with value: 0.8518137007077856 and parameters: {'lr': 0.052558966834449716, 'leaves': 119, 'depth': 8, 'min_data': 31, 'f_frac': 0.9510468239201245, 'b_frac': 0.8136493579303702, 'l1': 2.003835013246292, 'l2': 0.011431986075752798}. Best is trial 19 with value: 0.8628019962006311.\n"
     ]
    },
    {
     "name": "stdout",
     "output_type": "stream",
     "text": [
      "Early stopping, best iteration is:\n",
      "[98]\tvalid_0's auc: 0.874053\n",
      "Training until validation scores don't improve for 100 rounds\n",
      "Early stopping, best iteration is:\n",
      "[171]\tvalid_0's auc: 0.857708\n",
      "Training until validation scores don't improve for 100 rounds\n",
      "Early stopping, best iteration is:\n",
      "[82]\tvalid_0's auc: 0.805717\n",
      "Training until validation scores don't improve for 100 rounds\n",
      "Early stopping, best iteration is:\n",
      "[25]\tvalid_0's auc: 0.901515\n",
      "Training until validation scores don't improve for 100 rounds\n",
      "Early stopping, best iteration is:\n",
      "[40]\tvalid_0's auc: 0.811553\n",
      "Training until validation scores don't improve for 100 rounds\n",
      "Early stopping, best iteration is:\n",
      "[89]\tvalid_0's auc: 0.898674\n",
      "Training until validation scores don't improve for 100 rounds\n",
      "Early stopping, best iteration is:\n",
      "[408]\tvalid_0's auc: 0.870553\n",
      "Training until validation scores don't improve for 100 rounds\n"
     ]
    },
    {
     "name": "stderr",
     "output_type": "stream",
     "text": [
      "[I 2025-06-25 18:10:25,507] Trial 23 finished with value: 0.8570135122713485 and parameters: {'lr': 0.11906361929282863, 'leaves': 175, 'depth': 8, 'min_data': 21, 'f_frac': 0.8939112117287688, 'b_frac': 0.9072878189099806, 'l1': 2.693150283098974, 'l2': 2.0994542812840957}. Best is trial 19 with value: 0.8628019962006311.\n"
     ]
    },
    {
     "name": "stdout",
     "output_type": "stream",
     "text": [
      "Early stopping, best iteration is:\n",
      "[78]\tvalid_0's auc: 0.804748\n",
      "Training until validation scores don't improve for 100 rounds\n",
      "Early stopping, best iteration is:\n",
      "[43]\tvalid_0's auc: 0.870739\n",
      "Training until validation scores don't improve for 100 rounds\n",
      "Early stopping, best iteration is:\n",
      "[55]\tvalid_0's auc: 0.847538\n",
      "Training until validation scores don't improve for 100 rounds\n",
      "Early stopping, best iteration is:\n",
      "[50]\tvalid_0's auc: 0.869318\n",
      "Training until validation scores don't improve for 100 rounds\n"
     ]
    },
    {
     "name": "stderr",
     "output_type": "stream",
     "text": [
      "[I 2025-06-25 18:10:26,141] Trial 24 finished with value: 0.8474983339461348 and parameters: {'lr': 0.20537908362657423, 'leaves': 119, 'depth': 10, 'min_data': 45, 'f_frac': 0.9668843067023696, 'b_frac': 0.8279621902518961, 'l1': 1.1297722781741448, 'l2': 1.560458963546906}. Best is trial 19 with value: 0.8628019962006311.\n"
     ]
    },
    {
     "name": "stdout",
     "output_type": "stream",
     "text": [
      "Early stopping, best iteration is:\n",
      "[299]\tvalid_0's auc: 0.859684\n",
      "Training until validation scores don't improve for 100 rounds\n",
      "Early stopping, best iteration is:\n",
      "[67]\tvalid_0's auc: 0.790213\n",
      "Training until validation scores don't improve for 100 rounds\n",
      "Early stopping, best iteration is:\n",
      "[19]\tvalid_0's auc: 0.874053\n",
      "Training until validation scores don't improve for 100 rounds\n",
      "Early stopping, best iteration is:\n",
      "[33]\tvalid_0's auc: 0.837121\n",
      "Training until validation scores don't improve for 100 rounds\n",
      "Early stopping, best iteration is:\n",
      "[141]\tvalid_0's auc: 0.899621\n",
      "Training until validation scores don't improve for 100 rounds\n",
      "Early stopping, best iteration is:\n",
      "[34]\tvalid_0's auc: 0.887352\n",
      "Training until validation scores don't improve for 100 rounds\n",
      "Early stopping, best iteration is:\n",
      "[103]\tvalid_0's auc: 0.796996\n"
     ]
    },
    {
     "name": "stderr",
     "output_type": "stream",
     "text": [
      "[I 2025-06-25 18:10:39,781] A new study created in memory with name: no-name-6340ae78-14f9-42d5-8f19-cf927fad360e\n"
     ]
    },
    {
     "name": "stdout",
     "output_type": "stream",
     "text": [
      "Training until validation scores don't improve for 100 rounds\n",
      "Early stopping, best iteration is:\n",
      "[483]\tvalid_0's auc: 0.954445\n",
      "Training until validation scores don't improve for 100 rounds\n",
      "Early stopping, best iteration is:\n",
      "[426]\tvalid_0's auc: 0.948305\n",
      "Training until validation scores don't improve for 100 rounds\n",
      "Early stopping, best iteration is:\n",
      "[476]\tvalid_0's auc: 0.947594\n",
      "Training until validation scores don't improve for 100 rounds\n",
      "Early stopping, best iteration is:\n",
      "[352]\tvalid_0's auc: 0.931142\n",
      "Training until validation scores don't improve for 100 rounds\n"
     ]
    },
    {
     "name": "stderr",
     "output_type": "stream",
     "text": [
      "[I 2025-06-25 18:10:52,091] Trial 0 finished with value: 0.9421405973330648 and parameters: {'lr': 0.03574712922600244, 'leaves': 247, 'depth': 10, 'min_data': 64, 'f_frac': 0.6624074561769746, 'b_frac': 0.662397808134481, 'l1': 0.2904180608409973, 'l2': 4.330880728874676}. Best is trial 0 with value: 0.9421405973330648.\n"
     ]
    },
    {
     "name": "stdout",
     "output_type": "stream",
     "text": [
      "Early stopping, best iteration is:\n",
      "[446]\tvalid_0's auc: 0.929218\n",
      "Training until validation scores don't improve for 100 rounds\n",
      "Early stopping, best iteration is:\n",
      "[335]\tvalid_0's auc: 0.95113\n",
      "Training until validation scores don't improve for 100 rounds\n",
      "Early stopping, best iteration is:\n",
      "[323]\tvalid_0's auc: 0.94274\n",
      "Training until validation scores don't improve for 100 rounds\n",
      "Early stopping, best iteration is:\n",
      "[336]\tvalid_0's auc: 0.944005\n",
      "Training until validation scores don't improve for 100 rounds\n",
      "Early stopping, best iteration is:\n",
      "[372]\tvalid_0's auc: 0.930657\n",
      "Training until validation scores don't improve for 100 rounds\n"
     ]
    },
    {
     "name": "stderr",
     "output_type": "stream",
     "text": [
      "[I 2025-06-25 18:10:56,924] Trial 1 finished with value: 0.9385063311112554 and parameters: {'lr': 0.07725378389307355, 'leaves': 191, 'depth': 3, 'min_data': 98, 'f_frac': 0.9329770563201687, 'b_frac': 0.6849356442713105, 'l1': 0.9091248360355031, 'l2': 0.9170225492671691}. Best is trial 0 with value: 0.9421405973330648.\n"
     ]
    },
    {
     "name": "stdout",
     "output_type": "stream",
     "text": [
      "Early stopping, best iteration is:\n",
      "[311]\tvalid_0's auc: 0.924\n",
      "Training until validation scores don't improve for 100 rounds\n",
      "Early stopping, best iteration is:\n",
      "[288]\tvalid_0's auc: 0.951918\n",
      "Training until validation scores don't improve for 100 rounds\n",
      "Early stopping, best iteration is:\n",
      "[367]\tvalid_0's auc: 0.948114\n",
      "Training until validation scores don't improve for 100 rounds\n",
      "Early stopping, best iteration is:\n",
      "[462]\tvalid_0's auc: 0.946588\n",
      "Training until validation scores don't improve for 100 rounds\n",
      "Early stopping, best iteration is:\n",
      "[349]\tvalid_0's auc: 0.931211\n",
      "Training until validation scores don't improve for 100 rounds\n"
     ]
    },
    {
     "name": "stderr",
     "output_type": "stream",
     "text": [
      "[I 2025-06-25 18:11:07,795] Trial 2 finished with value: 0.9418709644507282 and parameters: {'lr': 0.028145092716060652, 'leaves': 151, 'depth': 7, 'min_data': 36, 'f_frac': 0.8447411578889518, 'b_frac': 0.6557975442608167, 'l1': 1.4607232426760908, 'l2': 1.8318092164684585}. Best is trial 0 with value: 0.9421405973330648.\n"
     ]
    },
    {
     "name": "stdout",
     "output_type": "stream",
     "text": [
      "Early stopping, best iteration is:\n",
      "[278]\tvalid_0's auc: 0.931523\n",
      "Training until validation scores don't improve for 100 rounds\n",
      "Early stopping, best iteration is:\n",
      "[605]\tvalid_0's auc: 0.952506\n",
      "Training until validation scores don't improve for 100 rounds\n",
      "Early stopping, best iteration is:\n",
      "[382]\tvalid_0's auc: 0.942306\n",
      "Training until validation scores don't improve for 100 rounds\n",
      "Early stopping, best iteration is:\n",
      "[857]\tvalid_0's auc: 0.945999\n",
      "Training until validation scores don't improve for 100 rounds\n",
      "Early stopping, best iteration is:\n",
      "[345]\tvalid_0's auc: 0.931905\n",
      "Training until validation scores don't improve for 100 rounds\n"
     ]
    },
    {
     "name": "stderr",
     "output_type": "stream",
     "text": [
      "[I 2025-06-25 18:11:17,583] Trial 3 finished with value: 0.9403452237249553 and parameters: {'lr': 0.04717052037625178, 'leaves': 207, 'depth': 4, 'min_data': 56, 'f_frac': 0.836965827544817, 'b_frac': 0.6185801650879991, 'l1': 3.0377242595071916, 'l2': 0.8526206184364576}. Best is trial 0 with value: 0.9421405973330648.\n"
     ]
    },
    {
     "name": "stdout",
     "output_type": "stream",
     "text": [
      "Early stopping, best iteration is:\n",
      "[447]\tvalid_0's auc: 0.92901\n",
      "Training until validation scores don't improve for 100 rounds\n",
      "Early stopping, best iteration is:\n",
      "[1524]\tvalid_0's auc: 0.948629\n",
      "Training until validation scores don't improve for 100 rounds\n",
      "Early stopping, best iteration is:\n",
      "[1420]\tvalid_0's auc: 0.944543\n",
      "Training until validation scores don't improve for 100 rounds\n",
      "Early stopping, best iteration is:\n",
      "[1601]\tvalid_0's auc: 0.943277\n",
      "Training until validation scores don't improve for 100 rounds\n",
      "Early stopping, best iteration is:\n",
      "[1413]\tvalid_0's auc: 0.927346\n",
      "Training until validation scores don't improve for 100 rounds\n"
     ]
    },
    {
     "name": "stderr",
     "output_type": "stream",
     "text": [
      "[I 2025-06-25 18:11:40,256] Trial 4 finished with value: 0.9380442622378812 and parameters: {'lr': 0.012476394272569451, 'leaves': 247, 'depth': 12, 'min_data': 83, 'f_frac': 0.7218455076693483, 'b_frac': 0.6390688456025535, 'l1': 3.4211651325607844, 'l2': 2.2007624686980067}. Best is trial 0 with value: 0.9421405973330648.\n"
     ]
    },
    {
     "name": "stdout",
     "output_type": "stream",
     "text": [
      "Early stopping, best iteration is:\n",
      "[1020]\tvalid_0's auc: 0.926427\n",
      "Training until validation scores don't improve for 100 rounds\n",
      "Early stopping, best iteration is:\n",
      "[1403]\tvalid_0's auc: 0.94875\n",
      "Training until validation scores don't improve for 100 rounds\n",
      "Did not meet early stopping. Best iteration is:\n",
      "[1992]\tvalid_0's auc: 0.94274\n",
      "Training until validation scores don't improve for 100 rounds\n",
      "Early stopping, best iteration is:\n",
      "[1421]\tvalid_0's auc: 0.941942\n",
      "Training until validation scores don't improve for 100 rounds\n",
      "Early stopping, best iteration is:\n",
      "[1344]\tvalid_0's auc: 0.927068\n",
      "Training until validation scores don't improve for 100 rounds\n"
     ]
    },
    {
     "name": "stderr",
     "output_type": "stream",
     "text": [
      "[I 2025-06-25 18:11:55,509] Trial 5 finished with value: 0.9375588203597284 and parameters: {'lr': 0.015144860262751412, 'leaves': 143, 'depth': 3, 'min_data': 92, 'f_frac': 0.7035119926400067, 'b_frac': 0.8650089137415928, 'l1': 1.5585553804470549, 'l2': 2.600340105889054}. Best is trial 0 with value: 0.9421405973330648.\n"
     ]
    },
    {
     "name": "stdout",
     "output_type": "stream",
     "text": [
      "Early stopping, best iteration is:\n",
      "[1489]\tvalid_0's auc: 0.927294\n",
      "Training until validation scores don't improve for 100 rounds\n",
      "Early stopping, best iteration is:\n",
      "[328]\tvalid_0's auc: 0.953977\n",
      "Training until validation scores don't improve for 100 rounds\n",
      "Early stopping, best iteration is:\n",
      "[251]\tvalid_0's auc: 0.944161\n",
      "Training until validation scores don't improve for 100 rounds\n",
      "Early stopping, best iteration is:\n",
      "[290]\tvalid_0's auc: 0.943988\n",
      "Training until validation scores don't improve for 100 rounds\n",
      "Early stopping, best iteration is:\n",
      "[232]\tvalid_0's auc: 0.928819\n",
      "Training until validation scores don't improve for 100 rounds\n"
     ]
    },
    {
     "name": "stderr",
     "output_type": "stream",
     "text": [
      "[I 2025-06-25 18:12:04,276] Trial 6 finished with value: 0.9398940228709283 and parameters: {'lr': 0.06420330336297862, 'leaves': 71, 'depth': 12, 'min_data': 80, 'f_frac': 0.9757995766256756, 'b_frac': 0.9579309401710595, 'l1': 2.9894998940554256, 'l2': 4.609371175115584}. Best is trial 0 with value: 0.9421405973330648.\n"
     ]
    },
    {
     "name": "stdout",
     "output_type": "stream",
     "text": [
      "Early stopping, best iteration is:\n",
      "[233]\tvalid_0's auc: 0.928524\n",
      "Training until validation scores don't improve for 100 rounds\n",
      "Did not meet early stopping. Best iteration is:\n",
      "[1950]\tvalid_0's auc: 0.94676\n",
      "Training until validation scores don't improve for 100 rounds\n",
      "Did not meet early stopping. Best iteration is:\n",
      "[1998]\tvalid_0's auc: 0.943641\n",
      "Training until validation scores don't improve for 100 rounds\n",
      "Did not meet early stopping. Best iteration is:\n",
      "[1993]\tvalid_0's auc: 0.943433\n",
      "Training until validation scores don't improve for 100 rounds\n",
      "Early stopping, best iteration is:\n",
      "[1407]\tvalid_0's auc: 0.925664\n",
      "Training until validation scores don't improve for 100 rounds\n"
     ]
    },
    {
     "name": "stderr",
     "output_type": "stream",
     "text": [
      "[I 2025-06-25 18:12:21,821] Trial 7 finished with value: 0.9373444909824977 and parameters: {'lr': 0.01351182947645082, 'leaves': 71, 'depth': 3, 'min_data': 39, 'f_frac': 0.7554709158757928, 'b_frac': 0.7085396127095583, 'l1': 4.143687545759647, 'l2': 1.7837666334679465}. Best is trial 0 with value: 0.9421405973330648.\n"
     ]
    },
    {
     "name": "stdout",
     "output_type": "stream",
     "text": [
      "Early stopping, best iteration is:\n",
      "[1500]\tvalid_0's auc: 0.927224\n",
      "Training until validation scores don't improve for 100 rounds\n",
      "Early stopping, best iteration is:\n",
      "[703]\tvalid_0's auc: 0.948171\n",
      "Training until validation scores don't improve for 100 rounds\n",
      "Early stopping, best iteration is:\n",
      "[665]\tvalid_0's auc: 0.94118\n",
      "Training until validation scores don't improve for 100 rounds\n",
      "Early stopping, best iteration is:\n",
      "[1125]\tvalid_0's auc: 0.944369\n",
      "Training until validation scores don't improve for 100 rounds\n",
      "Early stopping, best iteration is:\n",
      "[844]\tvalid_0's auc: 0.926167\n",
      "Training until validation scores don't improve for 100 rounds\n"
     ]
    },
    {
     "name": "stderr",
     "output_type": "stream",
     "text": [
      "[I 2025-06-25 18:12:34,649] Trial 8 finished with value: 0.9375364687334511 and parameters: {'lr': 0.026000059117302653, 'leaves': 151, 'depth': 4, 'min_data': 82, 'f_frac': 0.6298202574719083, 'b_frac': 0.9947547746402069, 'l1': 3.861223846483287, 'l2': 0.993578407670862}. Best is trial 0 with value: 0.9421405973330648.\n"
     ]
    },
    {
     "name": "stdout",
     "output_type": "stream",
     "text": [
      "Early stopping, best iteration is:\n",
      "[788]\tvalid_0's auc: 0.927848\n",
      "Training until validation scores don't improve for 100 rounds\n",
      "Early stopping, best iteration is:\n",
      "[1294]\tvalid_0's auc: 0.95287\n",
      "Training until validation scores don't improve for 100 rounds\n",
      "Early stopping, best iteration is:\n",
      "[1050]\tvalid_0's auc: 0.945219\n",
      "Training until validation scores don't improve for 100 rounds\n",
      "Early stopping, best iteration is:\n",
      "[1535]\tvalid_0's auc: 0.945618\n",
      "Training until validation scores don't improve for 100 rounds\n",
      "Early stopping, best iteration is:\n",
      "[1055]\tvalid_0's auc: 0.930189\n",
      "Training until validation scores don't improve for 100 rounds\n"
     ]
    },
    {
     "name": "stderr",
     "output_type": "stream",
     "text": [
      "[I 2025-06-25 18:12:58,000] Trial 9 finished with value: 0.940511531749744 and parameters: {'lr': 0.010189592979395137, 'leaves': 215, 'depth': 10, 'min_data': 76, 'f_frac': 0.9085081386743783, 'b_frac': 0.6296178606936361, 'l1': 1.7923286427213632, 'l2': 0.5793452976256486}. Best is trial 0 with value: 0.9421405973330648.\n"
     ]
    },
    {
     "name": "stdout",
     "output_type": "stream",
     "text": [
      "Early stopping, best iteration is:\n",
      "[1152]\tvalid_0's auc: 0.928663\n",
      "Training until validation scores don't improve for 100 rounds\n",
      "Early stopping, best iteration is:\n",
      "[96]\tvalid_0's auc: 0.948941\n",
      "Training until validation scores don't improve for 100 rounds\n",
      "Early stopping, best iteration is:\n",
      "[27]\tvalid_0's auc: 0.944612\n",
      "Training until validation scores don't improve for 100 rounds\n",
      "Early stopping, best iteration is:\n",
      "[52]\tvalid_0's auc: 0.953211\n",
      "Training until validation scores don't improve for 100 rounds\n",
      "Early stopping, best iteration is:\n",
      "[37]\tvalid_0's auc: 0.929409\n",
      "Training until validation scores don't improve for 100 rounds\n"
     ]
    },
    {
     "name": "stderr",
     "output_type": "stream",
     "text": [
      "[I 2025-06-25 18:13:05,616] Trial 10 finished with value: 0.9416222781091091 and parameters: {'lr': 0.2100608421976316, 'leaves': 31, 'depth': 8, 'min_data': 11, 'f_frac': 0.6061470949312417, 'b_frac': 0.775232370984732, 'l1': 0.07572118551378382, 'l2': 4.880699499289976}. Best is trial 0 with value: 0.9421405973330648.\n"
     ]
    },
    {
     "name": "stdout",
     "output_type": "stream",
     "text": [
      "Early stopping, best iteration is:\n",
      "[57]\tvalid_0's auc: 0.93194\n",
      "Training until validation scores don't improve for 100 rounds\n",
      "Early stopping, best iteration is:\n",
      "[272]\tvalid_0's auc: 0.951381\n",
      "Training until validation scores don't improve for 100 rounds\n",
      "Early stopping, best iteration is:\n",
      "[436]\tvalid_0's auc: 0.947351\n",
      "Training until validation scores don't improve for 100 rounds\n",
      "Early stopping, best iteration is:\n",
      "[437]\tvalid_0's auc: 0.946328\n",
      "Training until validation scores don't improve for 100 rounds\n",
      "Early stopping, best iteration is:\n",
      "[372]\tvalid_0's auc: 0.933846\n",
      "Training until validation scores don't improve for 100 rounds\n"
     ]
    },
    {
     "name": "stderr",
     "output_type": "stream",
     "text": [
      "[I 2025-06-25 18:13:18,144] Trial 11 finished with value: 0.9427136569237096 and parameters: {'lr': 0.031227201869348832, 'leaves': 255, 'depth': 7, 'min_data': 44, 'f_frac': 0.8388857253989859, 'b_frac': 0.7580270214839643, 'l1': 0.23304486130435842, 'l2': 3.4928387712913036}. Best is trial 11 with value: 0.9427136569237096.\n"
     ]
    },
    {
     "name": "stdout",
     "output_type": "stream",
     "text": [
      "Early stopping, best iteration is:\n",
      "[440]\tvalid_0's auc: 0.934661\n",
      "Training until validation scores don't improve for 100 rounds\n",
      "Early stopping, best iteration is:\n",
      "[270]\tvalid_0's auc: 0.95441\n",
      "Training until validation scores don't improve for 100 rounds\n",
      "Early stopping, best iteration is:\n",
      "[479]\tvalid_0's auc: 0.947472\n",
      "Training until validation scores don't improve for 100 rounds\n",
      "Early stopping, best iteration is:\n",
      "[450]\tvalid_0's auc: 0.944543\n",
      "Training until validation scores don't improve for 100 rounds\n",
      "Early stopping, best iteration is:\n",
      "[251]\tvalid_0's auc: 0.930934\n",
      "Training until validation scores don't improve for 100 rounds\n"
     ]
    },
    {
     "name": "stderr",
     "output_type": "stream",
     "text": [
      "[I 2025-06-25 18:13:27,973] Trial 12 finished with value: 0.9423382368334925 and parameters: {'lr': 0.034612720005215245, 'leaves': 255, 'depth': 7, 'min_data': 58, 'f_frac': 0.7995519499733743, 'b_frac': 0.7457769212953824, 'l1': 0.10512877265791018, 'l2': 3.5742253043162417}. Best is trial 11 with value: 0.9427136569237096.\n"
     ]
    },
    {
     "name": "stdout",
     "output_type": "stream",
     "text": [
      "Early stopping, best iteration is:\n",
      "[442]\tvalid_0's auc: 0.934332\n",
      "Training until validation scores don't improve for 100 rounds\n",
      "Early stopping, best iteration is:\n",
      "[255]\tvalid_0's auc: 0.949425\n",
      "Training until validation scores don't improve for 100 rounds\n",
      "Early stopping, best iteration is:\n",
      "[320]\tvalid_0's auc: 0.946432\n",
      "Training until validation scores don't improve for 100 rounds\n",
      "Early stopping, best iteration is:\n",
      "[347]\tvalid_0's auc: 0.946519\n",
      "Training until validation scores don't improve for 100 rounds\n",
      "Early stopping, best iteration is:\n",
      "[113]\tvalid_0's auc: 0.9279\n",
      "Training until validation scores don't improve for 100 rounds\n"
     ]
    },
    {
     "name": "stderr",
     "output_type": "stream",
     "text": [
      "[I 2025-06-25 18:13:35,855] Trial 13 finished with value: 0.9398608032253035 and parameters: {'lr': 0.11279688290200175, 'leaves': 255, 'depth': 6, 'min_data': 39, 'f_frac': 0.7902820824447637, 'b_frac': 0.7826173426603852, 'l1': 4.996812193207758, 'l2': 3.4853476992194015}. Best is trial 11 with value: 0.9427136569237096.\n"
     ]
    },
    {
     "name": "stdout",
     "output_type": "stream",
     "text": [
      "Early stopping, best iteration is:\n",
      "[122]\tvalid_0's auc: 0.929426\n",
      "Training until validation scores don't improve for 100 rounds\n",
      "Early stopping, best iteration is:\n",
      "[545]\tvalid_0's auc: 0.9537\n",
      "Training until validation scores don't improve for 100 rounds\n",
      "Early stopping, best iteration is:\n",
      "[442]\tvalid_0's auc: 0.944993\n",
      "Training until validation scores don't improve for 100 rounds\n",
      "Early stopping, best iteration is:\n",
      "[621]\tvalid_0's auc: 0.94931\n",
      "Training until validation scores don't improve for 100 rounds\n",
      "Early stopping, best iteration is:\n",
      "[514]\tvalid_0's auc: 0.932824\n",
      "Training until validation scores don't improve for 100 rounds\n"
     ]
    },
    {
     "name": "stderr",
     "output_type": "stream",
     "text": [
      "[I 2025-06-25 18:13:51,925] Trial 14 finished with value: 0.9426297051318915 and parameters: {'lr': 0.021471858797027003, 'leaves': 183, 'depth': 6, 'min_data': 24, 'f_frac': 0.8747905417094826, 'b_frac': 0.8357433916544914, 'l1': 0.6940641877629383, 'l2': 3.52651892188081}. Best is trial 11 with value: 0.9427136569237096.\n"
     ]
    },
    {
     "name": "stdout",
     "output_type": "stream",
     "text": [
      "Early stopping, best iteration is:\n",
      "[441]\tvalid_0's auc: 0.932321\n",
      "Training until validation scores don't improve for 100 rounds\n",
      "Early stopping, best iteration is:\n",
      "[621]\tvalid_0's auc: 0.952887\n",
      "Training until validation scores don't improve for 100 rounds\n",
      "Early stopping, best iteration is:\n",
      "[972]\tvalid_0's auc: 0.94697\n",
      "Training until validation scores don't improve for 100 rounds\n",
      "Early stopping, best iteration is:\n",
      "[764]\tvalid_0's auc: 0.947888\n",
      "Training until validation scores don't improve for 100 rounds\n",
      "Early stopping, best iteration is:\n",
      "[716]\tvalid_0's auc: 0.932928\n",
      "Training until validation scores don't improve for 100 rounds\n"
     ]
    },
    {
     "name": "stderr",
     "output_type": "stream",
     "text": [
      "[I 2025-06-25 18:14:09,627] Trial 15 finished with value: 0.9427894542504142 and parameters: {'lr': 0.01923706733849965, 'leaves': 175, 'depth': 5, 'min_data': 19, 'f_frac': 0.8819708330406043, 'b_frac': 0.8636114419235895, 'l1': 0.9660956277259607, 'l2': 3.292674060010342}. Best is trial 15 with value: 0.9427894542504142.\n"
     ]
    },
    {
     "name": "stdout",
     "output_type": "stream",
     "text": [
      "Early stopping, best iteration is:\n",
      "[583]\tvalid_0's auc: 0.933274\n",
      "Training until validation scores don't improve for 100 rounds\n",
      "Early stopping, best iteration is:\n",
      "[697]\tvalid_0's auc: 0.951641\n",
      "Training until validation scores don't improve for 100 rounds\n",
      "Early stopping, best iteration is:\n",
      "[458]\tvalid_0's auc: 0.944525\n",
      "Training until validation scores don't improve for 100 rounds\n",
      "Early stopping, best iteration is:\n",
      "[675]\tvalid_0's auc: 0.947247\n",
      "Training until validation scores don't improve for 100 rounds\n",
      "Early stopping, best iteration is:\n",
      "[509]\tvalid_0's auc: 0.930639\n",
      "Training until validation scores don't improve for 100 rounds\n"
     ]
    },
    {
     "name": "stderr",
     "output_type": "stream",
     "text": [
      "[I 2025-06-25 18:14:25,808] Trial 16 finished with value: 0.941371780891013 and parameters: {'lr': 0.019115639452698327, 'leaves': 111, 'depth': 5, 'min_data': 15, 'f_frac': 0.9981516831878151, 'b_frac': 0.8796790846679844, 'l1': 2.268187802358545, 'l2': 2.8569550947860676}. Best is trial 15 with value: 0.9427894542504142.\n"
     ]
    },
    {
     "name": "stdout",
     "output_type": "stream",
     "text": [
      "Early stopping, best iteration is:\n",
      "[566]\tvalid_0's auc: 0.932806\n",
      "Training until validation scores don't improve for 100 rounds\n",
      "Early stopping, best iteration is:\n",
      "[78]\tvalid_0's auc: 0.953562\n",
      "Training until validation scores don't improve for 100 rounds\n",
      "Early stopping, best iteration is:\n",
      "[110]\tvalid_0's auc: 0.943433\n",
      "Training until validation scores don't improve for 100 rounds\n",
      "Early stopping, best iteration is:\n",
      "[69]\tvalid_0's auc: 0.949501\n",
      "Training until validation scores don't improve for 100 rounds\n",
      "Early stopping, best iteration is:\n",
      "[80]\tvalid_0's auc: 0.936083\n",
      "Training until validation scores don't improve for 100 rounds\n"
     ]
    },
    {
     "name": "stderr",
     "output_type": "stream",
     "text": [
      "[I 2025-06-25 18:14:34,351] Trial 17 finished with value: 0.9428689837493712 and parameters: {'lr': 0.10894804972489863, 'leaves': 223, 'depth': 9, 'min_data': 27, 'f_frac': 0.9111691043280903, 'b_frac': 0.921673277977111, 'l1': 1.0412019292661618, 'l2': 3.1156259153420436}. Best is trial 17 with value: 0.9428689837493712.\n"
     ]
    },
    {
     "name": "stdout",
     "output_type": "stream",
     "text": [
      "Early stopping, best iteration is:\n",
      "[65]\tvalid_0's auc: 0.931766\n",
      "Training until validation scores don't improve for 100 rounds\n",
      "Early stopping, best iteration is:\n",
      "[103]\tvalid_0's auc: 0.954877\n",
      "Training until validation scores don't improve for 100 rounds\n",
      "Early stopping, best iteration is:\n",
      "[34]\tvalid_0's auc: 0.944075\n",
      "Training until validation scores don't improve for 100 rounds\n",
      "Early stopping, best iteration is:\n",
      "[107]\tvalid_0's auc: 0.950055\n",
      "Training until validation scores don't improve for 100 rounds\n",
      "Early stopping, best iteration is:\n",
      "[63]\tvalid_0's auc: 0.934089\n",
      "Training until validation scores don't improve for 100 rounds\n"
     ]
    },
    {
     "name": "stderr",
     "output_type": "stream",
     "text": [
      "[I 2025-06-25 18:14:42,425] Trial 18 finished with value: 0.9430072507935835 and parameters: {'lr': 0.1522690040056817, 'leaves': 175, 'depth': 9, 'min_data': 25, 'f_frac': 0.9333344866592383, 'b_frac': 0.9248280004944239, 'l1': 0.8771055314977138, 'l2': 3.9823934447105236}. Best is trial 18 with value: 0.9430072507935835.\n"
     ]
    },
    {
     "name": "stdout",
     "output_type": "stream",
     "text": [
      "Early stopping, best iteration is:\n",
      "[51]\tvalid_0's auc: 0.93194\n",
      "Training until validation scores don't improve for 100 rounds\n",
      "Early stopping, best iteration is:\n",
      "[38]\tvalid_0's auc: 0.955068\n",
      "Training until validation scores don't improve for 100 rounds\n",
      "Early stopping, best iteration is:\n",
      "[41]\tvalid_0's auc: 0.947854\n",
      "Training until validation scores don't improve for 100 rounds\n",
      "Early stopping, best iteration is:\n",
      "[39]\tvalid_0's auc: 0.95042\n",
      "Training until validation scores don't improve for 100 rounds\n",
      "Early stopping, best iteration is:\n",
      "[36]\tvalid_0's auc: 0.933084\n",
      "Training until validation scores don't improve for 100 rounds\n"
     ]
    },
    {
     "name": "stderr",
     "output_type": "stream",
     "text": [
      "[I 2025-06-25 18:14:47,300] Trial 19 finished with value: 0.9425807286525268 and parameters: {'lr': 0.2981019617003287, 'leaves': 215, 'depth': 9, 'min_data': 23, 'f_frac': 0.9486343696120785, 'b_frac': 0.930746924386335, 'l1': 1.9634311494477266, 'l2': 4.114198974043885}. Best is trial 18 with value: 0.9430072507935835.\n"
     ]
    },
    {
     "name": "stdout",
     "output_type": "stream",
     "text": [
      "Early stopping, best iteration is:\n",
      "[62]\tvalid_0's auc: 0.926479\n",
      "Training until validation scores don't improve for 100 rounds\n",
      "Early stopping, best iteration is:\n",
      "[106]\tvalid_0's auc: 0.95441\n",
      "Training until validation scores don't improve for 100 rounds\n",
      "Early stopping, best iteration is:\n",
      "[175]\tvalid_0's auc: 0.9456\n",
      "Training until validation scores don't improve for 100 rounds\n",
      "Early stopping, best iteration is:\n",
      "[107]\tvalid_0's auc: 0.948911\n",
      "Training until validation scores don't improve for 100 rounds\n",
      "Early stopping, best iteration is:\n",
      "[66]\tvalid_0's auc: 0.932928\n",
      "Training until validation scores don't improve for 100 rounds\n"
     ]
    },
    {
     "name": "stderr",
     "output_type": "stream",
     "text": [
      "[I 2025-06-25 18:14:55,989] Trial 20 finished with value: 0.9426433474360861 and parameters: {'lr': 0.1299592690477134, 'leaves': 119, 'depth': 10, 'min_data': 29, 'f_frac': 0.9433652849644489, 'b_frac': 0.9194450943286984, 'l1': 1.1610170378075404, 'l2': 4.061080132164646}. Best is trial 18 with value: 0.9430072507935835.\n"
     ]
    },
    {
     "name": "stdout",
     "output_type": "stream",
     "text": [
      "Early stopping, best iteration is:\n",
      "[62]\tvalid_0's auc: 0.931367\n",
      "Training until validation scores don't improve for 100 rounds\n",
      "Early stopping, best iteration is:\n",
      "[105]\tvalid_0's auc: 0.954497\n",
      "Training until validation scores don't improve for 100 rounds\n",
      "Early stopping, best iteration is:\n",
      "[50]\tvalid_0's auc: 0.946294\n",
      "Training until validation scores don't improve for 100 rounds\n",
      "Early stopping, best iteration is:\n",
      "[113]\tvalid_0's auc: 0.948218\n",
      "Training until validation scores don't improve for 100 rounds\n",
      "Early stopping, best iteration is:\n",
      "[69]\tvalid_0's auc: 0.926825\n",
      "Training until validation scores don't improve for 100 rounds\n"
     ]
    },
    {
     "name": "stderr",
     "output_type": "stream",
     "text": [
      "[I 2025-06-25 18:15:05,506] Trial 21 finished with value: 0.9422480629142654 and parameters: {'lr': 0.12396539154362332, 'leaves': 183, 'depth': 9, 'min_data': 19, 'f_frac': 0.8891993928694618, 'b_frac': 0.825892161012452, 'l1': 0.7204203963002949, 'l2': 3.2489594018015096}. Best is trial 18 with value: 0.9430072507935835.\n"
     ]
    },
    {
     "name": "stdout",
     "output_type": "stream",
     "text": [
      "Early stopping, best iteration is:\n",
      "[54]\tvalid_0's auc: 0.935407\n",
      "Training until validation scores don't improve for 100 rounds\n",
      "Early stopping, best iteration is:\n",
      "[135]\tvalid_0's auc: 0.950689\n",
      "Training until validation scores don't improve for 100 rounds\n",
      "Early stopping, best iteration is:\n",
      "[66]\tvalid_0's auc: 0.943988\n",
      "Training until validation scores don't improve for 100 rounds\n",
      "Early stopping, best iteration is:\n",
      "[86]\tvalid_0's auc: 0.94586\n",
      "Training until validation scores don't improve for 100 rounds\n",
      "Early stopping, best iteration is:\n",
      "[55]\tvalid_0's auc: 0.936308\n",
      "Training until validation scores don't improve for 100 rounds\n"
     ]
    },
    {
     "name": "stderr",
     "output_type": "stream",
     "text": [
      "[I 2025-06-25 18:15:11,918] Trial 22 finished with value: 0.9424989134741135 and parameters: {'lr': 0.17508109073559538, 'leaves': 167, 'depth': 9, 'min_data': 31, 'f_frac': 0.9021560944611392, 'b_frac': 0.8850336500115825, 'l1': 1.286839446379375, 'l2': 3.0446849278847488}. Best is trial 18 with value: 0.9430072507935835.\n"
     ]
    },
    {
     "name": "stdout",
     "output_type": "stream",
     "text": [
      "Early stopping, best iteration is:\n",
      "[80]\tvalid_0's auc: 0.935649\n",
      "Training until validation scores don't improve for 100 rounds\n",
      "Early stopping, best iteration is:\n",
      "[115]\tvalid_0's auc: 0.9539\n",
      "Training until validation scores don't improve for 100 rounds\n",
      "Early stopping, best iteration is:\n",
      "[118]\tvalid_0's auc: 0.943901\n",
      "Training until validation scores don't improve for 100 rounds\n",
      "Early stopping, best iteration is:\n",
      "[180]\tvalid_0's auc: 0.946866\n",
      "Training until validation scores don't improve for 100 rounds\n",
      "Early stopping, best iteration is:\n",
      "[109]\tvalid_0's auc: 0.932598\n",
      "Training until validation scores don't improve for 100 rounds\n"
     ]
    },
    {
     "name": "stderr",
     "output_type": "stream",
     "text": [
      "[I 2025-06-25 18:15:19,416] Trial 23 finished with value: 0.9412687790099099 and parameters: {'lr': 0.09232810666128778, 'leaves': 231, 'depth': 11, 'min_data': 50, 'f_frac': 0.8635159097607085, 'b_frac': 0.9135788271723807, 'l1': 2.2434986041534266, 'l2': 3.9303201625118405}. Best is trial 18 with value: 0.9430072507935835.\n"
     ]
    },
    {
     "name": "stdout",
     "output_type": "stream",
     "text": [
      "Early stopping, best iteration is:\n",
      "[129]\tvalid_0's auc: 0.929079\n",
      "Training until validation scores don't improve for 100 rounds\n",
      "Early stopping, best iteration is:\n",
      "[45]\tvalid_0's auc: 0.952982\n",
      "Training until validation scores don't improve for 100 rounds\n",
      "Early stopping, best iteration is:\n",
      "[36]\tvalid_0's auc: 0.943069\n",
      "Training until validation scores don't improve for 100 rounds\n",
      "Early stopping, best iteration is:\n",
      "[50]\tvalid_0's auc: 0.949206\n",
      "Training until validation scores don't improve for 100 rounds\n",
      "Early stopping, best iteration is:\n",
      "[23]\tvalid_0's auc: 0.928732\n",
      "Training until validation scores don't improve for 100 rounds\n"
     ]
    },
    {
     "name": "stderr",
     "output_type": "stream",
     "text": [
      "[I 2025-06-25 18:15:27,249] Trial 24 finished with value: 0.94210812577818 and parameters: {'lr': 0.1871316111542034, 'leaves': 199, 'depth': 8, 'min_data': 11, 'f_frac': 0.9248864286311201, 'b_frac': 0.9761703323925314, 'l1': 0.6531909817986691, 'l2': 2.2851921143718013}. Best is trial 18 with value: 0.9430072507935835.\n"
     ]
    },
    {
     "name": "stdout",
     "output_type": "stream",
     "text": [
      "Early stopping, best iteration is:\n",
      "[37]\tvalid_0's auc: 0.936551\n",
      "Training until validation scores don't improve for 100 rounds\n",
      "Early stopping, best iteration is:\n",
      "[54]\tvalid_0's auc: 0.955206\n",
      "Training until validation scores don't improve for 100 rounds\n",
      "Early stopping, best iteration is:\n",
      "[211]\tvalid_0's auc: 0.947611\n",
      "Training until validation scores don't improve for 100 rounds\n",
      "Early stopping, best iteration is:\n",
      "[91]\tvalid_0's auc: 0.951512\n",
      "Training until validation scores don't improve for 100 rounds\n",
      "Early stopping, best iteration is:\n",
      "[29]\tvalid_0's auc: 0.932806\n",
      "Training until validation scores don't improve for 100 rounds\n",
      "Early stopping, best iteration is:\n",
      "[100]\tvalid_0's auc: 0.939411\n"
     ]
    },
    {
     "name": "stderr",
     "output_type": "stream",
     "text": [
      "[I 2025-06-25 18:15:45,637] A new study created in memory with name: no-name-cda2326f-c249-4a26-b5ea-6c1a51eb482a\n"
     ]
    },
    {
     "name": "stdout",
     "output_type": "stream",
     "text": [
      "Training until validation scores don't improve for 100 rounds\n",
      "Early stopping, best iteration is:\n",
      "[1020]\tvalid_0's auc: 0.89603\n",
      "Training until validation scores don't improve for 100 rounds\n",
      "Early stopping, best iteration is:\n",
      "[359]\tvalid_0's auc: 0.86214\n",
      "Training until validation scores don't improve for 100 rounds\n",
      "Early stopping, best iteration is:\n",
      "[356]\tvalid_0's auc: 0.882716\n",
      "Training until validation scores don't improve for 100 rounds\n",
      "Early stopping, best iteration is:\n",
      "[274]\tvalid_0's auc: 0.899525\n",
      "Training until validation scores don't improve for 100 rounds\n"
     ]
    },
    {
     "name": "stderr",
     "output_type": "stream",
     "text": [
      "[I 2025-06-25 18:15:55,677] Trial 0 finished with value: 0.8822563576648543 and parameters: {'lr': 0.03574712922600244, 'leaves': 247, 'depth': 10, 'min_data': 64, 'f_frac': 0.6624074561769746, 'b_frac': 0.662397808134481, 'l1': 0.2904180608409973, 'l2': 4.330880728874676}. Best is trial 0 with value: 0.8822563576648543.\n"
     ]
    },
    {
     "name": "stdout",
     "output_type": "stream",
     "text": [
      "Early stopping, best iteration is:\n",
      "[448]\tvalid_0's auc: 0.870871\n",
      "Training until validation scores don't improve for 100 rounds\n",
      "Early stopping, best iteration is:\n",
      "[636]\tvalid_0's auc: 0.888828\n",
      "Training until validation scores don't improve for 100 rounds\n",
      "Early stopping, best iteration is:\n",
      "[324]\tvalid_0's auc: 0.856603\n",
      "Training until validation scores don't improve for 100 rounds\n",
      "Early stopping, best iteration is:\n",
      "[344]\tvalid_0's auc: 0.890795\n",
      "Training until validation scores don't improve for 100 rounds\n",
      "Early stopping, best iteration is:\n",
      "[948]\tvalid_0's auc: 0.8978\n",
      "Training until validation scores don't improve for 100 rounds\n"
     ]
    },
    {
     "name": "stderr",
     "output_type": "stream",
     "text": [
      "[I 2025-06-25 18:16:01,923] Trial 1 finished with value: 0.8799844928112902 and parameters: {'lr': 0.07725378389307355, 'leaves': 191, 'depth': 3, 'min_data': 98, 'f_frac': 0.9329770563201687, 'b_frac': 0.6849356442713105, 'l1': 0.9091248360355031, 'l2': 0.9170225492671691}. Best is trial 0 with value: 0.8822563576648543.\n"
     ]
    },
    {
     "name": "stdout",
     "output_type": "stream",
     "text": [
      "Early stopping, best iteration is:\n",
      "[635]\tvalid_0's auc: 0.865896\n",
      "Training until validation scores don't improve for 100 rounds\n",
      "Early stopping, best iteration is:\n",
      "[791]\tvalid_0's auc: 0.898632\n",
      "Training until validation scores don't improve for 100 rounds\n",
      "Early stopping, best iteration is:\n",
      "[359]\tvalid_0's auc: 0.871097\n",
      "Training until validation scores don't improve for 100 rounds\n",
      "Early stopping, best iteration is:\n",
      "[389]\tvalid_0's auc: 0.887436\n",
      "Training until validation scores don't improve for 100 rounds\n",
      "Early stopping, best iteration is:\n",
      "[251]\tvalid_0's auc: 0.898708\n",
      "Training until validation scores don't improve for 100 rounds\n"
     ]
    },
    {
     "name": "stderr",
     "output_type": "stream",
     "text": [
      "[I 2025-06-25 18:16:13,149] Trial 2 finished with value: 0.8843053615112438 and parameters: {'lr': 0.028145092716060652, 'leaves': 151, 'depth': 7, 'min_data': 36, 'f_frac': 0.8447411578889518, 'b_frac': 0.6557975442608167, 'l1': 1.4607232426760908, 'l2': 1.8318092164684585}. Best is trial 2 with value: 0.8843053615112438.\n"
     ]
    },
    {
     "name": "stdout",
     "output_type": "stream",
     "text": [
      "Early stopping, best iteration is:\n",
      "[345]\tvalid_0's auc: 0.865654\n",
      "Training until validation scores don't improve for 100 rounds\n",
      "Early stopping, best iteration is:\n",
      "[1020]\tvalid_0's auc: 0.890251\n",
      "Training until validation scores don't improve for 100 rounds\n",
      "Early stopping, best iteration is:\n",
      "[446]\tvalid_0's auc: 0.85748\n",
      "Training until validation scores don't improve for 100 rounds\n",
      "Early stopping, best iteration is:\n",
      "[766]\tvalid_0's auc: 0.881112\n",
      "Training until validation scores don't improve for 100 rounds\n",
      "Early stopping, best iteration is:\n",
      "[660]\tvalid_0's auc: 0.900645\n",
      "Training until validation scores don't improve for 100 rounds\n"
     ]
    },
    {
     "name": "stderr",
     "output_type": "stream",
     "text": [
      "[I 2025-06-25 18:16:21,696] Trial 3 finished with value: 0.8782213214402758 and parameters: {'lr': 0.04717052037625178, 'leaves': 207, 'depth': 4, 'min_data': 56, 'f_frac': 0.836965827544817, 'b_frac': 0.6185801650879991, 'l1': 3.0377242595071916, 'l2': 0.8526206184364576}. Best is trial 2 with value: 0.8843053615112438.\n"
     ]
    },
    {
     "name": "stdout",
     "output_type": "stream",
     "text": [
      "Early stopping, best iteration is:\n",
      "[514]\tvalid_0's auc: 0.861619\n",
      "Training until validation scores don't improve for 100 rounds\n",
      "Early stopping, best iteration is:\n",
      "[1583]\tvalid_0's auc: 0.869947\n",
      "Training until validation scores don't improve for 100 rounds\n",
      "Early stopping, best iteration is:\n",
      "[1103]\tvalid_0's auc: 0.849371\n",
      "Training until validation scores don't improve for 100 rounds\n",
      "Did not meet early stopping. Best iteration is:\n",
      "[1945]\tvalid_0's auc: 0.871308\n",
      "Training until validation scores don't improve for 100 rounds\n",
      "Early stopping, best iteration is:\n",
      "[862]\tvalid_0's auc: 0.889812\n",
      "Training until validation scores don't improve for 100 rounds\n"
     ]
    },
    {
     "name": "stderr",
     "output_type": "stream",
     "text": [
      "[I 2025-06-25 18:16:39,886] Trial 4 finished with value: 0.8670099466668095 and parameters: {'lr': 0.012476394272569451, 'leaves': 247, 'depth': 12, 'min_data': 83, 'f_frac': 0.7218455076693483, 'b_frac': 0.6390688456025535, 'l1': 3.4211651325607844, 'l2': 2.2007624686980067}. Best is trial 2 with value: 0.8843053615112438.\n"
     ]
    },
    {
     "name": "stdout",
     "output_type": "stream",
     "text": [
      "Did not meet early stopping. Best iteration is:\n",
      "[1994]\tvalid_0's auc: 0.854612\n",
      "Training until validation scores don't improve for 100 rounds\n",
      "Did not meet early stopping. Best iteration is:\n",
      "[1997]\tvalid_0's auc: 0.87621\n",
      "Training until validation scores don't improve for 100 rounds\n",
      "Early stopping, best iteration is:\n",
      "[1482]\tvalid_0's auc: 0.862987\n",
      "Training until validation scores don't improve for 100 rounds\n",
      "Early stopping, best iteration is:\n",
      "[1231]\tvalid_0's auc: 0.870461\n",
      "Training until validation scores don't improve for 100 rounds\n",
      "Early stopping, best iteration is:\n",
      "[1067]\tvalid_0's auc: 0.893715\n",
      "Training until validation scores don't improve for 100 rounds\n"
     ]
    },
    {
     "name": "stderr",
     "output_type": "stream",
     "text": [
      "[I 2025-06-25 18:16:52,786] Trial 5 finished with value: 0.8724101478186446 and parameters: {'lr': 0.015144860262751412, 'leaves': 143, 'depth': 3, 'min_data': 92, 'f_frac': 0.7035119926400067, 'b_frac': 0.8650089137415928, 'l1': 1.5585553804470549, 'l2': 2.600340105889054}. Best is trial 2 with value: 0.8843053615112438.\n"
     ]
    },
    {
     "name": "stdout",
     "output_type": "stream",
     "text": [
      "Early stopping, best iteration is:\n",
      "[1764]\tvalid_0's auc: 0.858677\n",
      "Training until validation scores don't improve for 100 rounds\n",
      "Early stopping, best iteration is:\n",
      "[747]\tvalid_0's auc: 0.890735\n",
      "Training until validation scores don't improve for 100 rounds\n",
      "Early stopping, best iteration is:\n",
      "[199]\tvalid_0's auc: 0.858721\n",
      "Training until validation scores don't improve for 100 rounds\n",
      "Early stopping, best iteration is:\n",
      "[333]\tvalid_0's auc: 0.870401\n",
      "Training until validation scores don't improve for 100 rounds\n",
      "Early stopping, best iteration is:\n",
      "[362]\tvalid_0's auc: 0.896832\n",
      "Training until validation scores don't improve for 100 rounds\n"
     ]
    },
    {
     "name": "stderr",
     "output_type": "stream",
     "text": [
      "[I 2025-06-25 18:17:00,196] Trial 6 finished with value: 0.8770994033248936 and parameters: {'lr': 0.06420330336297862, 'leaves': 71, 'depth': 12, 'min_data': 80, 'f_frac': 0.9757995766256756, 'b_frac': 0.9579309401710595, 'l1': 2.9894998940554256, 'l2': 4.609371175115584}. Best is trial 2 with value: 0.8843053615112438.\n"
     ]
    },
    {
     "name": "stdout",
     "output_type": "stream",
     "text": [
      "Early stopping, best iteration is:\n",
      "[351]\tvalid_0's auc: 0.869203\n",
      "Training until validation scores don't improve for 100 rounds\n",
      "Early stopping, best iteration is:\n",
      "[1879]\tvalid_0's auc: 0.870098\n",
      "Training until validation scores don't improve for 100 rounds\n",
      "Did not meet early stopping. Best iteration is:\n",
      "[1959]\tvalid_0's auc: 0.852094\n",
      "Training until validation scores don't improve for 100 rounds\n",
      "Early stopping, best iteration is:\n",
      "[1272]\tvalid_0's auc: 0.869069\n",
      "Training until validation scores don't improve for 100 rounds\n",
      "Early stopping, best iteration is:\n",
      "[1770]\tvalid_0's auc: 0.891748\n",
      "Training until validation scores don't improve for 100 rounds\n"
     ]
    },
    {
     "name": "stderr",
     "output_type": "stream",
     "text": [
      "[I 2025-06-25 18:17:16,045] Trial 7 finished with value: 0.8679308170321243 and parameters: {'lr': 0.01351182947645082, 'leaves': 71, 'depth': 3, 'min_data': 39, 'f_frac': 0.7554709158757928, 'b_frac': 0.7085396127095583, 'l1': 4.143687545759647, 'l2': 1.7837666334679465}. Best is trial 2 with value: 0.8843053615112438.\n"
     ]
    },
    {
     "name": "stdout",
     "output_type": "stream",
     "text": [
      "Did not meet early stopping. Best iteration is:\n",
      "[1996]\tvalid_0's auc: 0.856645\n",
      "Training until validation scores don't improve for 100 rounds\n",
      "Early stopping, best iteration is:\n",
      "[1155]\tvalid_0's auc: 0.87739\n",
      "Training until validation scores don't improve for 100 rounds\n",
      "Early stopping, best iteration is:\n",
      "[662]\tvalid_0's auc: 0.852306\n",
      "Training until validation scores don't improve for 100 rounds\n",
      "Early stopping, best iteration is:\n",
      "[779]\tvalid_0's auc: 0.86568\n",
      "Training until validation scores don't improve for 100 rounds\n",
      "Early stopping, best iteration is:\n",
      "[658]\tvalid_0's auc: 0.898738\n",
      "Training until validation scores don't improve for 100 rounds\n"
     ]
    },
    {
     "name": "stderr",
     "output_type": "stream",
     "text": [
      "[I 2025-06-25 18:17:27,631] Trial 8 finished with value: 0.871165067325198 and parameters: {'lr': 0.026000059117302653, 'leaves': 151, 'depth': 4, 'min_data': 82, 'f_frac': 0.6298202574719083, 'b_frac': 0.9947547746402069, 'l1': 3.861223846483287, 'l2': 0.993578407670862}. Best is trial 2 with value: 0.8843053615112438.\n"
     ]
    },
    {
     "name": "stdout",
     "output_type": "stream",
     "text": [
      "Early stopping, best iteration is:\n",
      "[1030]\tvalid_0's auc: 0.862469\n",
      "Training until validation scores don't improve for 100 rounds\n",
      "Did not meet early stopping. Best iteration is:\n",
      "[1989]\tvalid_0's auc: 0.885197\n",
      "Training until validation scores don't improve for 100 rounds\n",
      "Early stopping, best iteration is:\n",
      "[855]\tvalid_0's auc: 0.85987\n",
      "Training until validation scores don't improve for 100 rounds\n",
      "Early stopping, best iteration is:\n",
      "[810]\tvalid_0's auc: 0.869432\n",
      "Training until validation scores don't improve for 100 rounds\n",
      "Early stopping, best iteration is:\n",
      "[1238]\tvalid_0's auc: 0.897044\n",
      "Training until validation scores don't improve for 100 rounds\n"
     ]
    },
    {
     "name": "stderr",
     "output_type": "stream",
     "text": [
      "[I 2025-06-25 18:17:45,659] Trial 9 finished with value: 0.8745355352381496 and parameters: {'lr': 0.010189592979395137, 'leaves': 215, 'depth': 10, 'min_data': 76, 'f_frac': 0.9085081386743783, 'b_frac': 0.6296178606936361, 'l1': 1.7923286427213632, 'l2': 0.5793452976256486}. Best is trial 2 with value: 0.8843053615112438.\n"
     ]
    },
    {
     "name": "stdout",
     "output_type": "stream",
     "text": [
      "Early stopping, best iteration is:\n",
      "[1668]\tvalid_0's auc: 0.861134\n",
      "Training until validation scores don't improve for 100 rounds\n",
      "Early stopping, best iteration is:\n",
      "[392]\tvalid_0's auc: 0.888011\n",
      "Training until validation scores don't improve for 100 rounds\n",
      "Early stopping, best iteration is:\n",
      "[244]\tvalid_0's auc: 0.873305\n",
      "Training until validation scores don't improve for 100 rounds\n",
      "Early stopping, best iteration is:\n",
      "[249]\tvalid_0's auc: 0.88556\n",
      "Training until validation scores don't improve for 100 rounds\n",
      "Early stopping, best iteration is:\n",
      "[290]\tvalid_0's auc: 0.90594\n",
      "Training until validation scores don't improve for 100 rounds\n"
     ]
    },
    {
     "name": "stderr",
     "output_type": "stream",
     "text": [
      "[I 2025-06-25 18:17:52,969] Trial 10 finished with value: 0.8840299078044176 and parameters: {'lr': 0.1902160085549786, 'leaves': 31, 'depth': 7, 'min_data': 11, 'f_frac': 0.8277250010609204, 'b_frac': 0.777231918720281, 'l1': 4.7988537297270994, 'l2': 3.3342913754128913}. Best is trial 2 with value: 0.8843053615112438.\n"
     ]
    },
    {
     "name": "stdout",
     "output_type": "stream",
     "text": [
      "Early stopping, best iteration is:\n",
      "[299]\tvalid_0's auc: 0.873116\n",
      "Training until validation scores don't improve for 100 rounds\n",
      "Early stopping, best iteration is:\n",
      "[260]\tvalid_0's auc: 0.886045\n",
      "Training until validation scores don't improve for 100 rounds\n",
      "Early stopping, best iteration is:\n",
      "[228]\tvalid_0's auc: 0.874788\n",
      "Training until validation scores don't improve for 100 rounds\n",
      "Early stopping, best iteration is:\n",
      "[372]\tvalid_0's auc: 0.901325\n",
      "Training until validation scores don't improve for 100 rounds\n",
      "Early stopping, best iteration is:\n",
      "[44]\tvalid_0's auc: 0.903822\n",
      "Training until validation scores don't improve for 100 rounds\n"
     ]
    },
    {
     "name": "stderr",
     "output_type": "stream",
     "text": [
      "[I 2025-06-25 18:17:58,299] Trial 11 finished with value: 0.8868563527877253 and parameters: {'lr': 0.25048257256503326, 'leaves': 31, 'depth': 7, 'min_data': 10, 'f_frac': 0.83445433467569, 'b_frac': 0.7737425087025644, 'l1': 4.790027701422236, 'l2': 3.292044498377011}. Best is trial 11 with value: 0.8868563527877253.\n"
     ]
    },
    {
     "name": "stdout",
     "output_type": "stream",
     "text": [
      "Early stopping, best iteration is:\n",
      "[257]\tvalid_0's auc: 0.873722\n",
      "Training until validation scores don't improve for 100 rounds\n",
      "Early stopping, best iteration is:\n",
      "[60]\tvalid_0's auc: 0.888042\n",
      "Training until validation scores don't improve for 100 rounds\n",
      "Early stopping, best iteration is:\n",
      "[100]\tvalid_0's auc: 0.876483\n",
      "Training until validation scores don't improve for 100 rounds\n",
      "Early stopping, best iteration is:\n",
      "[100]\tvalid_0's auc: 0.888314\n",
      "Training until validation scores don't improve for 100 rounds\n",
      "Early stopping, best iteration is:\n",
      "[13]\tvalid_0's auc: 0.905879\n",
      "Training until validation scores don't improve for 100 rounds\n"
     ]
    },
    {
     "name": "stderr",
     "output_type": "stream",
     "text": [
      "[I 2025-06-25 18:18:04,903] Trial 12 finished with value: 0.8869793664728306 and parameters: {'lr': 0.2908990642972326, 'leaves': 127, 'depth': 7, 'min_data': 10, 'f_frac': 0.8612012640576855, 'b_frac': 0.7597924842479565, 'l1': 2.0827855813857, 'l2': 3.384090290478076}. Best is trial 12 with value: 0.8869793664728306.\n"
     ]
    },
    {
     "name": "stdout",
     "output_type": "stream",
     "text": [
      "Early stopping, best iteration is:\n",
      "[69]\tvalid_0's auc: 0.876179\n",
      "Training until validation scores don't improve for 100 rounds\n",
      "Early stopping, best iteration is:\n",
      "[123]\tvalid_0's auc: 0.9042\n",
      "Training until validation scores don't improve for 100 rounds\n",
      "Early stopping, best iteration is:\n",
      "[45]\tvalid_0's auc: 0.879811\n",
      "Training until validation scores don't improve for 100 rounds\n",
      "Early stopping, best iteration is:\n",
      "[510]\tvalid_0's auc: 0.889645\n",
      "Training until validation scores don't improve for 100 rounds\n",
      "Early stopping, best iteration is:\n",
      "[20]\tvalid_0's auc: 0.895591\n",
      "Training until validation scores don't improve for 100 rounds\n"
     ]
    },
    {
     "name": "stderr",
     "output_type": "stream",
     "text": [
      "[I 2025-06-25 18:18:09,717] Trial 13 finished with value: 0.8880906827802253 and parameters: {'lr': 0.29140344040824206, 'leaves': 111, 'depth': 6, 'min_data': 11, 'f_frac': 0.7844406942061326, 'b_frac': 0.7826173426603852, 'l1': 2.190650837455672, 'l2': 3.546886987078763}. Best is trial 13 with value: 0.8880906827802253.\n"
     ]
    },
    {
     "name": "stdout",
     "output_type": "stream",
     "text": [
      "Early stopping, best iteration is:\n",
      "[153]\tvalid_0's auc: 0.87166\n",
      "Training until validation scores don't improve for 100 rounds\n",
      "Early stopping, best iteration is:\n",
      "[259]\tvalid_0's auc: 0.895334\n",
      "Training until validation scores don't improve for 100 rounds\n",
      "Early stopping, best iteration is:\n",
      "[123]\tvalid_0's auc: 0.866255\n",
      "Training until validation scores don't improve for 100 rounds\n",
      "Early stopping, best iteration is:\n",
      "[394]\tvalid_0's auc: 0.888828\n",
      "Training until validation scores don't improve for 100 rounds\n",
      "Early stopping, best iteration is:\n",
      "[81]\tvalid_0's auc: 0.90367\n",
      "Training until validation scores don't improve for 100 rounds\n"
     ]
    },
    {
     "name": "stderr",
     "output_type": "stream",
     "text": [
      "[I 2025-06-25 18:18:17,060] Trial 14 finished with value: 0.8856105734373708 and parameters: {'lr': 0.1311002154136294, 'leaves': 111, 'depth': 5, 'min_data': 25, 'f_frac': 0.7756750277510088, 'b_frac': 0.8455557864653587, 'l1': 2.3105737920056404, 'l2': 3.6904917106311634}. Best is trial 13 with value: 0.8880906827802253.\n"
     ]
    },
    {
     "name": "stdout",
     "output_type": "stream",
     "text": [
      "Early stopping, best iteration is:\n",
      "[181]\tvalid_0's auc: 0.873965\n",
      "Training until validation scores don't improve for 100 rounds\n",
      "Early stopping, best iteration is:\n",
      "[77]\tvalid_0's auc: 0.891098\n",
      "Training until validation scores don't improve for 100 rounds\n",
      "Early stopping, best iteration is:\n",
      "[111]\tvalid_0's auc: 0.869099\n",
      "Training until validation scores don't improve for 100 rounds\n",
      "Early stopping, best iteration is:\n",
      "[124]\tvalid_0's auc: 0.89373\n",
      "Training until validation scores don't improve for 100 rounds\n",
      "Early stopping, best iteration is:\n",
      "[72]\tvalid_0's auc: 0.890175\n",
      "Training until validation scores don't improve for 100 rounds\n"
     ]
    },
    {
     "name": "stderr",
     "output_type": "stream",
     "text": [
      "[I 2025-06-25 18:18:21,410] Trial 15 finished with value: 0.8841958788854214 and parameters: {'lr': 0.29945750808080057, 'leaves': 111, 'depth': 9, 'min_data': 25, 'f_frac': 0.896461276471979, 'b_frac': 0.7247795329053427, 'l1': 2.3564573795872485, 'l2': 3.9732268205604453}. Best is trial 13 with value: 0.8880906827802253.\n"
     ]
    },
    {
     "name": "stdout",
     "output_type": "stream",
     "text": [
      "Early stopping, best iteration is:\n",
      "[58]\tvalid_0's auc: 0.876877\n",
      "Training until validation scores don't improve for 100 rounds\n",
      "Early stopping, best iteration is:\n",
      "[140]\tvalid_0's auc: 0.899661\n",
      "Training until validation scores don't improve for 100 rounds\n",
      "Early stopping, best iteration is:\n",
      "[118]\tvalid_0's auc: 0.876664\n",
      "Training until validation scores don't improve for 100 rounds\n",
      "Early stopping, best iteration is:\n",
      "[243]\tvalid_0's auc: 0.891037\n",
      "Training until validation scores don't improve for 100 rounds\n",
      "Early stopping, best iteration is:\n",
      "[74]\tvalid_0's auc: 0.904578\n",
      "Training until validation scores don't improve for 100 rounds\n"
     ]
    },
    {
     "name": "stderr",
     "output_type": "stream",
     "text": [
      "[I 2025-06-25 18:18:28,396] Trial 16 finished with value: 0.8887807370650508 and parameters: {'lr': 0.13011788174330718, 'leaves': 111, 'depth': 6, 'min_data': 25, 'f_frac': 0.9987050516968674, 'b_frac': 0.8398007353027679, 'l1': 0.023700598265445905, 'l2': 2.8824573723231914}. Best is trial 16 with value: 0.8887807370650508.\n"
     ]
    },
    {
     "name": "stdout",
     "output_type": "stream",
     "text": [
      "Early stopping, best iteration is:\n",
      "[219]\tvalid_0's auc: 0.871963\n",
      "Training until validation scores don't improve for 100 rounds\n",
      "Early stopping, best iteration is:\n",
      "[453]\tvalid_0's auc: 0.897392\n",
      "Training until validation scores don't improve for 100 rounds\n",
      "Early stopping, best iteration is:\n",
      "[208]\tvalid_0's auc: 0.880114\n",
      "Training until validation scores don't improve for 100 rounds\n",
      "Early stopping, best iteration is:\n",
      "[296]\tvalid_0's auc: 0.896272\n",
      "Training until validation scores don't improve for 100 rounds\n",
      "Early stopping, best iteration is:\n",
      "[218]\tvalid_0's auc: 0.895773\n",
      "Training until validation scores don't improve for 100 rounds\n"
     ]
    },
    {
     "name": "stderr",
     "output_type": "stream",
     "text": [
      "[I 2025-06-25 18:18:35,570] Trial 17 finished with value: 0.888891111848628 and parameters: {'lr': 0.10604572301370097, 'leaves': 79, 'depth': 5, 'min_data': 25, 'f_frac': 0.9963784079267592, 'b_frac': 0.8430960886546872, 'l1': 0.06589607190461777, 'l2': 2.7779898952677704}. Best is trial 17 with value: 0.888891111848628.\n"
     ]
    },
    {
     "name": "stdout",
     "output_type": "stream",
     "text": [
      "Early stopping, best iteration is:\n",
      "[223]\tvalid_0's auc: 0.874905\n",
      "Training until validation scores don't improve for 100 rounds\n",
      "Early stopping, best iteration is:\n",
      "[196]\tvalid_0's auc: 0.896786\n",
      "Training until validation scores don't improve for 100 rounds\n",
      "Early stopping, best iteration is:\n",
      "[163]\tvalid_0's auc: 0.880144\n",
      "Training until validation scores don't improve for 100 rounds\n",
      "Early stopping, best iteration is:\n",
      "[304]\tvalid_0's auc: 0.89131\n",
      "Training until validation scores don't improve for 100 rounds\n",
      "Early stopping, best iteration is:\n",
      "[107]\tvalid_0's auc: 0.897195\n",
      "Training until validation scores don't improve for 100 rounds\n"
     ]
    },
    {
     "name": "stderr",
     "output_type": "stream",
     "text": [
      "[I 2025-06-25 18:18:41,450] Trial 18 finished with value: 0.8882500667631387 and parameters: {'lr': 0.12270161336233647, 'leaves': 71, 'depth': 5, 'min_data': 42, 'f_frac': 0.9993264099915052, 'b_frac': 0.8864684834928696, 'l1': 0.1511637332496454, 'l2': 2.6563247694045806}. Best is trial 17 with value: 0.888891111848628.\n"
     ]
    },
    {
     "name": "stdout",
     "output_type": "stream",
     "text": [
      "Early stopping, best iteration is:\n",
      "[225]\tvalid_0's auc: 0.875815\n",
      "Training until validation scores don't improve for 100 rounds\n",
      "Early stopping, best iteration is:\n",
      "[168]\tvalid_0's auc: 0.899752\n",
      "Training until validation scores don't improve for 100 rounds\n",
      "Early stopping, best iteration is:\n",
      "[204]\tvalid_0's auc: 0.865559\n",
      "Training until validation scores don't improve for 100 rounds\n",
      "Early stopping, best iteration is:\n",
      "[311]\tvalid_0's auc: 0.889706\n",
      "Training until validation scores don't improve for 100 rounds\n",
      "Early stopping, best iteration is:\n",
      "[159]\tvalid_0's auc: 0.905698\n",
      "Training until validation scores don't improve for 100 rounds\n"
     ]
    },
    {
     "name": "stderr",
     "output_type": "stream",
     "text": [
      "[I 2025-06-25 18:18:46,703] Trial 19 finished with value: 0.8868267182809667 and parameters: {'lr': 0.11971677241936413, 'leaves': 87, 'depth': 5, 'min_data': 25, 'f_frac': 0.9451093699605145, 'b_frac': 0.9151089853220639, 'l1': 0.7818709770625071, 'l2': 2.6719564498377077}. Best is trial 17 with value: 0.888891111848628.\n"
     ]
    },
    {
     "name": "stdout",
     "output_type": "stream",
     "text": [
      "Early stopping, best iteration is:\n",
      "[158]\tvalid_0's auc: 0.873419\n",
      "Training until validation scores don't improve for 100 rounds\n",
      "Early stopping, best iteration is:\n",
      "[179]\tvalid_0's auc: 0.89134\n",
      "Training until validation scores don't improve for 100 rounds\n",
      "Early stopping, best iteration is:\n",
      "[145]\tvalid_0's auc: 0.870552\n",
      "Training until validation scores don't improve for 100 rounds\n",
      "Early stopping, best iteration is:\n",
      "[170]\tvalid_0's auc: 0.882565\n",
      "Training until validation scores don't improve for 100 rounds\n",
      "Early stopping, best iteration is:\n",
      "[75]\tvalid_0's auc: 0.901915\n",
      "Training until validation scores don't improve for 100 rounds\n"
     ]
    },
    {
     "name": "stderr",
     "output_type": "stream",
     "text": [
      "[I 2025-06-25 18:18:53,320] Trial 20 finished with value: 0.8838974967242942 and parameters: {'lr': 0.08287828824336388, 'leaves': 175, 'depth': 8, 'min_data': 49, 'f_frac': 0.9632450682140703, 'b_frac': 0.8367915540640205, 'l1': 0.9871214960778827, 'l2': 1.4692251290906957}. Best is trial 17 with value: 0.888891111848628.\n"
     ]
    },
    {
     "name": "stdout",
     "output_type": "stream",
     "text": [
      "Early stopping, best iteration is:\n",
      "[159]\tvalid_0's auc: 0.873116\n",
      "Training until validation scores don't improve for 100 rounds\n",
      "Early stopping, best iteration is:\n",
      "[243]\tvalid_0's auc: 0.895879\n",
      "Training until validation scores don't improve for 100 rounds\n",
      "Early stopping, best iteration is:\n",
      "[164]\tvalid_0's auc: 0.875878\n",
      "Training until validation scores don't improve for 100 rounds\n",
      "Early stopping, best iteration is:\n",
      "[303]\tvalid_0's auc: 0.891158\n",
      "Training until validation scores don't improve for 100 rounds\n",
      "Early stopping, best iteration is:\n",
      "[124]\tvalid_0's auc: 0.903943\n",
      "Training until validation scores don't improve for 100 rounds\n"
     ]
    },
    {
     "name": "stderr",
     "output_type": "stream",
     "text": [
      "[I 2025-06-25 18:18:58,742] Trial 21 finished with value: 0.8887347017248978 and parameters: {'lr': 0.12775501828835573, 'leaves': 71, 'depth': 5, 'min_data': 36, 'f_frac': 0.9984901537620982, 'b_frac': 0.8910149050713664, 'l1': 0.07510605812843618, 'l2': 2.8744459370539857}. Best is trial 17 with value: 0.888891111848628.\n"
     ]
    },
    {
     "name": "stdout",
     "output_type": "stream",
     "text": [
      "Early stopping, best iteration is:\n",
      "[251]\tvalid_0's auc: 0.876816\n",
      "Training until validation scores don't improve for 100 rounds\n",
      "Early stopping, best iteration is:\n",
      "[259]\tvalid_0's auc: 0.891763\n",
      "Training until validation scores don't improve for 100 rounds\n",
      "Early stopping, best iteration is:\n",
      "[115]\tvalid_0's auc: 0.869584\n",
      "Training until validation scores don't improve for 100 rounds\n",
      "Early stopping, best iteration is:\n",
      "[92]\tvalid_0's auc: 0.88898\n",
      "Training until validation scores don't improve for 100 rounds\n",
      "Early stopping, best iteration is:\n",
      "[75]\tvalid_0's auc: 0.906817\n",
      "Training until validation scores don't improve for 100 rounds\n"
     ]
    },
    {
     "name": "stderr",
     "output_type": "stream",
     "text": [
      "[I 2025-06-25 18:19:05,440] Trial 22 finished with value: 0.8862339389300175 and parameters: {'lr': 0.17172225465690316, 'leaves': 55, 'depth': 6, 'min_data': 31, 'f_frac': 0.9875146875793723, 'b_frac': 0.8182151127945788, 'l1': 0.06335993823855539, 'l2': 2.980764234792718}. Best is trial 17 with value: 0.888891111848628.\n"
     ]
    },
    {
     "name": "stdout",
     "output_type": "stream",
     "text": [
      "Early stopping, best iteration is:\n",
      "[319]\tvalid_0's auc: 0.874026\n",
      "Training until validation scores don't improve for 100 rounds\n",
      "Early stopping, best iteration is:\n",
      "[205]\tvalid_0's auc: 0.902415\n",
      "Training until validation scores don't improve for 100 rounds\n",
      "Early stopping, best iteration is:\n",
      "[206]\tvalid_0's auc: 0.875121\n",
      "Training until validation scores don't improve for 100 rounds\n",
      "Early stopping, best iteration is:\n",
      "[286]\tvalid_0's auc: 0.89488\n",
      "Training until validation scores don't improve for 100 rounds\n",
      "Early stopping, best iteration is:\n",
      "[149]\tvalid_0's auc: 0.901189\n",
      "Training until validation scores don't improve for 100 rounds\n"
     ]
    },
    {
     "name": "stderr",
     "output_type": "stream",
     "text": [
      "[I 2025-06-25 18:19:13,521] Trial 23 finished with value: 0.8889861861267091 and parameters: {'lr': 0.09650275766144928, 'leaves': 95, 'depth': 6, 'min_data': 21, 'f_frac': 0.9029397156370819, 'b_frac': 0.8998241346911451, 'l1': 0.552845244074227, 'l2': 2.211944470969674}. Best is trial 23 with value: 0.8889861861267091.\n"
     ]
    },
    {
     "name": "stdout",
     "output_type": "stream",
     "text": [
      "Early stopping, best iteration is:\n",
      "[220]\tvalid_0's auc: 0.871326\n",
      "Training until validation scores don't improve for 100 rounds\n",
      "Early stopping, best iteration is:\n",
      "[239]\tvalid_0's auc: 0.902415\n",
      "Training until validation scores don't improve for 100 rounds\n",
      "Early stopping, best iteration is:\n",
      "[159]\tvalid_0's auc: 0.870764\n",
      "Training until validation scores don't improve for 100 rounds\n",
      "Early stopping, best iteration is:\n",
      "[353]\tvalid_0's auc: 0.893882\n",
      "Training until validation scores don't improve for 100 rounds\n",
      "Early stopping, best iteration is:\n",
      "[135]\tvalid_0's auc: 0.907604\n",
      "Training until validation scores don't improve for 100 rounds\n"
     ]
    },
    {
     "name": "stderr",
     "output_type": "stream",
     "text": [
      "[I 2025-06-25 18:19:22,419] Trial 24 finished with value: 0.8904962672119534 and parameters: {'lr': 0.0913427934817414, 'leaves': 95, 'depth': 6, 'min_data': 19, 'f_frac': 0.9154335802960357, 'b_frac': 0.919151953544159, 'l1': 0.5535925727866347, 'l2': 2.1791740227634264}. Best is trial 24 with value: 0.8904962672119534.\n"
     ]
    },
    {
     "name": "stdout",
     "output_type": "stream",
     "text": [
      "Early stopping, best iteration is:\n",
      "[253]\tvalid_0's auc: 0.877817\n",
      "Training until validation scores don't improve for 100 rounds\n",
      "Early stopping, best iteration is:\n",
      "[58]\tvalid_0's auc: 0.89833\n",
      "Training until validation scores don't improve for 100 rounds\n",
      "Early stopping, best iteration is:\n",
      "[21]\tvalid_0's auc: 0.888344\n",
      "Training until validation scores don't improve for 100 rounds\n",
      "Early stopping, best iteration is:\n",
      "[48]\tvalid_0's auc: 0.902112\n",
      "Training until validation scores don't improve for 100 rounds\n",
      "Early stopping, best iteration is:\n",
      "[25]\tvalid_0's auc: 0.903973\n",
      "Training until validation scores don't improve for 100 rounds\n",
      "Early stopping, best iteration is:\n",
      "[43]\tvalid_0's auc: 0.876483\n",
      "Summary of metrics (out-of-fold, unbiased):\n",
      "             n  Active  ROC_AUC    MCC     F1  Precision  Recall\n",
      "Receptor                                                        \n",
      "5HT1A     4342    3831    0.908  0.572  0.956      0.938   0.975\n",
      "5HT2A     3861    3205    0.860  0.456  0.921      0.891   0.954\n",
      "5HT2B     1394    1094    0.810  0.455  0.900      0.859   0.946\n",
      "5HT5A      338     219    0.843  0.491  0.835      0.797   0.877\n",
      "5HT6      3596    3136    0.933  0.640  0.958      0.944   0.973\n",
      "5HT7      2444    2039    0.889  0.508  0.932      0.896   0.970\n"
     ]
    },
    {
     "data": {
      "text/html": [
       "<h3>Metrics summary (out-of-fold, 5-fold CV)</h3>"
      ],
      "text/plain": [
       "<IPython.core.display.HTML object>"
      ]
     },
     "metadata": {},
     "output_type": "display_data"
    },
    {
     "data": {
      "text/html": [
       "<div>\n",
       "<style scoped>\n",
       "    .dataframe tbody tr th:only-of-type {\n",
       "        vertical-align: middle;\n",
       "    }\n",
       "\n",
       "    .dataframe tbody tr th {\n",
       "        vertical-align: top;\n",
       "    }\n",
       "\n",
       "    .dataframe thead th {\n",
       "        text-align: right;\n",
       "    }\n",
       "</style>\n",
       "<table border=\"1\" class=\"dataframe\">\n",
       "  <thead>\n",
       "    <tr style=\"text-align: right;\">\n",
       "      <th></th>\n",
       "      <th>n</th>\n",
       "      <th>Active</th>\n",
       "      <th>ROC_AUC</th>\n",
       "      <th>MCC</th>\n",
       "      <th>F1</th>\n",
       "      <th>Precision</th>\n",
       "      <th>Recall</th>\n",
       "    </tr>\n",
       "    <tr>\n",
       "      <th>Receptor</th>\n",
       "      <th></th>\n",
       "      <th></th>\n",
       "      <th></th>\n",
       "      <th></th>\n",
       "      <th></th>\n",
       "      <th></th>\n",
       "      <th></th>\n",
       "    </tr>\n",
       "  </thead>\n",
       "  <tbody>\n",
       "    <tr>\n",
       "      <th>5HT1A</th>\n",
       "      <td>4342</td>\n",
       "      <td>3831</td>\n",
       "      <td>0.908</td>\n",
       "      <td>0.572</td>\n",
       "      <td>0.956</td>\n",
       "      <td>0.938</td>\n",
       "      <td>0.975</td>\n",
       "    </tr>\n",
       "    <tr>\n",
       "      <th>5HT2A</th>\n",
       "      <td>3861</td>\n",
       "      <td>3205</td>\n",
       "      <td>0.860</td>\n",
       "      <td>0.456</td>\n",
       "      <td>0.921</td>\n",
       "      <td>0.891</td>\n",
       "      <td>0.954</td>\n",
       "    </tr>\n",
       "    <tr>\n",
       "      <th>5HT2B</th>\n",
       "      <td>1394</td>\n",
       "      <td>1094</td>\n",
       "      <td>0.810</td>\n",
       "      <td>0.455</td>\n",
       "      <td>0.900</td>\n",
       "      <td>0.859</td>\n",
       "      <td>0.946</td>\n",
       "    </tr>\n",
       "    <tr>\n",
       "      <th>5HT5A</th>\n",
       "      <td>338</td>\n",
       "      <td>219</td>\n",
       "      <td>0.843</td>\n",
       "      <td>0.491</td>\n",
       "      <td>0.835</td>\n",
       "      <td>0.797</td>\n",
       "      <td>0.877</td>\n",
       "    </tr>\n",
       "    <tr>\n",
       "      <th>5HT6</th>\n",
       "      <td>3596</td>\n",
       "      <td>3136</td>\n",
       "      <td>0.933</td>\n",
       "      <td>0.640</td>\n",
       "      <td>0.958</td>\n",
       "      <td>0.944</td>\n",
       "      <td>0.973</td>\n",
       "    </tr>\n",
       "    <tr>\n",
       "      <th>5HT7</th>\n",
       "      <td>2444</td>\n",
       "      <td>2039</td>\n",
       "      <td>0.889</td>\n",
       "      <td>0.508</td>\n",
       "      <td>0.932</td>\n",
       "      <td>0.896</td>\n",
       "      <td>0.970</td>\n",
       "    </tr>\n",
       "  </tbody>\n",
       "</table>\n",
       "</div>"
      ],
      "text/plain": [
       "             n  Active  ROC_AUC    MCC     F1  Precision  Recall\n",
       "Receptor                                                        \n",
       "5HT1A     4342    3831    0.908  0.572  0.956      0.938   0.975\n",
       "5HT2A     3861    3205    0.860  0.456  0.921      0.891   0.954\n",
       "5HT2B     1394    1094    0.810  0.455  0.900      0.859   0.946\n",
       "5HT5A      338     219    0.843  0.491  0.835      0.797   0.877\n",
       "5HT6      3596    3136    0.933  0.640  0.958      0.944   0.973\n",
       "5HT7      2444    2039    0.889  0.508  0.932      0.896   0.970"
      ]
     },
     "metadata": {},
     "output_type": "display_data"
    },
    {
     "data": {
      "image/png": "[encoded data removed]",
      "text/plain": [
       "<Figure size 600x400 with 1 Axes>"
      ]
     },
     "metadata": {},
     "output_type": "display_data"
    }
   ],
   "source": [
    "# =============================================================\n",
    "# Batch run for all receptors (cleaned_5HT*.csv)\n",
    "# - Uses out-of-fold predictions for unbiased metrics\n",
    "# =============================================================\n",
    "import glob\n",
    "import os\n",
    "import warnings\n",
    "import joblib\n",
    "import json\n",
    "import numpy as np\n",
    "import pandas as pd\n",
    "from pathlib import Path\n",
    "from tqdm.auto import tqdm\n",
    "import lightgbm as lgb\n",
    "from lightgbm import early_stopping, log_evaluation\n",
    "import matplotlib.pyplot as plt\n",
    "from sklearn.metrics import (\n",
    "    roc_auc_score, matthews_corrcoef, f1_score,\n",
    "    precision_score, recall_score\n",
    ")\n",
    "from sklearn.model_selection import StratifiedKFold\n",
    "from sklearn.preprocessing import StandardScaler\n",
    "from rdkit import Chem, DataStructs\n",
    "from rdkit.Chem import AllChem, Descriptors, Crippen, rdMolDescriptors\n",
    "import optuna\n",
    "\n",
    "warnings.filterwarnings(\"ignore\")\n",
    "\n",
    "# ---------- 0. Global parameters ----------------------\n",
    "CSV_DIR      = \"../Cleaned_data\"  # Folder with all CSV files\n",
    "SAVE_MODELS  = True\n",
    "N_FOLDS      = 5\n",
    "SEED         = 42\n",
    "N_TRIALS     = 25\n",
    "EARLY_STOP   = 100\n",
    "FP_RADIUS    = 2\n",
    "N_BITS       = 1024\n",
    "ACTIVE_THR   = 1000  # Ki < 1000 nM is considered active\n",
    "\n",
    "# ---------- 1. Descriptor calculation function ----------------------\n",
    "def physchem(mol):\n",
    "    \"\"\"Calculate RDKit physicochemical descriptors for a molecule.\"\"\"\n",
    "    return np.array([\n",
    "        Descriptors.MolWt(mol),\n",
    "        Descriptors.MolLogP(mol),\n",
    "        Crippen.MolMR(mol),\n",
    "        Descriptors.NumHAcceptors(mol),\n",
    "        Descriptors.NumHDonors(mol),\n",
    "        Descriptors.NumRotatableBonds(mol),\n",
    "        Descriptors.RingCount(mol),\n",
    "        Descriptors.FractionCSP3(mol),\n",
    "        rdMolDescriptors.CalcTPSA(mol),\n",
    "        rdMolDescriptors.CalcNumAliphaticRings(mol),\n",
    "        rdMolDescriptors.CalcNumAromaticRings(mol),\n",
    "        rdMolDescriptors.CalcNumSaturatedRings(mol),\n",
    "        rdMolDescriptors.CalcNumAliphaticCarbocycles(mol),\n",
    "        rdMolDescriptors.CalcNumAromaticCarbocycles(mol),\n",
    "        rdMolDescriptors.CalcNumSaturatedCarbocycles(mol),\n",
    "        rdMolDescriptors.CalcNumAliphaticHeterocycles(mol),\n",
    "        rdMolDescriptors.CalcNumAromaticHeterocycles(mol),\n",
    "        rdMolDescriptors.CalcNumSaturatedHeterocycles(mol),\n",
    "        rdMolDescriptors.CalcNumHeteroatoms(mol),\n",
    "        rdMolDescriptors.CalcNumAmideBonds(mol),\n",
    "        float(Chem.GetFormalCharge(mol)),\n",
    "        rdMolDescriptors.CalcExactMolWt(mol),\n",
    "        rdMolDescriptors.CalcNumAtomStereoCenters(mol),\n",
    "        rdMolDescriptors.CalcNumUnspecifiedAtomStereoCenters(mol),\n",
    "        Descriptors.NumValenceElectrons(mol),\n",
    "        rdMolDescriptors.CalcLabuteASA(mol)\n",
    "    ], dtype=np.float32)\n",
    "\n",
    "# ---------- 2. Train one receptor with OOF evaluation ----------------------\n",
    "def train_one_receptor(csv_path: str, save_dir=\"models\", results_dir=\"results\"):\n",
    "    # 1. Load data and create binary label\n",
    "    df = (\n",
    "        pd.read_csv(csv_path)\n",
    "          .dropna(subset=[\"Smiles\", \"Standard Value\"])\n",
    "          .drop_duplicates(subset=\"Smiles\")\n",
    "    )\n",
    "    df[\"Active\"] = (df[\"Standard Value\"] < ACTIVE_THR).astype(int)\n",
    "    y = df[\"Active\"].values\n",
    "\n",
    "    # 2. Featurization (Morgan fingerprint + RDKit descriptors)\n",
    "    fps, descs = [], []\n",
    "    for smi in df[\"Smiles\"]:\n",
    "        mol = Chem.MolFromSmiles(smi)\n",
    "        if mol is None:\n",
    "            continue\n",
    "        fp = AllChem.GetMorganFingerprintAsBitVect(mol, FP_RADIUS, N_BITS)\n",
    "        arr = np.zeros((N_BITS,), dtype=np.int8)\n",
    "        DataStructs.ConvertToNumpyArray(fp, arr)\n",
    "        fps.append(arr)\n",
    "        descs.append(physchem(mol))\n",
    "    X_fp = np.vstack(fps).astype(np.uint8)\n",
    "    X_ds = np.vstack(descs).astype(np.float32)\n",
    "    X_all = np.hstack([X_fp, X_ds])\n",
    "    n_desc = X_ds.shape[1]  # number of descriptors\n",
    "\n",
    "# 3. Optuna hyperparameter tuning\n",
    "    def objective(trial):\n",
    "        params = {\n",
    "            \"objective\": \"binary\",\n",
    "            \"metric\": \"auc\",\n",
    "            \"verbosity\": -1,\n",
    "            \"seed\": SEED,\n",
    "            \"boosting_type\": \"gbdt\",\n",
    "            \"learning_rate\": trial.suggest_float(\"lr\", 0.01, 0.3, log=True),\n",
    "            \"num_leaves\": trial.suggest_int(\"leaves\", 31, 256, step=8),\n",
    "            \"max_depth\": trial.suggest_int(\"depth\", 3, 12),\n",
    "            \"min_data_in_leaf\": trial.suggest_int(\"min_data\", 10, 100),\n",
    "            \"feature_fraction\": trial.suggest_float(\"f_frac\", 0.6, 1.0),\n",
    "            \"bagging_fraction\": trial.suggest_float(\"b_frac\", 0.6, 1.0),\n",
    "            \"bagging_freq\": 1,\n",
    "            \"lambda_l1\": trial.suggest_float(\"l1\", 0, 5),\n",
    "            \"lambda_l2\": trial.suggest_float(\"l2\", 0, 5),\n",
    "        }\n",
    "        cv = StratifiedKFold(n_splits=N_FOLDS, shuffle=True, random_state=SEED)\n",
    "        aucs = []\n",
    "        for tr_idx, te_idx in cv.split(X_all, y):\n",
    "            scaler = StandardScaler().fit(X_all[tr_idx, -n_desc:])\n",
    "            Xtr = X_all[tr_idx].copy()\n",
    "            Xtr[:, -n_desc:] = scaler.transform(Xtr[:, -n_desc:])\n",
    "            Xte = X_all[te_idx].copy()\n",
    "            Xte[:, -n_desc:] = scaler.transform(Xte[:, -n_desc:])\n",
    "            model = lgb.train(\n",
    "                params,\n",
    "                lgb.Dataset(Xtr, y[tr_idx]),\n",
    "                2000,\n",
    "                [lgb.Dataset(Xte, y[te_idx])],\n",
    "                callbacks=[early_stopping(EARLY_STOP), log_evaluation(False)]\n",
    "            )\n",
    "            aucs.append(roc_auc_score(y[te_idx], model.predict(Xte)))\n",
    "        return np.mean(aucs)\n",
    "\n",
    "    study = optuna.create_study(\n",
    "        direction=\"maximize\",\n",
    "        sampler=optuna.samplers.TPESampler(seed=SEED)\n",
    "    )\n",
    "    study.optimize(objective, n_trials=N_TRIALS, show_progress_bar=False)\n",
    "    best_params = study.best_params | {\n",
    "        \"objective\": \"binary\",\n",
    "        \"metric\": \"auc\",\n",
    "        \"verbosity\": -1,\n",
    "        \"seed\": SEED\n",
    "    }\n",
    "\n",
    "# 4. OOF predictions for unbiased metrics \n",
    "    y_oof_pred = np.zeros_like(y, dtype=float)\n",
    "    kf = StratifiedKFold(n_splits=N_FOLDS, shuffle=True, random_state=SEED)\n",
    "    for tr_idx, te_idx in kf.split(X_all, y):\n",
    "        scaler = StandardScaler().fit(X_all[tr_idx, -n_desc:])\n",
    "        Xtr = X_all[tr_idx].copy()\n",
    "        Xtr[:, -n_desc:] = scaler.transform(Xtr[:, -n_desc:])\n",
    "        Xte = X_all[te_idx].copy()\n",
    "        Xte[:, -n_desc:] = scaler.transform(Xte[:, -n_desc:])\n",
    "        model = lgb.train(\n",
    "            best_params,\n",
    "            lgb.Dataset(Xtr, y[tr_idx]),\n",
    "            2000,\n",
    "            [lgb.Dataset(Xte, y[te_idx])],\n",
    "            callbacks=[early_stopping(EARLY_STOP), log_evaluation(False)]\n",
    "        )\n",
    "        y_oof_pred[te_idx] = model.predict(Xte)\n",
    "\n",
    "# 5. Final model trained on all data \n",
    "    scaler_full = StandardScaler().fit(X_all[:, -n_desc:])\n",
    "    X_all_scaled = X_all.copy()\n",
    "    X_all_scaled[:, -n_desc:] = scaler_full.transform(X_all_scaled[:, -n_desc:])\n",
    "    final_model = lgb.train(\n",
    "        best_params,\n",
    "        lgb.Dataset(X_all_scaled, y),\n",
    "        num_boost_round=int(model.best_iteration * 1.1)\n",
    "    )\n",
    "\n",
    "# 6. Save model, scaler, and OOF results \n",
    "    receptor_name = Path(csv_path).stem.split(\"_\")[1]\n",
    "    if SAVE_MODELS:\n",
    "        os.makedirs(save_dir, exist_ok=True)\n",
    "        os.makedirs(results_dir, exist_ok=True)\n",
    "        joblib.dump(final_model, os.path.join(save_dir, f\"LGBM_ECFP_RDKit_{receptor_name}.pkl\"))\n",
    "        joblib.dump(scaler_full, os.path.join(save_dir, f\"scaler_{receptor_name}.pkl\"))\n",
    "        np.save(os.path.join(results_dir, f\"oof_pred_{receptor_name}.npy\"), y_oof_pred)\n",
    "        np.save(os.path.join(results_dir, f\"y_{receptor_name}.npy\"), y)\n",
    "\n",
    "# 7. Compute metrics based on OOF predictions \n",
    "    roc_auc = roc_auc_score(y, y_oof_pred)\n",
    "    mcc     = matthews_corrcoef(y, y_oof_pred >= 0.5)\n",
    "    f1      = f1_score(y, y_oof_pred >= 0.5)\n",
    "    precision = precision_score(y, y_oof_pred >= 0.5)\n",
    "    recall    = recall_score(y, y_oof_pred >= 0.5)\n",
    "\n",
    "    return {\n",
    "        \"Receptor\": receptor_name,\n",
    "        \"n\": len(y),\n",
    "        \"Active\": int(y.sum()),\n",
    "        \"ROC_AUC\": roc_auc,\n",
    "        \"MCC\": mcc,\n",
    "        \"F1\": f1,\n",
    "        \"Precision\": precision,\n",
    "        \"Recall\": recall\n",
    "    }\n",
    "\n",
    "# ---------- 3. Batch run for all CSV files ----------------------\n",
    "csv_files = sorted(glob.glob(f\"{CSV_DIR}/cleaned_5HT*.csv\"))\n",
    "results = []\n",
    "for csv_path in tqdm(csv_files, desc=\"Batch\"):\n",
    "    try:\n",
    "        results.append(train_one_receptor(csv_path))\n",
    "    except Exception as e:\n",
    "        print(f\"WARNING: {csv_path}: {e}\")\n",
    "\n",
    "# ---------- 4. Save and display summary ----------------------\n",
    "summary_df = (\n",
    "    pd.DataFrame(results)\n",
    "      .set_index(\"Receptor\")\n",
    "      .round(3)\n",
    "      .sort_index()\n",
    ")\n",
    "summary_df.to_csv(\"metrics_summary.csv\")\n",
    "print(\"Summary of metrics (out-of-fold, unbiased):\")\n",
    "print(summary_df)\n",
    "\n",
    "# Optionally display as HTML table (if in Jupyter)\n",
    "try:\n",
    "    from IPython.display import display, HTML\n",
    "    display(HTML(\"<h3>Metrics summary (out-of-fold, 5-fold CV)</h3>\"))\n",
    "    display(summary_df)\n",
    "except ImportError:\n",
    "    pass\n",
    "\n",
    "plt.figure(figsize=(6, 4))\n",
    "plt.bar(summary_df.index, summary_df[\"ROC_AUC\"])\n",
    "plt.ylim(0, 1)\n",
    "plt.ylabel(\"ROC-AUC\")\n",
    "plt.title(\"Model performance per receptor (out-of-fold)\")\n",
    "plt.tight_layout()\n",
    "plt.show()\n"
   ]
  },
  {
   "cell_type": "code",
   "execution_count": 2,
   "id": "3afc1d51-e63f-40c4-b98a-9982f2b379ee",
   "metadata": {},
   "outputs": [
    {
     "name": "stdout",
     "output_type": "stream",
     "text": [
      "5HT2A: all artifacts have been saved.\n",
      "5HT1A: all artifacts have been saved.\n",
      "5HT5A: all artifacts have been saved.\n",
      "5HT7: all artifacts have been saved.\n",
      "5HT6: all artifacts have been saved.\n",
      "5HT2B: all artifacts have been saved.\n"
     ]
    }
   ],
   "source": [
    "import os\n",
    "import joblib\n",
    "import numpy as np\n",
    "import pandas as pd\n",
    "import matplotlib.pyplot as plt\n",
    "\n",
    "# Global matplotlib style\n",
    "plt.rcParams.update({\n",
    "    'font.size':        10,\n",
    "    'legend.fontsize':   9,\n",
    "    'axes.titlesize':   12,\n",
    "    'axes.labelsize':   11,\n",
    "    'xtick.labelsize':   8,\n",
    "    'ytick.labelsize':   8,\n",
    "    'legend.frameon':   True,\n",
    "    'legend.edgecolor': 'gray',\n",
    "    'legend.facecolor': 'white'\n",
    "})\n",
    "\n",
    "from pathlib import Path\n",
    "from sklearn.metrics import (\n",
    "    roc_auc_score, matthews_corrcoef, f1_score,\n",
    "    precision_score, recall_score,\n",
    "    confusion_matrix, roc_curve, precision_recall_curve,\n",
    "    average_precision_score\n",
    ")\n",
    "from matplotlib.colors import ListedColormap\n",
    "from io import BytesIO\n",
    "import base64\n",
    "\n",
    "from rdkit import Chem, DataStructs\n",
    "from rdkit.Chem import AllChem, Draw\n",
    "\n",
    "# ----------  PARAMETERS ---------- \n",
    "RESULTS_DIR = \"results\"\n",
    "MODELS_DIR  = \"models\"\n",
    "CSV_DIR     = \"/Users/anastazja/magisterka 2024:2025/sem 1/phyton/Project/5HT5A/ML_LAB/5HT\"\n",
    "N_BITS      = 1024\n",
    "FP_RADIUS   = 2\n",
    "\n",
    "def draw_ecfp_fragment(mol, bit_info, bit_id, radius=FP_RADIUS):\n",
    "    \"\"\"\n",
    "    Highlight atoms responsible for a given ECFP bit.\n",
    "    Returns a PIL.Image or None if the bit is not present.\n",
    "    \"\"\"\n",
    "    if bit_id not in bit_info:\n",
    "        return None\n",
    "    # select atoms within the specified radius\n",
    "    atoms = [atom for atom, dist in bit_info[bit_id] if dist <= radius]\n",
    "    if not atoms:\n",
    "        return None\n",
    "    return Draw.MolToImage(\n",
    "        mol,\n",
    "        highlightAtoms=atoms,\n",
    "        highlightColor=(1.0, 0.2, 0.2),\n",
    "        size=(250, 250)\n",
    "    )\n",
    "\n",
    "def save_all_artifacts(receptor_name,\n",
    "                       models_dir=MODELS_DIR,\n",
    "                       results_dir=RESULTS_DIR,\n",
    "                       csv_dir=CSV_DIR):\n",
    "    out_dir = Path(results_dir) / receptor_name\n",
    "    out_dir.mkdir(parents=True, exist_ok=True)\n",
    "\n",
    "    # 1. Load true labels and out-of-fold probabilities\n",
    "    y_true  = np.load(Path(results_dir) / f\"y_{receptor_name}.npy\")\n",
    "    y_score = np.load(Path(results_dir) / f\"oof_pred_{receptor_name}.npy\")\n",
    "    y_pred  = (y_score >= 0.5).astype(int)\n",
    "\n",
    "    # 2. Confusion matrix plot\n",
    "    cm = confusion_matrix(y_true, y_pred)\n",
    "    mask = np.zeros_like(cm, dtype=int)\n",
    "    mask[0,0] = 1  # true negative\n",
    "    mask[1,1] = 1  # true positive\n",
    "    cmap = ListedColormap(['#FFCDD2', '#B9F6CA'])\n",
    "    fig, ax = plt.subplots(figsize=(4, 4))\n",
    "    ax.imshow(mask, cmap=cmap, vmin=0, vmax=1)\n",
    "    for i in range(2):\n",
    "        for j in range(2):\n",
    "            ax.text(\n",
    "                j, i, cm[i, j],\n",
    "                ha='center', va='center',\n",
    "                fontsize=13, fontweight='bold'\n",
    "            )\n",
    "    ax.set_xticks([0, 1])\n",
    "    ax.set_yticks([0, 1])\n",
    "    ax.set_xticklabels(['0', '1'])\n",
    "    ax.set_yticklabels(['0', '1'])\n",
    "    ax.set_xlabel('Predicted label')\n",
    "    ax.set_ylabel('True label')\n",
    "    ax.set_title('Confusion Matrix')\n",
    "    fig.savefig(out_dir / 'confusion_matrix.png', dpi=300)\n",
    "    plt.close(fig)\n",
    "\n",
    "    # 3. ROC curve (out-of-fold)\n",
    "    fpr, tpr, _ = roc_curve(y_true, y_score)\n",
    "    roc_auc = roc_auc_score(y_true, y_score)\n",
    "    fig, ax = plt.subplots(figsize=(4.5, 4))\n",
    "    ax.plot(fpr, tpr, lw=2, label=f'ROC AUC = {roc_auc:.2f}')\n",
    "    ax.plot([0, 1], [0, 1], '--', lw=1, label='Random')\n",
    "    ax.set_xlabel('False positive rate')\n",
    "    ax.set_ylabel('True positive rate')\n",
    "    ax.set_title('ROC Curve')\n",
    "    ax.legend(frameon=False)\n",
    "    fig.savefig(out_dir / 'roc_curve.png', dpi=300)\n",
    "    plt.close(fig)\n",
    "\n",
    "    # 4. Precision–recall curve (out-of-fold)\n",
    "    precision, recall, _ = precision_recall_curve(y_true, y_score)\n",
    "    pr_auc = average_precision_score(y_true, y_score)\n",
    "    fig, ax = plt.subplots(figsize=(5, 4))\n",
    "    ax.plot(recall, precision, lw=2, label=f'PR AUC = {pr_auc:.2f}')\n",
    "    ax.set_xlabel('Recall')\n",
    "    ax.set_ylabel('Precision')\n",
    "    ax.set_title('Precision–Recall Curve')\n",
    "    ax.legend(frameon=False)\n",
    "    fig.savefig(out_dir / 'pr_curve.png', dpi=300)\n",
    "    plt.close(fig)\n",
    "\n",
    "    # 5. Feature importance\n",
    "    model_path = Path(models_dir) / f\"LGBM_ECFP_RDKit_{receptor_name}.pkl\"\n",
    "    model = joblib.load(model_path)\n",
    "    importances = model.feature_importance(importance_type='gain')\n",
    "    feat_names = (\n",
    "        [f'Bit_{i}' for i in range(N_BITS)]\n",
    "        + [\n",
    "            'MolWt', 'MolLogP', 'MolMR', 'NumHAcceptors',\n",
    "            'NumHDonors', 'NumRotatableBonds', 'RingCount',\n",
    "            'FractionCSP3', 'TPSA', 'NumAliphaticRings',\n",
    "            'NumAromaticRings', 'NumSaturatedRings',\n",
    "            'NumAliphCarbocycles', 'NumAromCarbocycles',\n",
    "            'NumSatCarbocycles', 'NumAliphHet', 'NumAromHet',\n",
    "            'NumSatHet', 'NumHeteroatoms', 'NumAmideBonds',\n",
    "            'FormalCharge', 'ExactMolWt', 'NumAtomStereoCenters',\n",
    "            'NumUnspecAtomStereoCenters', 'NumValenceElectrons',\n",
    "            'LabuteASA'\n",
    "        ]\n",
    "    )\n",
    "    fi = pd.DataFrame({\n",
    "        'feature': feat_names,\n",
    "        'importance': importances\n",
    "    }).sort_values('importance', ascending=False)\n",
    "    fi.to_csv(out_dir / 'top_features.csv', index=False)\n",
    "\n",
    "    # 6. Generate HTML table of top-10 fingerprint bits with fragment images\n",
    "    try:\n",
    "        csv_path = Path(csv_dir) / f\"cleaned_{receptor_name}.csv\"\n",
    "        if not csv_path.exists():\n",
    "            csv_path = next(Path(csv_dir).glob(f\"*{receptor_name}*.csv\"), None)\n",
    "        smiles_list = pd.read_csv(csv_path)[\"Smiles\"].tolist()\n",
    "    except Exception:\n",
    "        smiles_list = []\n",
    "\n",
    "    top_bits = fi[fi['feature'].str.startswith('Bit_')].head(10).reset_index(drop=True)\n",
    "    html = \"<h3>Top 10 ECFP Bits by Gain</h3>\"\n",
    "    html += \"<table><tr><th>Bit</th><th>Gain</th><th>Fragment</th></tr>\"\n",
    "\n",
    "    for _, row in top_bits.iterrows():\n",
    "        bit_id = int(row['feature'].split('_')[1])\n",
    "        gain = row['importance']\n",
    "        cell = \"<td style='color:#888'>N/A</td>\"\n",
    "        for smi in smiles_list:\n",
    "            mol = Chem.MolFromSmiles(smi)\n",
    "            bit_info = {}\n",
    "            _ = AllChem.GetMorganFingerprintAsBitVect(\n",
    "                mol, FP_RADIUS, nBits=N_BITS, bitInfo=bit_info\n",
    "            )\n",
    "            if bit_id in bit_info:\n",
    "                img = draw_ecfp_fragment(mol, bit_info, bit_id)\n",
    "                buf = BytesIO()\n",
    "                img.save(buf, format='PNG')\n",
    "                b64 = base64.b64encode(buf.getvalue()).decode()\n",
    "                cell = f\"<td><img src='data:image/png;base64,{b64}'/></td>\"\n",
    "                break\n",
    "        html += f\"<tr><td>{bit_id}</td><td>{gain:.1f}</td>{cell}</tr>\"\n",
    "    html += \"</table>\"\n",
    "\n",
    "    with open(out_dir / 'top_bits_fragments.html', 'w', encoding='utf-8') as f:\n",
    "        f.write(html)\n",
    "\n",
    "    print(f\"{receptor_name}: all artifacts have been saved.\")\n",
    "\n",
    "# ----------  Batch process all receptors ---------- \n",
    "results_path = Path(RESULTS_DIR)\n",
    "# Collect all subdirectories whose names start with \"5HT\"\n",
    "receptor_dirs = [\n",
    "    p.name for p in results_path.iterdir()\n",
    "    if p.is_dir() and p.name.startswith(\"5HT\")\n",
    "]\n",
    "\n",
    "for rec in receptor_dirs:\n",
    "    save_all_artifacts(rec)"
   ]
  }
 ],
 "metadata": {
  "kernelspec": {
   "display_name": "Python 3 (ipykernel)",
   "language": "python",
   "name": "python3"
  },
  "language_info": {
   "codemirror_mode": {
    "name": "ipython",
    "version": 3
   },
   "file_extension": ".py",
   "mimetype": "text/x-python",
   "name": "python",
   "nbconvert_exporter": "python",
   "pygments_lexer": "ipython3",
   "version": "3.10.16"
  }
 },
 "nbformat": 4,
 "nbformat_minor": 5
}
