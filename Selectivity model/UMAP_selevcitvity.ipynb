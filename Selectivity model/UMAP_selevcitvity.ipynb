{
 "cells": [
  {
   "cell_type": "code",
   "execution_count": null,
   "id": "e3e57156-a660-4069-9bf7-b398d5aa85f2",
   "metadata": {},
   "outputs": [
    {
     "name": "stderr",
     "output_type": "stream",
     "text": [
      "/opt/miniconda3/envs/mldd25/lib/python3.10/site-packages/sklearn/utils/deprecation.py:151: FutureWarning: 'force_all_finite' was renamed to 'ensure_all_finite' in 1.6 and will be removed in 1.8.\n",
      "  warnings.warn(\n",
      "/opt/miniconda3/envs/mldd25/lib/python3.10/site-packages/umap/umap_.py:1952: UserWarning: n_jobs value 1 overridden to 1 by setting random_state. Use no seed for parallelism.\n",
      "  warn(\n"
     ]
    },
    {
     "name": "stdout",
     "output_type": "stream",
     "text": [
      "Saved umap_plots/pair_5HT1A_5HT2A_umap.png\n"
     ]
    },
    {
     "name": "stderr",
     "output_type": "stream",
     "text": [
      "/opt/miniconda3/envs/mldd25/lib/python3.10/site-packages/sklearn/utils/deprecation.py:151: FutureWarning: 'force_all_finite' was renamed to 'ensure_all_finite' in 1.6 and will be removed in 1.8.\n",
      "  warnings.warn(\n",
      "/opt/miniconda3/envs/mldd25/lib/python3.10/site-packages/umap/umap_.py:1952: UserWarning: n_jobs value 1 overridden to 1 by setting random_state. Use no seed for parallelism.\n",
      "  warn(\n"
     ]
    },
    {
     "name": "stdout",
     "output_type": "stream",
     "text": [
      "Saved umap_plots/pair_5HT1A_5HT2B_umap.png\n"
     ]
    },
    {
     "name": "stderr",
     "output_type": "stream",
     "text": [
      "/opt/miniconda3/envs/mldd25/lib/python3.10/site-packages/sklearn/utils/deprecation.py:151: FutureWarning: 'force_all_finite' was renamed to 'ensure_all_finite' in 1.6 and will be removed in 1.8.\n",
      "  warnings.warn(\n",
      "/opt/miniconda3/envs/mldd25/lib/python3.10/site-packages/umap/umap_.py:1952: UserWarning: n_jobs value 1 overridden to 1 by setting random_state. Use no seed for parallelism.\n",
      "  warn(\n"
     ]
    },
    {
     "name": "stdout",
     "output_type": "stream",
     "text": [
      "Saved umap_plots/pair_5HT1A_5HT5A_umap.png\n"
     ]
    },
    {
     "name": "stderr",
     "output_type": "stream",
     "text": [
      "/opt/miniconda3/envs/mldd25/lib/python3.10/site-packages/sklearn/utils/deprecation.py:151: FutureWarning: 'force_all_finite' was renamed to 'ensure_all_finite' in 1.6 and will be removed in 1.8.\n",
      "  warnings.warn(\n",
      "/opt/miniconda3/envs/mldd25/lib/python3.10/site-packages/umap/umap_.py:1952: UserWarning: n_jobs value 1 overridden to 1 by setting random_state. Use no seed for parallelism.\n",
      "  warn(\n"
     ]
    },
    {
     "name": "stdout",
     "output_type": "stream",
     "text": [
      "Saved umap_plots/pair_5HT1A_5HT6_umap.png\n"
     ]
    },
    {
     "name": "stderr",
     "output_type": "stream",
     "text": [
      "/opt/miniconda3/envs/mldd25/lib/python3.10/site-packages/sklearn/utils/deprecation.py:151: FutureWarning: 'force_all_finite' was renamed to 'ensure_all_finite' in 1.6 and will be removed in 1.8.\n",
      "  warnings.warn(\n",
      "/opt/miniconda3/envs/mldd25/lib/python3.10/site-packages/umap/umap_.py:1952: UserWarning: n_jobs value 1 overridden to 1 by setting random_state. Use no seed for parallelism.\n",
      "  warn(\n"
     ]
    },
    {
     "name": "stdout",
     "output_type": "stream",
     "text": [
      "Saved umap_plots/pair_5HT1A_5HT7_umap.png\n"
     ]
    },
    {
     "name": "stderr",
     "output_type": "stream",
     "text": [
      "/opt/miniconda3/envs/mldd25/lib/python3.10/site-packages/sklearn/utils/deprecation.py:151: FutureWarning: 'force_all_finite' was renamed to 'ensure_all_finite' in 1.6 and will be removed in 1.8.\n",
      "  warnings.warn(\n",
      "/opt/miniconda3/envs/mldd25/lib/python3.10/site-packages/umap/umap_.py:1952: UserWarning: n_jobs value 1 overridden to 1 by setting random_state. Use no seed for parallelism.\n",
      "  warn(\n"
     ]
    },
    {
     "name": "stdout",
     "output_type": "stream",
     "text": [
      "Saved umap_plots/pair_5HT2A_5HT2B_umap.png\n"
     ]
    },
    {
     "name": "stderr",
     "output_type": "stream",
     "text": [
      "/opt/miniconda3/envs/mldd25/lib/python3.10/site-packages/sklearn/utils/deprecation.py:151: FutureWarning: 'force_all_finite' was renamed to 'ensure_all_finite' in 1.6 and will be removed in 1.8.\n",
      "  warnings.warn(\n",
      "/opt/miniconda3/envs/mldd25/lib/python3.10/site-packages/umap/umap_.py:1952: UserWarning: n_jobs value 1 overridden to 1 by setting random_state. Use no seed for parallelism.\n",
      "  warn(\n"
     ]
    },
    {
     "name": "stdout",
     "output_type": "stream",
     "text": [
      "Saved umap_plots/pair_5HT2A_5HT5A_umap.png\n"
     ]
    },
    {
     "name": "stderr",
     "output_type": "stream",
     "text": [
      "/opt/miniconda3/envs/mldd25/lib/python3.10/site-packages/sklearn/utils/deprecation.py:151: FutureWarning: 'force_all_finite' was renamed to 'ensure_all_finite' in 1.6 and will be removed in 1.8.\n",
      "  warnings.warn(\n",
      "/opt/miniconda3/envs/mldd25/lib/python3.10/site-packages/umap/umap_.py:1952: UserWarning: n_jobs value 1 overridden to 1 by setting random_state. Use no seed for parallelism.\n",
      "  warn(\n"
     ]
    },
    {
     "name": "stdout",
     "output_type": "stream",
     "text": [
      "Saved umap_plots/pair_5HT2A_5HT6_umap.png\n"
     ]
    },
    {
     "name": "stderr",
     "output_type": "stream",
     "text": [
      "/opt/miniconda3/envs/mldd25/lib/python3.10/site-packages/sklearn/utils/deprecation.py:151: FutureWarning: 'force_all_finite' was renamed to 'ensure_all_finite' in 1.6 and will be removed in 1.8.\n",
      "  warnings.warn(\n",
      "/opt/miniconda3/envs/mldd25/lib/python3.10/site-packages/umap/umap_.py:1952: UserWarning: n_jobs value 1 overridden to 1 by setting random_state. Use no seed for parallelism.\n",
      "  warn(\n"
     ]
    },
    {
     "name": "stdout",
     "output_type": "stream",
     "text": [
      "Saved umap_plots/pair_5HT2A_5HT7_umap.png\n"
     ]
    },
    {
     "name": "stderr",
     "output_type": "stream",
     "text": [
      "/opt/miniconda3/envs/mldd25/lib/python3.10/site-packages/sklearn/utils/deprecation.py:151: FutureWarning: 'force_all_finite' was renamed to 'ensure_all_finite' in 1.6 and will be removed in 1.8.\n",
      "  warnings.warn(\n",
      "/opt/miniconda3/envs/mldd25/lib/python3.10/site-packages/umap/umap_.py:1952: UserWarning: n_jobs value 1 overridden to 1 by setting random_state. Use no seed for parallelism.\n",
      "  warn(\n"
     ]
    },
    {
     "name": "stdout",
     "output_type": "stream",
     "text": [
      "Saved umap_plots/pair_5HT2B_5HT5A_umap.png\n"
     ]
    },
    {
     "name": "stderr",
     "output_type": "stream",
     "text": [
      "/opt/miniconda3/envs/mldd25/lib/python3.10/site-packages/sklearn/utils/deprecation.py:151: FutureWarning: 'force_all_finite' was renamed to 'ensure_all_finite' in 1.6 and will be removed in 1.8.\n",
      "  warnings.warn(\n",
      "/opt/miniconda3/envs/mldd25/lib/python3.10/site-packages/umap/umap_.py:1952: UserWarning: n_jobs value 1 overridden to 1 by setting random_state. Use no seed for parallelism.\n",
      "  warn(\n"
     ]
    },
    {
     "name": "stdout",
     "output_type": "stream",
     "text": [
      "Saved umap_plots/pair_5HT2B_5HT6_umap.png\n"
     ]
    },
    {
     "name": "stderr",
     "output_type": "stream",
     "text": [
      "/opt/miniconda3/envs/mldd25/lib/python3.10/site-packages/sklearn/utils/deprecation.py:151: FutureWarning: 'force_all_finite' was renamed to 'ensure_all_finite' in 1.6 and will be removed in 1.8.\n",
      "  warnings.warn(\n",
      "/opt/miniconda3/envs/mldd25/lib/python3.10/site-packages/umap/umap_.py:1952: UserWarning: n_jobs value 1 overridden to 1 by setting random_state. Use no seed for parallelism.\n",
      "  warn(\n"
     ]
    },
    {
     "name": "stdout",
     "output_type": "stream",
     "text": [
      "Saved umap_plots/pair_5HT2B_5HT7_umap.png\n"
     ]
    },
    {
     "name": "stderr",
     "output_type": "stream",
     "text": [
      "/opt/miniconda3/envs/mldd25/lib/python3.10/site-packages/sklearn/utils/deprecation.py:151: FutureWarning: 'force_all_finite' was renamed to 'ensure_all_finite' in 1.6 and will be removed in 1.8.\n",
      "  warnings.warn(\n",
      "/opt/miniconda3/envs/mldd25/lib/python3.10/site-packages/umap/umap_.py:1952: UserWarning: n_jobs value 1 overridden to 1 by setting random_state. Use no seed for parallelism.\n",
      "  warn(\n"
     ]
    },
    {
     "name": "stdout",
     "output_type": "stream",
     "text": [
      "Saved umap_plots/pair_5HT5A_5HT6_umap.png\n"
     ]
    },
    {
     "name": "stderr",
     "output_type": "stream",
     "text": [
      "/opt/miniconda3/envs/mldd25/lib/python3.10/site-packages/sklearn/utils/deprecation.py:151: FutureWarning: 'force_all_finite' was renamed to 'ensure_all_finite' in 1.6 and will be removed in 1.8.\n",
      "  warnings.warn(\n",
      "/opt/miniconda3/envs/mldd25/lib/python3.10/site-packages/umap/umap_.py:1952: UserWarning: n_jobs value 1 overridden to 1 by setting random_state. Use no seed for parallelism.\n",
      "  warn(\n"
     ]
    },
    {
     "name": "stdout",
     "output_type": "stream",
     "text": [
      "Saved umap_plots/pair_5HT5A_5HT7_umap.png\n"
     ]
    },
    {
     "name": "stderr",
     "output_type": "stream",
     "text": [
      "/opt/miniconda3/envs/mldd25/lib/python3.10/site-packages/sklearn/utils/deprecation.py:151: FutureWarning: 'force_all_finite' was renamed to 'ensure_all_finite' in 1.6 and will be removed in 1.8.\n",
      "  warnings.warn(\n",
      "/opt/miniconda3/envs/mldd25/lib/python3.10/site-packages/umap/umap_.py:1952: UserWarning: n_jobs value 1 overridden to 1 by setting random_state. Use no seed for parallelism.\n",
      "  warn(\n"
     ]
    },
    {
     "name": "stdout",
     "output_type": "stream",
     "text": [
      "Saved umap_plots/pair_5HT6_5HT7_umap.png\n"
     ]
    }
   ],
   "source": [
    "import pandas as pd\n",
    "import numpy as np\n",
    "from rdkit import Chem, DataStructs\n",
    "from rdkit.Chem import AllChem, Descriptors, Crippen, rdMolDescriptors as rdMD\n",
    "from sklearn.preprocessing import StandardScaler\n",
    "from sklearn.metrics import silhouette_score, roc_auc_score\n",
    "from sklearn.neighbors import KNeighborsClassifier\n",
    "import matplotlib.pyplot as plt\n",
    "from umap import UMAP\n",
    "from pathlib import Path\n",
    "import glob\n",
    "\n",
    "# pathname\n",
    "from pathlib import Path\n",
    "\n",
    "SCRIPT_DIR = Path(__file__).resolve().parent      # folder with this script\n",
    "PAIR_DIR   = SCRIPT_DIR / \"pair_datasets\"        # ./pair_datasets/\n",
    "OUT_DIR    = SCRIPT_DIR / \"umap_plots\"           # ./umap_plots/\n",
    "OUT_DIR.mkdir(exist_ok=True)\n",
    "\n",
    "# features\n",
    "FP_RADIUS, N_BITS = 2, 1024\n",
    "\n",
    "def physchem(mol):\n",
    "    return np.array([\n",
    "        Descriptors.MolWt(mol), Descriptors.MolLogP(mol), Crippen.MolMR(mol),\n",
    "        Descriptors.NumHAcceptors(mol), Descriptors.NumHDonors(mol),\n",
    "        Descriptors.NumRotatableBonds(mol), Descriptors.RingCount(mol),\n",
    "        Descriptors.FractionCSP3(mol), rdMD.CalcTPSA(mol),\n",
    "        rdMD.CalcNumAliphaticRings(mol), rdMD.CalcNumAromaticRings(mol),\n",
    "        rdMD.CalcNumSaturatedRings(mol), rdMD.CalcNumAliphaticCarbocycles(mol),\n",
    "        rdMD.CalcNumAromaticCarbocycles(mol), rdMD.CalcNumSaturatedCarbocycles(mol),\n",
    "        rdMD.CalcNumAliphaticHeterocycles(mol), rdMD.CalcNumAromaticHeterocycles(mol),\n",
    "        rdMD.CalcNumSaturatedHeterocycles(mol), rdMD.CalcNumHeteroatoms(mol),\n",
    "        rdMD.CalcNumAmideBonds(mol), float(Chem.GetFormalCharge(mol)),\n",
    "        rdMD.CalcExactMolWt(mol), rdMD.CalcNumAtomStereoCenters(mol),\n",
    "        rdMD.CalcNumUnspecifiedAtomStereoCenters(mol), Descriptors.NumValenceElectrons(mol),\n",
    "        rdMD.CalcLabuteASA(mol)\n",
    "    ], dtype=np.float32)\n",
    "\n",
    "def featurize(smiles_list):\n",
    "    fps, desc = [], []\n",
    "    for smi in smiles_list:\n",
    "        mol = Chem.MolFromSmiles(smi)\n",
    "        if mol is None:\n",
    "            continue\n",
    "        fp = AllChem.GetMorganFingerprintAsBitVect(mol, FP_RADIUS, N_BITS)\n",
    "        arr = np.zeros(N_BITS, dtype=np.uint8)\n",
    "        DataStructs.ConvertToNumpyArray(fp, arr)\n",
    "        fps.append(arr)\n",
    "        desc.append(physchem(mol))\n",
    "    return np.hstack([np.vstack(fps), np.vstack(desc)])\n",
    "\n",
    "pairs = sorted(PAIR_DIR.glob(\"pair_*.csv\"))\n",
    "\n",
    "for pair_fp in pairs:\n",
    "    df = pd.read_csv(pair_fp)\n",
    "    smiles = df[\"Smiles\"]\n",
    "    X = featurize(smiles)\n",
    "    # |ΔpKi| > 1 → 1, other 0\n",
    "    y = (df.iloc[:, -1].abs() > 1).astype(int)\n",
    "\n",
    " \n",
    "    X_scaled = StandardScaler().fit_transform(X)\n",
    "    umap_2d = UMAP(n_neighbors=15, min_dist=0.1, random_state=42)\n",
    "    X_umap = umap_2d.fit_transform(X_scaled)\n",
    "\n",
    "    \n",
    "    sil = silhouette_score(X_umap, y)\n",
    "    knn = KNeighborsClassifier(n_neighbors=5).fit(X_umap, y)\n",
    "    roc = roc_auc_score(y, knn.predict_proba(X_umap)[:, 1])\n",
    "\n",
    "    plt.figure(figsize=(6, 6))\n",
    "    plt.scatter(\n",
    "        X_umap[y == 0, 0], X_umap[y == 0, 1],\n",
    "        c='red', edgecolors='white', linewidths=0.15,\n",
    "        alpha=0.7, label='Non-selective'\n",
    "    )\n",
    "    plt.scatter(\n",
    "        X_umap[y == 1, 0], X_umap[y == 1, 1],\n",
    "        c='blue', edgecolors='white', linewidths=0.15,\n",
    "        alpha=0.7, label='Selective'\n",
    "    )\n",
    "    plt.title(f\"{pair_fp.stem} | Sil={sil:.2f}, AUC={roc:.2f}\")\n",
    "    ax = plt.gca()\n",
    "    ax.set_xticks([]); ax.set_yticks([])\n",
    "    plt.legend(frameon=True)\n",
    "    plt.tight_layout()\n",
    "\n",
    "    # Save\n",
    "    out_path = OUT_DIR / f\"{pair_fp.stem}_umap.png\"\n",
    "    plt.savefig(out_path, dpi=300)\n",
    "    plt.close()\n",
    "    print(f\"Saved {out_path}\")\n"
   ]
  },
  {
   "cell_type": "code",
   "execution_count": null,
   "id": "fb98e729-6750-4cfa-a3f1-a7f7e2d4483c",
   "metadata": {},
   "outputs": [],
   "source": []
  }
 ],
 "metadata": {
  "kernelspec": {
   "display_name": "Python 3 (ipykernel)",
   "language": "python",
   "name": "python3"
  },
  "language_info": {
   "codemirror_mode": {
    "name": "ipython",
    "version": 3
   },
   "file_extension": ".py",
   "mimetype": "text/x-python",
   "name": "python",
   "nbconvert_exporter": "python",
   "pygments_lexer": "ipython3",
   "version": "3.10.16"
  }
 },
 "nbformat": 4,
 "nbformat_minor": 5
}
